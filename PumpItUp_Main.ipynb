{
 "cells": [
  {
   "cell_type": "markdown",
   "metadata": {},
   "source": [
    "## Final Project Submission - neuefische Data Science Bootcamp Capstone Project\n",
    "Student name / Author:\n",
    "    - Torben Holst"
   ]
  },
  {
   "cell_type": "markdown",
   "metadata": {
    "toc": true
   },
   "source": [
    "<h1>Table of Contents<span class=\"tocSkip\"></span></h1>\n",
    "<div class=\"toc\"><ul class=\"toc-item\"><li><ul class=\"toc-item\"><li><span><a href=\"#Final-Project-Submission---neuefische-Data-Science-Bootcamp-Capstone-Project\" data-toc-modified-id=\"Final-Project-Submission---neuefische-Data-Science-Bootcamp-Capstone-Project-0.1\"><span class=\"toc-item-num\">0.1&nbsp;&nbsp;</span>Final Project Submission - neuefische Data Science Bootcamp Capstone Project</a></span></li></ul></li><li><span><a href=\"#Pump-it-Up:-Data-Mining-the-Water-Table\" data-toc-modified-id=\"Pump-it-Up:-Data-Mining-the-Water-Table-1\"><span class=\"toc-item-num\">1&nbsp;&nbsp;</span>Pump it Up: Data Mining the Water Table</a></span><ul class=\"toc-item\"><li><span><a href=\"#Introduction\" data-toc-modified-id=\"Introduction-1.1\"><span class=\"toc-item-num\">1.1&nbsp;&nbsp;</span>Introduction</a></span></li><li><span><a href=\"#About-the-project\" data-toc-modified-id=\"About-the-project-1.2\"><span class=\"toc-item-num\">1.2&nbsp;&nbsp;</span>About the project</a></span></li></ul></li><li><span><a href=\"#Setting-up-the-Notebook\" data-toc-modified-id=\"Setting-up-the-Notebook-2\"><span class=\"toc-item-num\">2&nbsp;&nbsp;</span>Setting up the Notebook</a></span><ul class=\"toc-item\"><li><span><a href=\"#Import-of-relevant-modules\" data-toc-modified-id=\"Import-of-relevant-modules-2.1\"><span class=\"toc-item-num\">2.1&nbsp;&nbsp;</span>Import of relevant modules</a></span></li><li><span><a href=\"#Macros\" data-toc-modified-id=\"Macros-2.2\"><span class=\"toc-item-num\">2.2&nbsp;&nbsp;</span>Macros</a></span></li><li><span><a href=\"#Utile-Functions\" data-toc-modified-id=\"Utile-Functions-2.3\"><span class=\"toc-item-num\">2.3&nbsp;&nbsp;</span>Utile Functions</a></span><ul class=\"toc-item\"><li><span><a href=\"#Save-figure\" data-toc-modified-id=\"Save-figure-2.3.1\"><span class=\"toc-item-num\">2.3.1&nbsp;&nbsp;</span>Save figure</a></span></li><li><span><a href=\"#Plotting-Function\" data-toc-modified-id=\"Plotting-Function-2.3.2\"><span class=\"toc-item-num\">2.3.2&nbsp;&nbsp;</span>Plotting Function</a></span></li></ul></li></ul></li><li><span><a href=\"#Data-Mining\" data-toc-modified-id=\"Data-Mining-3\"><span class=\"toc-item-num\">3&nbsp;&nbsp;</span>Data Mining</a></span><ul class=\"toc-item\"><li><span><a href=\"#Initial-Import-of-the-data-and-merging-of-dataframes\" data-toc-modified-id=\"Initial-Import-of-the-data-and-merging-of-dataframes-3.1\"><span class=\"toc-item-num\">3.1&nbsp;&nbsp;</span>Initial Import of the data and merging of dataframes</a></span></li><li><span><a href=\"#Having-a-first-look-into-the-data\" data-toc-modified-id=\"Having-a-first-look-into-the-data-3.2\"><span class=\"toc-item-num\">3.2&nbsp;&nbsp;</span>Having a first look into the data</a></span></li><li><span><a href=\"#Export-data-to-pickle\" data-toc-modified-id=\"Export-data-to-pickle-3.3\"><span class=\"toc-item-num\">3.3&nbsp;&nbsp;</span>Export data to pickle</a></span></li></ul></li><li><span><a href=\"#Cleaning-of-the-Data\" data-toc-modified-id=\"Cleaning-of-the-Data-4\"><span class=\"toc-item-num\">4&nbsp;&nbsp;</span>Cleaning of the Data</a></span><ul class=\"toc-item\"><li><span><a href=\"#Initial-import-of-the-data\" data-toc-modified-id=\"Initial-import-of-the-data-4.1\"><span class=\"toc-item-num\">4.1&nbsp;&nbsp;</span>Initial import of the data</a></span></li><li><span><a href=\"#Cleaning-by-Exploration\" data-toc-modified-id=\"Cleaning-by-Exploration-4.2\"><span class=\"toc-item-num\">4.2&nbsp;&nbsp;</span>Cleaning by Exploration</a></span></li><li><span><a href=\"#Handling-missing-values\" data-toc-modified-id=\"Handling-missing-values-4.3\"><span class=\"toc-item-num\">4.3&nbsp;&nbsp;</span>Handling missing values</a></span><ul class=\"toc-item\"><li><span><a href=\"#population\" data-toc-modified-id=\"population-4.3.1\"><span class=\"toc-item-num\">4.3.1&nbsp;&nbsp;</span>population</a></span></li><li><span><a href=\"#construction_year\" data-toc-modified-id=\"construction_year-4.3.2\"><span class=\"toc-item-num\">4.3.2&nbsp;&nbsp;</span>construction_year</a></span></li><li><span><a href=\"#gps_height\" data-toc-modified-id=\"gps_height-4.3.3\"><span class=\"toc-item-num\">4.3.3&nbsp;&nbsp;</span>gps_height</a></span></li><li><span><a href=\"#scheme_management\" data-toc-modified-id=\"scheme_management-4.3.4\"><span class=\"toc-item-num\">4.3.4&nbsp;&nbsp;</span>scheme_management</a></span></li><li><span><a href=\"#installer\" data-toc-modified-id=\"installer-4.3.5\"><span class=\"toc-item-num\">4.3.5&nbsp;&nbsp;</span>installer</a></span></li><li><span><a href=\"#funder\" data-toc-modified-id=\"funder-4.3.6\"><span class=\"toc-item-num\">4.3.6&nbsp;&nbsp;</span>funder</a></span></li><li><span><a href=\"#wpt_name\" data-toc-modified-id=\"wpt_name-4.3.7\"><span class=\"toc-item-num\">4.3.7&nbsp;&nbsp;</span>wpt_name</a></span></li><li><span><a href=\"#public_meeting\" data-toc-modified-id=\"public_meeting-4.3.8\"><span class=\"toc-item-num\">4.3.8&nbsp;&nbsp;</span>public_meeting</a></span></li><li><span><a href=\"#permit\" data-toc-modified-id=\"permit-4.3.9\"><span class=\"toc-item-num\">4.3.9&nbsp;&nbsp;</span>permit</a></span></li><li><span><a href=\"#longitude\" data-toc-modified-id=\"longitude-4.3.10\"><span class=\"toc-item-num\">4.3.10&nbsp;&nbsp;</span>longitude</a></span></li><li><span><a href=\"#subvillage\" data-toc-modified-id=\"subvillage-4.3.11\"><span class=\"toc-item-num\">4.3.11&nbsp;&nbsp;</span>subvillage</a></span></li></ul></li><li><span><a href=\"#Features-with-no-or-nearly-the-same-information\" data-toc-modified-id=\"Features-with-no-or-nearly-the-same-information-4.4\"><span class=\"toc-item-num\">4.4&nbsp;&nbsp;</span>Features with no or nearly the same information</a></span><ul class=\"toc-item\"><li><span><a href=\"#payment-vs.-payment-type\" data-toc-modified-id=\"payment-vs.-payment-type-4.4.1\"><span class=\"toc-item-num\">4.4.1&nbsp;&nbsp;</span>payment vs. payment type</a></span></li><li><span><a href=\"#quantity-vs.-quantity_group\" data-toc-modified-id=\"quantity-vs.-quantity_group-4.4.2\"><span class=\"toc-item-num\">4.4.2&nbsp;&nbsp;</span>quantity vs. quantity_group</a></span></li><li><span><a href=\"#water_quality-vs.-quality_group\" data-toc-modified-id=\"water_quality-vs.-quality_group-4.4.3\"><span class=\"toc-item-num\">4.4.3&nbsp;&nbsp;</span>water_quality vs. quality_group</a></span></li><li><span><a href=\"#waterpoint_type-vs.-waterpoint_type_group\" data-toc-modified-id=\"waterpoint_type-vs.-waterpoint_type_group-4.4.4\"><span class=\"toc-item-num\">4.4.4&nbsp;&nbsp;</span>waterpoint_type vs. waterpoint_type_group</a></span></li><li><span><a href=\"#extraction_type-vs.-extraction_type_group-vs.-extraction_type_class\" data-toc-modified-id=\"extraction_type-vs.-extraction_type_group-vs.-extraction_type_class-4.4.5\"><span class=\"toc-item-num\">4.4.5&nbsp;&nbsp;</span>extraction_type vs. extraction_type_group vs. extraction_type_class</a></span></li><li><span><a href=\"#scheme_management-vs.-management-vs.-management_group\" data-toc-modified-id=\"scheme_management-vs.-management-vs.-management_group-4.4.6\"><span class=\"toc-item-num\">4.4.6&nbsp;&nbsp;</span>scheme_management vs. management vs. management_group</a></span></li><li><span><a href=\"#source-vs.-source_type-vs.-source_class\" data-toc-modified-id=\"source-vs.-source_type-vs.-source_class-4.4.7\"><span class=\"toc-item-num\">4.4.7&nbsp;&nbsp;</span>source vs. source_type vs. source_class</a></span></li></ul></li><li><span><a href=\"#Export-cleaned-data\" data-toc-modified-id=\"Export-cleaned-data-4.5\"><span class=\"toc-item-num\">4.5&nbsp;&nbsp;</span>Export cleaned data</a></span></li></ul></li><li><span><a href=\"#Data-Exploration\" data-toc-modified-id=\"Data-Exploration-5\"><span class=\"toc-item-num\">5&nbsp;&nbsp;</span>Data Exploration</a></span><ul class=\"toc-item\"><li><span><a href=\"#Initial-import-of-the-data\" data-toc-modified-id=\"Initial-import-of-the-data-5.1\"><span class=\"toc-item-num\">5.1&nbsp;&nbsp;</span>Initial import of the data</a></span></li><li><span><a href=\"#Features-to-drop?\" data-toc-modified-id=\"Features-to-drop?-5.2\"><span class=\"toc-item-num\">5.2&nbsp;&nbsp;</span>Features to drop?</a></span></li></ul></li><li><span><a href=\"#Feature-Engineering\" data-toc-modified-id=\"Feature-Engineering-6\"><span class=\"toc-item-num\">6&nbsp;&nbsp;</span>Feature Engineering</a></span></li><li><span><a href=\"#Predictive-Modeling\" data-toc-modified-id=\"Predictive-Modeling-7\"><span class=\"toc-item-num\">7&nbsp;&nbsp;</span>Predictive Modeling</a></span><ul class=\"toc-item\"><li><span><a href=\"#Building-a-preprocessing-pipeline\" data-toc-modified-id=\"Building-a-preprocessing-pipeline-7.1\"><span class=\"toc-item-num\">7.1&nbsp;&nbsp;</span>Building a preprocessing pipeline</a></span></li></ul></li></ul></div>"
   ]
  },
  {
   "cell_type": "code",
   "execution_count": 1,
   "metadata": {
    "ExecuteTime": {
     "end_time": "2020-04-19T13:23:25.538216Z",
     "start_time": "2020-04-19T13:23:25.506991Z"
    }
   },
   "outputs": [],
   "source": [
    "reset -fs"
   ]
  },
  {
   "cell_type": "markdown",
   "metadata": {},
   "source": [
    "# Pump it Up: Data Mining the Water Table"
   ]
  },
  {
   "cell_type": "markdown",
   "metadata": {
    "ExecuteTime": {
     "end_time": "2020-04-18T12:24:25.490152Z",
     "start_time": "2020-04-18T12:24:25.458933Z"
    }
   },
   "source": [
    "## Introduction"
   ]
  },
  {
   "cell_type": "markdown",
   "metadata": {},
   "source": [
    "This project is my Capstone project of the neuefische Data Science Bootcamp 2020 and aims at showing what have been learned in the past weeks. Within this project the whole Data Science Lifecycle, which is defined as the following steps, should be approached:\n",
    "\n",
    "1. Business Understanding\n",
    "2. Data Mining\n",
    "3. Data Cleaning\n",
    "4. Exploratory Data Analysis (EDA)\n",
    "5. Feature Engineering\n",
    "6. Predictive Modeling\n",
    "7. Data Visualization\n",
    "\n",
    "\n",
    "The structure of this notebook is based on these steps."
   ]
  },
  {
   "cell_type": "markdown",
   "metadata": {},
   "source": [
    "## About the project"
   ]
  },
  {
   "cell_type": "markdown",
   "metadata": {},
   "source": [
    "For my Capstone project im using a dataset from a competition, hosted on [drivendata.org](https://www.drivendata.org/competitions/7/pump-it-up-data-mining-the-water-table/page/23/). This competition aims at predicting the operating condition of waterpoints all over Tanzania. For this purpose data from Taarifa and the Tanzanian Ministry of Water is used. \"Taarifa is an open source platform for the crowd sourced reporting and triaging of infrastructure related issues. Think of it as a bug tracker for the real world which helps to engage citizens with their local government. We are currently working on an Innovation Project in Tanzania, with various partners.\" Being able to accurately predicting if a waterpoint needs some repair or maintenance could help providing the Tanzanian people with clean, potable water. Therefore a training dataset with nearly 60,000 instances and a testing dataset with around 15,000 instances is provided. All of these instances are described by 40 features.\n",
    "\n",
    "**Since 2010 the United Nations General Assembly explicitly recognized the human right to water and sanitation and acknowledged that clean drinking water and sanitation are essential to the realisation of all human rights.**"
   ]
  },
  {
   "cell_type": "markdown",
   "metadata": {},
   "source": [
    "# Setting up the Notebook "
   ]
  },
  {
   "cell_type": "markdown",
   "metadata": {},
   "source": [
    "## Import of relevant modules"
   ]
  },
  {
   "cell_type": "code",
   "execution_count": 17,
   "metadata": {
    "ExecuteTime": {
     "end_time": "2020-04-19T13:24:27.915171Z",
     "start_time": "2020-04-19T13:24:27.899550Z"
    }
   },
   "outputs": [],
   "source": [
    "import os\n",
    "import math\n",
    "\n",
    "# \n",
    "import numpy as np\n",
    "import pandas as pd\n",
    "\n",
    "# Visualization\n",
    "import matplotlib.pyplot as plt\n",
    "import seaborn as sns\n",
    "\n",
    "# Modeling\n",
    "# from sklearn.preprocessing import OneHotEncoder, StandardScaler, MinMaxScaler\n",
    "# from sklearn import linear_model, tree\n",
    "# from sklearn.model_selection import train_test_split,cross_val_score, cross_val_predict,GridSearchCV,RandomizedSearchCV\n",
    "# from sklearn.ensemble import RandomForestClassifier\n",
    "# from sklearn.linear_model import LogisticRegression\n",
    "#  \n",
    "# from sklearn.metrics import roc_curve, confusion_matrix,precision_recall_curve,roc_auc_score\n",
    "# from sklearn.metrics import precision_score, recall_score, f1_score, accuracy_score\n",
    "# \n",
    "# from sklearn.compose import ColumnTransformer\n",
    "# from sklearn.pipeline import Pipeline\n",
    "# from sklearn.impute import SimpleImputer\n",
    "# from sklearn.feature_selection import SelectFromModel\n",
    "# \n",
    "# sns.set()"
   ]
  },
  {
   "cell_type": "markdown",
   "metadata": {},
   "source": [
    "## Macros"
   ]
  },
  {
   "cell_type": "code",
   "execution_count": 68,
   "metadata": {
    "ExecuteTime": {
     "end_time": "2020-04-19T17:36:32.872717Z",
     "start_time": "2020-04-19T17:36:32.857339Z"
    }
   },
   "outputs": [],
   "source": [
    "DATA_FOLDER = './DrivenData_PumpItUp_Competition/'\n",
    "FIG_FOLDER = './figures/'\n",
    "MODEL_FOLDER = './model_pickle/'\n",
    "RSEED_SPLIT = 42\n",
    "RSEED_MOD = 144\n",
    "\n",
    "plt.style.use('seaborn-whitegrid')\n",
    "pd.options.display.max_columns = None\n",
    "pd.options.display.max_rows = None"
   ]
  },
  {
   "cell_type": "markdown",
   "metadata": {},
   "source": [
    "## Utile Functions"
   ]
  },
  {
   "cell_type": "markdown",
   "metadata": {},
   "source": [
    "### Save figure"
   ]
  },
  {
   "cell_type": "code",
   "execution_count": 4,
   "metadata": {
    "ExecuteTime": {
     "end_time": "2020-04-19T13:23:27.054094Z",
     "start_time": "2020-04-19T13:23:27.007409Z"
    }
   },
   "outputs": [],
   "source": [
    "def save_fig(sec_name, fig_name, tight_layout=True,dpi=600):\n",
    "    path = os.path.join(FIG_FOLDER , sec_name + '_'  + fig_name + \".png\")\n",
    "    print(\"Saving figure\", fig_name)\n",
    "    if tight_layout:\n",
    "        plt.tight_layout()\n",
    "    plt.savefig(path, format='png', dpi=dpi)"
   ]
  },
  {
   "cell_type": "markdown",
   "metadata": {},
   "source": [
    "### Plotting Function"
   ]
  },
  {
   "cell_type": "code",
   "execution_count": 5,
   "metadata": {
    "ExecuteTime": {
     "end_time": "2020-04-19T13:23:27.069647Z",
     "start_time": "2020-04-19T13:23:27.054094Z"
    }
   },
   "outputs": [],
   "source": [
    "def plot_distribution(dataset, cols=5, width=20, height=45, hspace=0.5, wspace=0.5):\n",
    "    plt.style.use('seaborn-whitegrid')\n",
    "    fig = plt.figure(figsize=(width,height))\n",
    "    fig.subplots_adjust(left=None, bottom=None, right=None, top=None, wspace=wspace, hspace=hspace)\n",
    "    rows = math.ceil(float(dataset.shape[1]) / cols)\n",
    "    for i, column in enumerate(dataset.columns):\n",
    "        ax = fig.add_subplot(rows, cols, i + 1)\n",
    "        ax.set_title(column)\n",
    "        if dataset.dtypes[column] == np.object:\n",
    "            g = sns.countplot(y=column, data=dataset)\n",
    "            substrings = [s.get_text()[:18] for s in g.get_yticklabels()]\n",
    "            g.set(yticklabels=substrings)\n",
    "            plt.xticks(rotation=25)\n",
    "        else:\n",
    "            g = sns.distplot(dataset[column]) # kde=False if problems, but then the distribution is missing\n",
    "            plt.xticks(rotation=25)"
   ]
  },
  {
   "cell_type": "markdown",
   "metadata": {},
   "source": [
    "# Data Mining"
   ]
  },
  {
   "cell_type": "markdown",
   "metadata": {},
   "source": [
    "In the first step I will import the data into the notebook. We have three datasets: train_values, train_labels and test_values. For exploration  and cleaning purposes these will be merged. To avoid data leakage pipelines should be used whenever needed. For getting a first overview looking at the head and tail of the dataframe could be helpfull as well as looking at general information like the shape, datatypes of the features and the amount of missing data."
   ]
  },
  {
   "cell_type": "markdown",
   "metadata": {},
   "source": [
    "## Initial Import of the data and merging of dataframes"
   ]
  },
  {
   "cell_type": "code",
   "execution_count": 121,
   "metadata": {
    "ExecuteTime": {
     "end_time": "2020-04-19T18:53:53.867185Z",
     "start_time": "2020-04-19T18:53:52.945093Z"
    }
   },
   "outputs": [],
   "source": [
    "# import the train_labels\n",
    "train_labels = pd.read_csv(DATA_FOLDER + 'Training_set_labels.csv')\n",
    "\n",
    "# importing the train_values\n",
    "train_values = pd.read_csv(DATA_FOLDER + 'Training_set_values.csv',parse_dates=[2])\n",
    "\n",
    "# import the test_values \n",
    "test_values = pd.read_csv(DATA_FOLDER + 'Test_set_values.csv') "
   ]
  },
  {
   "cell_type": "code",
   "execution_count": 7,
   "metadata": {
    "ExecuteTime": {
     "end_time": "2020-04-19T13:23:28.054080Z",
     "start_time": "2020-04-19T13:23:27.757504Z"
    }
   },
   "outputs": [],
   "source": [
    "# Merging the train data into one dataframe\n",
    "df_train = pd.merge(train_labels,train_values,on='id')"
   ]
  },
  {
   "cell_type": "code",
   "execution_count": 8,
   "metadata": {
    "ExecuteTime": {
     "end_time": "2020-04-19T13:23:28.257207Z",
     "start_time": "2020-04-19T13:23:28.054080Z"
    }
   },
   "outputs": [],
   "source": [
    "# merging the complete data set for cleaning and exploration purposes\n",
    "X = pd.concat([df_train,test_values],sort=True)"
   ]
  },
  {
   "cell_type": "markdown",
   "metadata": {},
   "source": [
    "## Having a first look into the data"
   ]
  },
  {
   "cell_type": "code",
   "execution_count": 9,
   "metadata": {
    "ExecuteTime": {
     "end_time": "2020-04-19T13:23:28.335291Z",
     "start_time": "2020-04-19T13:23:28.257207Z"
    }
   },
   "outputs": [
    {
     "name": "stdout",
     "output_type": "stream",
     "text": [
      "Number of rows and columns of train:  (59400, 41) \n",
      "Number of rows and columns of test:   (14850, 40)\n"
     ]
    },
    {
     "data": {
      "text/html": [
       "<div>\n",
       "<style scoped>\n",
       "    .dataframe tbody tr th:only-of-type {\n",
       "        vertical-align: middle;\n",
       "    }\n",
       "\n",
       "    .dataframe tbody tr th {\n",
       "        vertical-align: top;\n",
       "    }\n",
       "\n",
       "    .dataframe thead th {\n",
       "        text-align: right;\n",
       "    }\n",
       "</style>\n",
       "<table border=\"1\" class=\"dataframe\">\n",
       "  <thead>\n",
       "    <tr style=\"text-align: right;\">\n",
       "      <th></th>\n",
       "      <th>id</th>\n",
       "      <th>status_group</th>\n",
       "      <th>amount_tsh</th>\n",
       "      <th>date_recorded</th>\n",
       "      <th>funder</th>\n",
       "      <th>gps_height</th>\n",
       "      <th>installer</th>\n",
       "      <th>longitude</th>\n",
       "      <th>latitude</th>\n",
       "      <th>wpt_name</th>\n",
       "      <th>num_private</th>\n",
       "      <th>basin</th>\n",
       "      <th>subvillage</th>\n",
       "      <th>region</th>\n",
       "      <th>region_code</th>\n",
       "      <th>district_code</th>\n",
       "      <th>lga</th>\n",
       "      <th>ward</th>\n",
       "      <th>population</th>\n",
       "      <th>public_meeting</th>\n",
       "      <th>recorded_by</th>\n",
       "      <th>scheme_management</th>\n",
       "      <th>scheme_name</th>\n",
       "      <th>permit</th>\n",
       "      <th>construction_year</th>\n",
       "      <th>extraction_type</th>\n",
       "      <th>extraction_type_group</th>\n",
       "      <th>extraction_type_class</th>\n",
       "      <th>management</th>\n",
       "      <th>management_group</th>\n",
       "      <th>payment</th>\n",
       "      <th>payment_type</th>\n",
       "      <th>water_quality</th>\n",
       "      <th>quality_group</th>\n",
       "      <th>quantity</th>\n",
       "      <th>quantity_group</th>\n",
       "      <th>source</th>\n",
       "      <th>source_type</th>\n",
       "      <th>source_class</th>\n",
       "      <th>waterpoint_type</th>\n",
       "      <th>waterpoint_type_group</th>\n",
       "    </tr>\n",
       "  </thead>\n",
       "  <tbody>\n",
       "    <tr>\n",
       "      <th>0</th>\n",
       "      <td>69572</td>\n",
       "      <td>functional</td>\n",
       "      <td>6000.0</td>\n",
       "      <td>2011-03-14</td>\n",
       "      <td>Roman</td>\n",
       "      <td>1390</td>\n",
       "      <td>Roman</td>\n",
       "      <td>34.938093</td>\n",
       "      <td>-9.856322</td>\n",
       "      <td>none</td>\n",
       "      <td>0</td>\n",
       "      <td>Lake Nyasa</td>\n",
       "      <td>Mnyusi B</td>\n",
       "      <td>Iringa</td>\n",
       "      <td>11</td>\n",
       "      <td>5</td>\n",
       "      <td>Ludewa</td>\n",
       "      <td>Mundindi</td>\n",
       "      <td>109</td>\n",
       "      <td>True</td>\n",
       "      <td>GeoData Consultants Ltd</td>\n",
       "      <td>VWC</td>\n",
       "      <td>Roman</td>\n",
       "      <td>False</td>\n",
       "      <td>1999</td>\n",
       "      <td>gravity</td>\n",
       "      <td>gravity</td>\n",
       "      <td>gravity</td>\n",
       "      <td>vwc</td>\n",
       "      <td>user-group</td>\n",
       "      <td>pay annually</td>\n",
       "      <td>annually</td>\n",
       "      <td>soft</td>\n",
       "      <td>good</td>\n",
       "      <td>enough</td>\n",
       "      <td>enough</td>\n",
       "      <td>spring</td>\n",
       "      <td>spring</td>\n",
       "      <td>groundwater</td>\n",
       "      <td>communal standpipe</td>\n",
       "      <td>communal standpipe</td>\n",
       "    </tr>\n",
       "    <tr>\n",
       "      <th>1</th>\n",
       "      <td>8776</td>\n",
       "      <td>functional</td>\n",
       "      <td>0.0</td>\n",
       "      <td>2013-03-06</td>\n",
       "      <td>Grumeti</td>\n",
       "      <td>1399</td>\n",
       "      <td>GRUMETI</td>\n",
       "      <td>34.698766</td>\n",
       "      <td>-2.147466</td>\n",
       "      <td>Zahanati</td>\n",
       "      <td>0</td>\n",
       "      <td>Lake Victoria</td>\n",
       "      <td>Nyamara</td>\n",
       "      <td>Mara</td>\n",
       "      <td>20</td>\n",
       "      <td>2</td>\n",
       "      <td>Serengeti</td>\n",
       "      <td>Natta</td>\n",
       "      <td>280</td>\n",
       "      <td>NaN</td>\n",
       "      <td>GeoData Consultants Ltd</td>\n",
       "      <td>Other</td>\n",
       "      <td>NaN</td>\n",
       "      <td>True</td>\n",
       "      <td>2010</td>\n",
       "      <td>gravity</td>\n",
       "      <td>gravity</td>\n",
       "      <td>gravity</td>\n",
       "      <td>wug</td>\n",
       "      <td>user-group</td>\n",
       "      <td>never pay</td>\n",
       "      <td>never pay</td>\n",
       "      <td>soft</td>\n",
       "      <td>good</td>\n",
       "      <td>insufficient</td>\n",
       "      <td>insufficient</td>\n",
       "      <td>rainwater harvesting</td>\n",
       "      <td>rainwater harvesting</td>\n",
       "      <td>surface</td>\n",
       "      <td>communal standpipe</td>\n",
       "      <td>communal standpipe</td>\n",
       "    </tr>\n",
       "    <tr>\n",
       "      <th>2</th>\n",
       "      <td>34310</td>\n",
       "      <td>functional</td>\n",
       "      <td>25.0</td>\n",
       "      <td>2013-02-25</td>\n",
       "      <td>Lottery Club</td>\n",
       "      <td>686</td>\n",
       "      <td>World vision</td>\n",
       "      <td>37.460664</td>\n",
       "      <td>-3.821329</td>\n",
       "      <td>Kwa Mahundi</td>\n",
       "      <td>0</td>\n",
       "      <td>Pangani</td>\n",
       "      <td>Majengo</td>\n",
       "      <td>Manyara</td>\n",
       "      <td>21</td>\n",
       "      <td>4</td>\n",
       "      <td>Simanjiro</td>\n",
       "      <td>Ngorika</td>\n",
       "      <td>250</td>\n",
       "      <td>True</td>\n",
       "      <td>GeoData Consultants Ltd</td>\n",
       "      <td>VWC</td>\n",
       "      <td>Nyumba ya mungu pipe scheme</td>\n",
       "      <td>True</td>\n",
       "      <td>2009</td>\n",
       "      <td>gravity</td>\n",
       "      <td>gravity</td>\n",
       "      <td>gravity</td>\n",
       "      <td>vwc</td>\n",
       "      <td>user-group</td>\n",
       "      <td>pay per bucket</td>\n",
       "      <td>per bucket</td>\n",
       "      <td>soft</td>\n",
       "      <td>good</td>\n",
       "      <td>enough</td>\n",
       "      <td>enough</td>\n",
       "      <td>dam</td>\n",
       "      <td>dam</td>\n",
       "      <td>surface</td>\n",
       "      <td>communal standpipe multiple</td>\n",
       "      <td>communal standpipe</td>\n",
       "    </tr>\n",
       "    <tr>\n",
       "      <th>3</th>\n",
       "      <td>67743</td>\n",
       "      <td>non functional</td>\n",
       "      <td>0.0</td>\n",
       "      <td>2013-01-28</td>\n",
       "      <td>Unicef</td>\n",
       "      <td>263</td>\n",
       "      <td>UNICEF</td>\n",
       "      <td>38.486161</td>\n",
       "      <td>-11.155298</td>\n",
       "      <td>Zahanati Ya Nanyumbu</td>\n",
       "      <td>0</td>\n",
       "      <td>Ruvuma / Southern Coast</td>\n",
       "      <td>Mahakamani</td>\n",
       "      <td>Mtwara</td>\n",
       "      <td>90</td>\n",
       "      <td>63</td>\n",
       "      <td>Nanyumbu</td>\n",
       "      <td>Nanyumbu</td>\n",
       "      <td>58</td>\n",
       "      <td>True</td>\n",
       "      <td>GeoData Consultants Ltd</td>\n",
       "      <td>VWC</td>\n",
       "      <td>NaN</td>\n",
       "      <td>True</td>\n",
       "      <td>1986</td>\n",
       "      <td>submersible</td>\n",
       "      <td>submersible</td>\n",
       "      <td>submersible</td>\n",
       "      <td>vwc</td>\n",
       "      <td>user-group</td>\n",
       "      <td>never pay</td>\n",
       "      <td>never pay</td>\n",
       "      <td>soft</td>\n",
       "      <td>good</td>\n",
       "      <td>dry</td>\n",
       "      <td>dry</td>\n",
       "      <td>machine dbh</td>\n",
       "      <td>borehole</td>\n",
       "      <td>groundwater</td>\n",
       "      <td>communal standpipe multiple</td>\n",
       "      <td>communal standpipe</td>\n",
       "    </tr>\n",
       "    <tr>\n",
       "      <th>4</th>\n",
       "      <td>19728</td>\n",
       "      <td>functional</td>\n",
       "      <td>0.0</td>\n",
       "      <td>2011-07-13</td>\n",
       "      <td>Action In A</td>\n",
       "      <td>0</td>\n",
       "      <td>Artisan</td>\n",
       "      <td>31.130847</td>\n",
       "      <td>-1.825359</td>\n",
       "      <td>Shuleni</td>\n",
       "      <td>0</td>\n",
       "      <td>Lake Victoria</td>\n",
       "      <td>Kyanyamisa</td>\n",
       "      <td>Kagera</td>\n",
       "      <td>18</td>\n",
       "      <td>1</td>\n",
       "      <td>Karagwe</td>\n",
       "      <td>Nyakasimbi</td>\n",
       "      <td>0</td>\n",
       "      <td>True</td>\n",
       "      <td>GeoData Consultants Ltd</td>\n",
       "      <td>NaN</td>\n",
       "      <td>NaN</td>\n",
       "      <td>True</td>\n",
       "      <td>0</td>\n",
       "      <td>gravity</td>\n",
       "      <td>gravity</td>\n",
       "      <td>gravity</td>\n",
       "      <td>other</td>\n",
       "      <td>other</td>\n",
       "      <td>never pay</td>\n",
       "      <td>never pay</td>\n",
       "      <td>soft</td>\n",
       "      <td>good</td>\n",
       "      <td>seasonal</td>\n",
       "      <td>seasonal</td>\n",
       "      <td>rainwater harvesting</td>\n",
       "      <td>rainwater harvesting</td>\n",
       "      <td>surface</td>\n",
       "      <td>communal standpipe</td>\n",
       "      <td>communal standpipe</td>\n",
       "    </tr>\n",
       "  </tbody>\n",
       "</table>\n",
       "</div>"
      ],
      "text/plain": [
       "      id    status_group  amount_tsh date_recorded        funder  gps_height  \\\n",
       "0  69572      functional      6000.0    2011-03-14         Roman        1390   \n",
       "1   8776      functional         0.0    2013-03-06       Grumeti        1399   \n",
       "2  34310      functional        25.0    2013-02-25  Lottery Club         686   \n",
       "3  67743  non functional         0.0    2013-01-28        Unicef         263   \n",
       "4  19728      functional         0.0    2011-07-13   Action In A           0   \n",
       "\n",
       "      installer  longitude   latitude              wpt_name  num_private  \\\n",
       "0         Roman  34.938093  -9.856322                  none            0   \n",
       "1       GRUMETI  34.698766  -2.147466              Zahanati            0   \n",
       "2  World vision  37.460664  -3.821329           Kwa Mahundi            0   \n",
       "3        UNICEF  38.486161 -11.155298  Zahanati Ya Nanyumbu            0   \n",
       "4       Artisan  31.130847  -1.825359               Shuleni            0   \n",
       "\n",
       "                     basin  subvillage   region  region_code  district_code  \\\n",
       "0               Lake Nyasa    Mnyusi B   Iringa           11              5   \n",
       "1            Lake Victoria     Nyamara     Mara           20              2   \n",
       "2                  Pangani     Majengo  Manyara           21              4   \n",
       "3  Ruvuma / Southern Coast  Mahakamani   Mtwara           90             63   \n",
       "4            Lake Victoria  Kyanyamisa   Kagera           18              1   \n",
       "\n",
       "         lga        ward  population public_meeting              recorded_by  \\\n",
       "0     Ludewa    Mundindi         109           True  GeoData Consultants Ltd   \n",
       "1  Serengeti       Natta         280            NaN  GeoData Consultants Ltd   \n",
       "2  Simanjiro     Ngorika         250           True  GeoData Consultants Ltd   \n",
       "3   Nanyumbu    Nanyumbu          58           True  GeoData Consultants Ltd   \n",
       "4    Karagwe  Nyakasimbi           0           True  GeoData Consultants Ltd   \n",
       "\n",
       "  scheme_management                  scheme_name permit  construction_year  \\\n",
       "0               VWC                        Roman  False               1999   \n",
       "1             Other                          NaN   True               2010   \n",
       "2               VWC  Nyumba ya mungu pipe scheme   True               2009   \n",
       "3               VWC                          NaN   True               1986   \n",
       "4               NaN                          NaN   True                  0   \n",
       "\n",
       "  extraction_type extraction_type_group extraction_type_class management  \\\n",
       "0         gravity               gravity               gravity        vwc   \n",
       "1         gravity               gravity               gravity        wug   \n",
       "2         gravity               gravity               gravity        vwc   \n",
       "3     submersible           submersible           submersible        vwc   \n",
       "4         gravity               gravity               gravity      other   \n",
       "\n",
       "  management_group         payment payment_type water_quality quality_group  \\\n",
       "0       user-group    pay annually     annually          soft          good   \n",
       "1       user-group       never pay    never pay          soft          good   \n",
       "2       user-group  pay per bucket   per bucket          soft          good   \n",
       "3       user-group       never pay    never pay          soft          good   \n",
       "4            other       never pay    never pay          soft          good   \n",
       "\n",
       "       quantity quantity_group                source           source_type  \\\n",
       "0        enough         enough                spring                spring   \n",
       "1  insufficient   insufficient  rainwater harvesting  rainwater harvesting   \n",
       "2        enough         enough                   dam                   dam   \n",
       "3           dry            dry           machine dbh              borehole   \n",
       "4      seasonal       seasonal  rainwater harvesting  rainwater harvesting   \n",
       "\n",
       "  source_class              waterpoint_type waterpoint_type_group  \n",
       "0  groundwater           communal standpipe    communal standpipe  \n",
       "1      surface           communal standpipe    communal standpipe  \n",
       "2      surface  communal standpipe multiple    communal standpipe  \n",
       "3  groundwater  communal standpipe multiple    communal standpipe  \n",
       "4      surface           communal standpipe    communal standpipe  "
      ]
     },
     "execution_count": 9,
     "metadata": {},
     "output_type": "execute_result"
    }
   ],
   "source": [
    "# Getting a first idea of the data\n",
    "print('Number of rows and columns of train: ',df_train.shape,\n",
    "      '\\nNumber of rows and columns of test:  ',test_values.shape)\n",
    "df_train.head()"
   ]
  },
  {
   "cell_type": "code",
   "execution_count": 10,
   "metadata": {
    "ExecuteTime": {
     "end_time": "2020-04-19T13:23:28.382155Z",
     "start_time": "2020-04-19T13:23:28.335291Z"
    }
   },
   "outputs": [
    {
     "data": {
      "text/html": [
       "<div>\n",
       "<style scoped>\n",
       "    .dataframe tbody tr th:only-of-type {\n",
       "        vertical-align: middle;\n",
       "    }\n",
       "\n",
       "    .dataframe tbody tr th {\n",
       "        vertical-align: top;\n",
       "    }\n",
       "\n",
       "    .dataframe thead th {\n",
       "        text-align: right;\n",
       "    }\n",
       "</style>\n",
       "<table border=\"1\" class=\"dataframe\">\n",
       "  <thead>\n",
       "    <tr style=\"text-align: right;\">\n",
       "      <th></th>\n",
       "      <th>amount_tsh</th>\n",
       "      <th>basin</th>\n",
       "      <th>construction_year</th>\n",
       "      <th>date_recorded</th>\n",
       "      <th>district_code</th>\n",
       "      <th>extraction_type</th>\n",
       "      <th>extraction_type_class</th>\n",
       "      <th>extraction_type_group</th>\n",
       "      <th>funder</th>\n",
       "      <th>gps_height</th>\n",
       "      <th>id</th>\n",
       "      <th>installer</th>\n",
       "      <th>latitude</th>\n",
       "      <th>lga</th>\n",
       "      <th>longitude</th>\n",
       "      <th>management</th>\n",
       "      <th>management_group</th>\n",
       "      <th>num_private</th>\n",
       "      <th>payment</th>\n",
       "      <th>payment_type</th>\n",
       "      <th>permit</th>\n",
       "      <th>population</th>\n",
       "      <th>public_meeting</th>\n",
       "      <th>quality_group</th>\n",
       "      <th>quantity</th>\n",
       "      <th>quantity_group</th>\n",
       "      <th>recorded_by</th>\n",
       "      <th>region</th>\n",
       "      <th>region_code</th>\n",
       "      <th>scheme_management</th>\n",
       "      <th>scheme_name</th>\n",
       "      <th>source</th>\n",
       "      <th>source_class</th>\n",
       "      <th>source_type</th>\n",
       "      <th>status_group</th>\n",
       "      <th>subvillage</th>\n",
       "      <th>ward</th>\n",
       "      <th>water_quality</th>\n",
       "      <th>waterpoint_type</th>\n",
       "      <th>waterpoint_type_group</th>\n",
       "      <th>wpt_name</th>\n",
       "    </tr>\n",
       "  </thead>\n",
       "  <tbody>\n",
       "    <tr>\n",
       "      <th>14845</th>\n",
       "      <td>0.0</td>\n",
       "      <td>Wami / Ruvu</td>\n",
       "      <td>1988</td>\n",
       "      <td>2011-02-24</td>\n",
       "      <td>1</td>\n",
       "      <td>mono</td>\n",
       "      <td>motorpump</td>\n",
       "      <td>mono</td>\n",
       "      <td>Danida</td>\n",
       "      <td>34</td>\n",
       "      <td>39307</td>\n",
       "      <td>Da</td>\n",
       "      <td>-6.582841</td>\n",
       "      <td>Bagamoyo</td>\n",
       "      <td>38.852669</td>\n",
       "      <td>vwc</td>\n",
       "      <td>user-group</td>\n",
       "      <td>0</td>\n",
       "      <td>never pay</td>\n",
       "      <td>never pay</td>\n",
       "      <td>True</td>\n",
       "      <td>20</td>\n",
       "      <td>True</td>\n",
       "      <td>good</td>\n",
       "      <td>enough</td>\n",
       "      <td>enough</td>\n",
       "      <td>GeoData Consultants Ltd</td>\n",
       "      <td>Pwani</td>\n",
       "      <td>6</td>\n",
       "      <td>VWC</td>\n",
       "      <td>Bagamoyo wate</td>\n",
       "      <td>river</td>\n",
       "      <td>surface</td>\n",
       "      <td>river/lake</td>\n",
       "      <td>NaN</td>\n",
       "      <td>Yombo</td>\n",
       "      <td>Yombo</td>\n",
       "      <td>soft</td>\n",
       "      <td>communal standpipe</td>\n",
       "      <td>communal standpipe</td>\n",
       "      <td>Kwambwezi</td>\n",
       "    </tr>\n",
       "    <tr>\n",
       "      <th>14846</th>\n",
       "      <td>1000.0</td>\n",
       "      <td>Pangani</td>\n",
       "      <td>1994</td>\n",
       "      <td>2011-03-21</td>\n",
       "      <td>7</td>\n",
       "      <td>nira/tanira</td>\n",
       "      <td>handpump</td>\n",
       "      <td>nira/tanira</td>\n",
       "      <td>Hiap</td>\n",
       "      <td>0</td>\n",
       "      <td>18990</td>\n",
       "      <td>HIAP</td>\n",
       "      <td>-5.350428</td>\n",
       "      <td>Kilindi</td>\n",
       "      <td>37.451633</td>\n",
       "      <td>vwc</td>\n",
       "      <td>user-group</td>\n",
       "      <td>0</td>\n",
       "      <td>pay annually</td>\n",
       "      <td>annually</td>\n",
       "      <td>False</td>\n",
       "      <td>2960</td>\n",
       "      <td>True</td>\n",
       "      <td>salty</td>\n",
       "      <td>insufficient</td>\n",
       "      <td>insufficient</td>\n",
       "      <td>GeoData Consultants Ltd</td>\n",
       "      <td>Tanga</td>\n",
       "      <td>4</td>\n",
       "      <td>VWC</td>\n",
       "      <td>NaN</td>\n",
       "      <td>shallow well</td>\n",
       "      <td>groundwater</td>\n",
       "      <td>shallow well</td>\n",
       "      <td>NaN</td>\n",
       "      <td>Mkondoa</td>\n",
       "      <td>Mvungwe</td>\n",
       "      <td>salty</td>\n",
       "      <td>hand pump</td>\n",
       "      <td>hand pump</td>\n",
       "      <td>Bonde La Mkondoa</td>\n",
       "    </tr>\n",
       "    <tr>\n",
       "      <th>14847</th>\n",
       "      <td>0.0</td>\n",
       "      <td>Internal</td>\n",
       "      <td>2010</td>\n",
       "      <td>2013-03-04</td>\n",
       "      <td>2</td>\n",
       "      <td>gravity</td>\n",
       "      <td>gravity</td>\n",
       "      <td>gravity</td>\n",
       "      <td>NaN</td>\n",
       "      <td>1476</td>\n",
       "      <td>28749</td>\n",
       "      <td>NaN</td>\n",
       "      <td>-4.585587</td>\n",
       "      <td>Singida Rural</td>\n",
       "      <td>34.739804</td>\n",
       "      <td>vwc</td>\n",
       "      <td>user-group</td>\n",
       "      <td>0</td>\n",
       "      <td>never pay</td>\n",
       "      <td>never pay</td>\n",
       "      <td>NaN</td>\n",
       "      <td>200</td>\n",
       "      <td>True</td>\n",
       "      <td>good</td>\n",
       "      <td>insufficient</td>\n",
       "      <td>insufficient</td>\n",
       "      <td>GeoData Consultants Ltd</td>\n",
       "      <td>Singida</td>\n",
       "      <td>13</td>\n",
       "      <td>VWC</td>\n",
       "      <td>NaN</td>\n",
       "      <td>dam</td>\n",
       "      <td>surface</td>\n",
       "      <td>dam</td>\n",
       "      <td>NaN</td>\n",
       "      <td>Juhudi</td>\n",
       "      <td>Ughandi</td>\n",
       "      <td>soft</td>\n",
       "      <td>communal standpipe</td>\n",
       "      <td>communal standpipe</td>\n",
       "      <td>Bwawani</td>\n",
       "    </tr>\n",
       "    <tr>\n",
       "      <th>14848</th>\n",
       "      <td>0.0</td>\n",
       "      <td>Lake Nyasa</td>\n",
       "      <td>2009</td>\n",
       "      <td>2013-02-18</td>\n",
       "      <td>2</td>\n",
       "      <td>gravity</td>\n",
       "      <td>gravity</td>\n",
       "      <td>gravity</td>\n",
       "      <td>Germany</td>\n",
       "      <td>998</td>\n",
       "      <td>33492</td>\n",
       "      <td>DWE</td>\n",
       "      <td>-10.584159</td>\n",
       "      <td>Songea Rural</td>\n",
       "      <td>35.432732</td>\n",
       "      <td>vwc</td>\n",
       "      <td>user-group</td>\n",
       "      <td>0</td>\n",
       "      <td>never pay</td>\n",
       "      <td>never pay</td>\n",
       "      <td>True</td>\n",
       "      <td>150</td>\n",
       "      <td>True</td>\n",
       "      <td>good</td>\n",
       "      <td>insufficient</td>\n",
       "      <td>insufficient</td>\n",
       "      <td>GeoData Consultants Ltd</td>\n",
       "      <td>Ruvuma</td>\n",
       "      <td>10</td>\n",
       "      <td>VWC</td>\n",
       "      <td>Mradi wa maji wa maposeni</td>\n",
       "      <td>river</td>\n",
       "      <td>surface</td>\n",
       "      <td>river/lake</td>\n",
       "      <td>NaN</td>\n",
       "      <td>Namakinga B</td>\n",
       "      <td>Maposeni</td>\n",
       "      <td>soft</td>\n",
       "      <td>communal standpipe</td>\n",
       "      <td>communal standpipe</td>\n",
       "      <td>Kwa John</td>\n",
       "    </tr>\n",
       "    <tr>\n",
       "      <th>14849</th>\n",
       "      <td>0.0</td>\n",
       "      <td>Lake Nyasa</td>\n",
       "      <td>2008</td>\n",
       "      <td>2013-02-13</td>\n",
       "      <td>3</td>\n",
       "      <td>gravity</td>\n",
       "      <td>gravity</td>\n",
       "      <td>gravity</td>\n",
       "      <td>Government Of Tanzania</td>\n",
       "      <td>481</td>\n",
       "      <td>68707</td>\n",
       "      <td>Government</td>\n",
       "      <td>-11.226012</td>\n",
       "      <td>Mbinga</td>\n",
       "      <td>34.765054</td>\n",
       "      <td>vwc</td>\n",
       "      <td>user-group</td>\n",
       "      <td>0</td>\n",
       "      <td>never pay</td>\n",
       "      <td>never pay</td>\n",
       "      <td>True</td>\n",
       "      <td>40</td>\n",
       "      <td>True</td>\n",
       "      <td>good</td>\n",
       "      <td>dry</td>\n",
       "      <td>dry</td>\n",
       "      <td>GeoData Consultants Ltd</td>\n",
       "      <td>Ruvuma</td>\n",
       "      <td>10</td>\n",
       "      <td>VWC</td>\n",
       "      <td>DANIDA</td>\n",
       "      <td>spring</td>\n",
       "      <td>groundwater</td>\n",
       "      <td>spring</td>\n",
       "      <td>NaN</td>\n",
       "      <td>Kamba</td>\n",
       "      <td>Mbamba bay</td>\n",
       "      <td>soft</td>\n",
       "      <td>communal standpipe</td>\n",
       "      <td>communal standpipe</td>\n",
       "      <td>Kwa Mzee Chagala</td>\n",
       "    </tr>\n",
       "  </tbody>\n",
       "</table>\n",
       "</div>"
      ],
      "text/plain": [
       "       amount_tsh        basin  construction_year date_recorded  \\\n",
       "14845         0.0  Wami / Ruvu               1988    2011-02-24   \n",
       "14846      1000.0      Pangani               1994    2011-03-21   \n",
       "14847         0.0     Internal               2010    2013-03-04   \n",
       "14848         0.0   Lake Nyasa               2009    2013-02-18   \n",
       "14849         0.0   Lake Nyasa               2008    2013-02-13   \n",
       "\n",
       "       district_code extraction_type extraction_type_class  \\\n",
       "14845              1            mono             motorpump   \n",
       "14846              7     nira/tanira              handpump   \n",
       "14847              2         gravity               gravity   \n",
       "14848              2         gravity               gravity   \n",
       "14849              3         gravity               gravity   \n",
       "\n",
       "      extraction_type_group                  funder  gps_height     id  \\\n",
       "14845                  mono                  Danida          34  39307   \n",
       "14846           nira/tanira                    Hiap           0  18990   \n",
       "14847               gravity                     NaN        1476  28749   \n",
       "14848               gravity                 Germany         998  33492   \n",
       "14849               gravity  Government Of Tanzania         481  68707   \n",
       "\n",
       "        installer   latitude            lga  longitude management  \\\n",
       "14845          Da  -6.582841       Bagamoyo  38.852669        vwc   \n",
       "14846        HIAP  -5.350428        Kilindi  37.451633        vwc   \n",
       "14847         NaN  -4.585587  Singida Rural  34.739804        vwc   \n",
       "14848         DWE -10.584159   Songea Rural  35.432732        vwc   \n",
       "14849  Government -11.226012         Mbinga  34.765054        vwc   \n",
       "\n",
       "      management_group  num_private       payment payment_type permit  \\\n",
       "14845       user-group            0     never pay    never pay   True   \n",
       "14846       user-group            0  pay annually     annually  False   \n",
       "14847       user-group            0     never pay    never pay    NaN   \n",
       "14848       user-group            0     never pay    never pay   True   \n",
       "14849       user-group            0     never pay    never pay   True   \n",
       "\n",
       "       population public_meeting quality_group      quantity quantity_group  \\\n",
       "14845          20           True          good        enough         enough   \n",
       "14846        2960           True         salty  insufficient   insufficient   \n",
       "14847         200           True          good  insufficient   insufficient   \n",
       "14848         150           True          good  insufficient   insufficient   \n",
       "14849          40           True          good           dry            dry   \n",
       "\n",
       "                   recorded_by   region  region_code scheme_management  \\\n",
       "14845  GeoData Consultants Ltd    Pwani            6               VWC   \n",
       "14846  GeoData Consultants Ltd    Tanga            4               VWC   \n",
       "14847  GeoData Consultants Ltd  Singida           13               VWC   \n",
       "14848  GeoData Consultants Ltd   Ruvuma           10               VWC   \n",
       "14849  GeoData Consultants Ltd   Ruvuma           10               VWC   \n",
       "\n",
       "                     scheme_name        source source_class   source_type  \\\n",
       "14845              Bagamoyo wate         river      surface    river/lake   \n",
       "14846                        NaN  shallow well  groundwater  shallow well   \n",
       "14847                        NaN           dam      surface           dam   \n",
       "14848  Mradi wa maji wa maposeni         river      surface    river/lake   \n",
       "14849                     DANIDA        spring  groundwater        spring   \n",
       "\n",
       "      status_group   subvillage        ward water_quality     waterpoint_type  \\\n",
       "14845          NaN        Yombo       Yombo          soft  communal standpipe   \n",
       "14846          NaN      Mkondoa     Mvungwe         salty           hand pump   \n",
       "14847          NaN       Juhudi     Ughandi          soft  communal standpipe   \n",
       "14848          NaN  Namakinga B    Maposeni          soft  communal standpipe   \n",
       "14849          NaN        Kamba  Mbamba bay          soft  communal standpipe   \n",
       "\n",
       "      waterpoint_type_group          wpt_name  \n",
       "14845    communal standpipe         Kwambwezi  \n",
       "14846             hand pump  Bonde La Mkondoa  \n",
       "14847    communal standpipe           Bwawani  \n",
       "14848    communal standpipe          Kwa John  \n",
       "14849    communal standpipe  Kwa Mzee Chagala  "
      ]
     },
     "execution_count": 10,
     "metadata": {},
     "output_type": "execute_result"
    }
   ],
   "source": [
    "X.tail()"
   ]
  },
  {
   "cell_type": "code",
   "execution_count": 11,
   "metadata": {
    "ExecuteTime": {
     "end_time": "2020-04-19T13:23:28.588060Z",
     "start_time": "2020-04-19T13:23:28.382155Z"
    },
    "scrolled": true
   },
   "outputs": [
    {
     "name": "stdout",
     "output_type": "stream",
     "text": [
      "<class 'pandas.core.frame.DataFrame'>\n",
      "Int64Index: 74250 entries, 0 to 14849\n",
      "Data columns (total 41 columns):\n",
      "amount_tsh               74250 non-null float64\n",
      "basin                    74250 non-null object\n",
      "construction_year        74250 non-null int64\n",
      "date_recorded            74250 non-null object\n",
      "district_code            74250 non-null int64\n",
      "extraction_type          74250 non-null object\n",
      "extraction_type_class    74250 non-null object\n",
      "extraction_type_group    74250 non-null object\n",
      "funder                   69746 non-null object\n",
      "gps_height               74250 non-null int64\n",
      "id                       74250 non-null int64\n",
      "installer                69718 non-null object\n",
      "latitude                 74250 non-null float64\n",
      "lga                      74250 non-null object\n",
      "longitude                74250 non-null float64\n",
      "management               74250 non-null object\n",
      "management_group         74250 non-null object\n",
      "num_private              74250 non-null int64\n",
      "payment                  74250 non-null object\n",
      "payment_type             74250 non-null object\n",
      "permit                   70457 non-null object\n",
      "population               74250 non-null int64\n",
      "public_meeting           70095 non-null object\n",
      "quality_group            74250 non-null object\n",
      "quantity                 74250 non-null object\n",
      "quantity_group           74250 non-null object\n",
      "recorded_by              74250 non-null object\n",
      "region                   74250 non-null object\n",
      "region_code              74250 non-null int64\n",
      "scheme_management        69404 non-null object\n",
      "scheme_name              38992 non-null object\n",
      "source                   74250 non-null object\n",
      "source_class             74250 non-null object\n",
      "source_type              74250 non-null object\n",
      "status_group             59400 non-null object\n",
      "subvillage               73780 non-null object\n",
      "ward                     74250 non-null object\n",
      "water_quality            74250 non-null object\n",
      "waterpoint_type          74250 non-null object\n",
      "waterpoint_type_group    74250 non-null object\n",
      "wpt_name                 74250 non-null object\n",
      "dtypes: float64(3), int64(7), object(31)\n",
      "memory usage: 23.8+ MB\n"
     ]
    }
   ],
   "source": [
    "X.info()"
   ]
  },
  {
   "cell_type": "code",
   "execution_count": 12,
   "metadata": {
    "ExecuteTime": {
     "end_time": "2020-04-19T13:23:28.697410Z",
     "start_time": "2020-04-19T13:23:28.588060Z"
    }
   },
   "outputs": [
    {
     "data": {
      "text/html": [
       "<div>\n",
       "<style scoped>\n",
       "    .dataframe tbody tr th:only-of-type {\n",
       "        vertical-align: middle;\n",
       "    }\n",
       "\n",
       "    .dataframe tbody tr th {\n",
       "        vertical-align: top;\n",
       "    }\n",
       "\n",
       "    .dataframe thead th {\n",
       "        text-align: right;\n",
       "    }\n",
       "</style>\n",
       "<table border=\"1\" class=\"dataframe\">\n",
       "  <thead>\n",
       "    <tr style=\"text-align: right;\">\n",
       "      <th></th>\n",
       "      <th>amount_tsh</th>\n",
       "      <th>construction_year</th>\n",
       "      <th>district_code</th>\n",
       "      <th>gps_height</th>\n",
       "      <th>id</th>\n",
       "      <th>latitude</th>\n",
       "      <th>longitude</th>\n",
       "      <th>num_private</th>\n",
       "      <th>population</th>\n",
       "      <th>region_code</th>\n",
       "    </tr>\n",
       "  </thead>\n",
       "  <tbody>\n",
       "    <tr>\n",
       "      <th>count</th>\n",
       "      <td>74250.000000</td>\n",
       "      <td>74250.000000</td>\n",
       "      <td>74250.000000</td>\n",
       "      <td>74250.000000</td>\n",
       "      <td>74250.000000</td>\n",
       "      <td>7.425000e+04</td>\n",
       "      <td>74250.000000</td>\n",
       "      <td>74250.000000</td>\n",
       "      <td>74250.000000</td>\n",
       "      <td>74250.000000</td>\n",
       "    </tr>\n",
       "    <tr>\n",
       "      <th>mean</th>\n",
       "      <td>318.685704</td>\n",
       "      <td>1298.463650</td>\n",
       "      <td>5.629077</td>\n",
       "      <td>665.667313</td>\n",
       "      <td>37124.500000</td>\n",
       "      <td>-5.701771e+00</td>\n",
       "      <td>34.074262</td>\n",
       "      <td>0.462330</td>\n",
       "      <td>180.750828</td>\n",
       "      <td>15.265414</td>\n",
       "    </tr>\n",
       "    <tr>\n",
       "      <th>std</th>\n",
       "      <td>2906.762364</td>\n",
       "      <td>952.349375</td>\n",
       "      <td>9.641636</td>\n",
       "      <td>692.761033</td>\n",
       "      <td>21434.273081</td>\n",
       "      <td>2.944969e+00</td>\n",
       "      <td>6.572519</td>\n",
       "      <td>11.537879</td>\n",
       "      <td>471.086120</td>\n",
       "      <td>17.508907</td>\n",
       "    </tr>\n",
       "    <tr>\n",
       "      <th>min</th>\n",
       "      <td>0.000000</td>\n",
       "      <td>0.000000</td>\n",
       "      <td>0.000000</td>\n",
       "      <td>-90.000000</td>\n",
       "      <td>0.000000</td>\n",
       "      <td>-1.164944e+01</td>\n",
       "      <td>0.000000</td>\n",
       "      <td>0.000000</td>\n",
       "      <td>0.000000</td>\n",
       "      <td>1.000000</td>\n",
       "    </tr>\n",
       "    <tr>\n",
       "      <th>25%</th>\n",
       "      <td>0.000000</td>\n",
       "      <td>0.000000</td>\n",
       "      <td>2.000000</td>\n",
       "      <td>0.000000</td>\n",
       "      <td>18562.250000</td>\n",
       "      <td>-8.525675e+00</td>\n",
       "      <td>33.086819</td>\n",
       "      <td>0.000000</td>\n",
       "      <td>0.000000</td>\n",
       "      <td>5.000000</td>\n",
       "    </tr>\n",
       "    <tr>\n",
       "      <th>50%</th>\n",
       "      <td>0.000000</td>\n",
       "      <td>1986.000000</td>\n",
       "      <td>3.000000</td>\n",
       "      <td>364.000000</td>\n",
       "      <td>37124.500000</td>\n",
       "      <td>-5.026540e+00</td>\n",
       "      <td>34.907475</td>\n",
       "      <td>0.000000</td>\n",
       "      <td>25.000000</td>\n",
       "      <td>12.000000</td>\n",
       "    </tr>\n",
       "    <tr>\n",
       "      <th>75%</th>\n",
       "      <td>20.000000</td>\n",
       "      <td>2004.000000</td>\n",
       "      <td>5.000000</td>\n",
       "      <td>1317.000000</td>\n",
       "      <td>55686.750000</td>\n",
       "      <td>-3.325058e+00</td>\n",
       "      <td>37.181685</td>\n",
       "      <td>0.000000</td>\n",
       "      <td>215.000000</td>\n",
       "      <td>17.000000</td>\n",
       "    </tr>\n",
       "    <tr>\n",
       "      <th>max</th>\n",
       "      <td>350000.000000</td>\n",
       "      <td>2013.000000</td>\n",
       "      <td>80.000000</td>\n",
       "      <td>2777.000000</td>\n",
       "      <td>74249.000000</td>\n",
       "      <td>-2.000000e-08</td>\n",
       "      <td>40.345193</td>\n",
       "      <td>1776.000000</td>\n",
       "      <td>30500.000000</td>\n",
       "      <td>99.000000</td>\n",
       "    </tr>\n",
       "  </tbody>\n",
       "</table>\n",
       "</div>"
      ],
      "text/plain": [
       "          amount_tsh  construction_year  district_code    gps_height  \\\n",
       "count   74250.000000       74250.000000   74250.000000  74250.000000   \n",
       "mean      318.685704        1298.463650       5.629077    665.667313   \n",
       "std      2906.762364         952.349375       9.641636    692.761033   \n",
       "min         0.000000           0.000000       0.000000    -90.000000   \n",
       "25%         0.000000           0.000000       2.000000      0.000000   \n",
       "50%         0.000000        1986.000000       3.000000    364.000000   \n",
       "75%        20.000000        2004.000000       5.000000   1317.000000   \n",
       "max    350000.000000        2013.000000      80.000000   2777.000000   \n",
       "\n",
       "                 id      latitude     longitude   num_private    population  \\\n",
       "count  74250.000000  7.425000e+04  74250.000000  74250.000000  74250.000000   \n",
       "mean   37124.500000 -5.701771e+00     34.074262      0.462330    180.750828   \n",
       "std    21434.273081  2.944969e+00      6.572519     11.537879    471.086120   \n",
       "min        0.000000 -1.164944e+01      0.000000      0.000000      0.000000   \n",
       "25%    18562.250000 -8.525675e+00     33.086819      0.000000      0.000000   \n",
       "50%    37124.500000 -5.026540e+00     34.907475      0.000000     25.000000   \n",
       "75%    55686.750000 -3.325058e+00     37.181685      0.000000    215.000000   \n",
       "max    74249.000000 -2.000000e-08     40.345193   1776.000000  30500.000000   \n",
       "\n",
       "        region_code  \n",
       "count  74250.000000  \n",
       "mean      15.265414  \n",
       "std       17.508907  \n",
       "min        1.000000  \n",
       "25%        5.000000  \n",
       "50%       12.000000  \n",
       "75%       17.000000  \n",
       "max       99.000000  "
      ]
     },
     "execution_count": 12,
     "metadata": {},
     "output_type": "execute_result"
    }
   ],
   "source": [
    "X.describe()"
   ]
  },
  {
   "cell_type": "code",
   "execution_count": 13,
   "metadata": {
    "ExecuteTime": {
     "end_time": "2020-04-19T13:23:29.494098Z",
     "start_time": "2020-04-19T13:23:28.697410Z"
    },
    "scrolled": true
   },
   "outputs": [
    {
     "data": {
      "text/plain": [
       "id                       74250\n",
       "longitude                71870\n",
       "latitude                 71869\n",
       "wpt_name                 45684\n",
       "subvillage               21425\n",
       "scheme_name               2868\n",
       "gps_height                2456\n",
       "installer                 2410\n",
       "funder                    2140\n",
       "ward                      2098\n",
       "population                1128\n",
       "date_recorded              687\n",
       "lga                        125\n",
       "amount_tsh                 102\n",
       "num_private                 68\n",
       "construction_year           55\n",
       "region_code                 27\n",
       "region                      21\n",
       "district_code               20\n",
       "extraction_type             18\n",
       "extraction_type_group       13\n",
       "management                  12\n",
       "scheme_management           12\n",
       "source                      10\n",
       "basin                        9\n",
       "water_quality                8\n",
       "payment                      7\n",
       "payment_type                 7\n",
       "source_type                  7\n",
       "extraction_type_class        7\n",
       "waterpoint_type              7\n",
       "waterpoint_type_group        6\n",
       "quality_group                6\n",
       "management_group             5\n",
       "quantity_group               5\n",
       "quantity                     5\n",
       "source_class                 3\n",
       "status_group                 3\n",
       "permit                       2\n",
       "public_meeting               2\n",
       "recorded_by                  1\n",
       "dtype: int64"
      ]
     },
     "execution_count": 13,
     "metadata": {},
     "output_type": "execute_result"
    }
   ],
   "source": [
    "X.nunique().sort_values(ascending=False)"
   ]
  },
  {
   "cell_type": "markdown",
   "metadata": {},
   "source": [
    "It seems that there is a lot of missing data in some columns. This needs to be tackled in the next section. For getting the NaN values on some columns 0 were replaced with NaN or the string 'none' was also replaced with NaN"
   ]
  },
  {
   "cell_type": "markdown",
   "metadata": {},
   "source": [
    "## Export data to pickle"
   ]
  },
  {
   "cell_type": "code",
   "execution_count": 15,
   "metadata": {
    "ExecuteTime": {
     "end_time": "2020-04-19T13:23:30.447418Z",
     "start_time": "2020-04-19T13:23:29.728798Z"
    }
   },
   "outputs": [],
   "source": [
    "# Exporting the whole data including test values\n",
    "X.to_pickle(DATA_FOLDER + 'test_plus_train.pkl')\n",
    "\n",
    "# Exporting the whole training data (values + labels)\n",
    "df_train.to_pickle(DATA_FOLDER + 'train_data.pkl')"
   ]
  },
  {
   "cell_type": "markdown",
   "metadata": {},
   "source": [
    "# Cleaning of the Data"
   ]
  },
  {
   "cell_type": "markdown",
   "metadata": {},
   "source": [
    "## Initial import of the data"
   ]
  },
  {
   "cell_type": "code",
   "execution_count": 20,
   "metadata": {
    "ExecuteTime": {
     "end_time": "2020-04-19T16:59:02.318600Z",
     "start_time": "2020-04-19T16:59:01.255403Z"
    }
   },
   "outputs": [],
   "source": [
    "# In this section I will use the merged data frame as the cleaning should also take place in the \n",
    "train = pd.read_pickle(DATA_FOLDER + 'train_data.pkl')\n",
    "df_X = pd.read_pickle(DATA_FOLDER + 'test_plus_train.pkl')\n",
    "OrgRowCount = df_X.shape[0]\n",
    "OrgColCount = df_X.shape[1]"
   ]
  },
  {
   "cell_type": "markdown",
   "metadata": {},
   "source": [
    "## Cleaning by Exploration"
   ]
  },
  {
   "cell_type": "code",
   "execution_count": 16,
   "metadata": {
    "ExecuteTime": {
     "end_time": "2020-04-19T13:23:32.463101Z",
     "start_time": "2020-04-19T13:23:30.447418Z"
    }
   },
   "outputs": [
    {
     "ename": "RuntimeError",
     "evalue": "Selected KDE bandwidth is 0. Cannot estiamte density.",
     "output_type": "error",
     "traceback": [
      "\u001b[1;31m---------------------------------------------------------------------------\u001b[0m",
      "\u001b[1;31mValueError\u001b[0m                                Traceback (most recent call last)",
      "\u001b[1;32m~\\anaconda3\\envs\\nf\\lib\\site-packages\\statsmodels\\nonparametric\\kde.py\u001b[0m in \u001b[0;36mkdensityfft\u001b[1;34m(X, kernel, bw, weights, gridsize, adjust, clip, cut, retgrid)\u001b[0m\n\u001b[0;32m    450\u001b[0m     \u001b[1;32mtry\u001b[0m\u001b[1;33m:\u001b[0m\u001b[1;33m\u001b[0m\u001b[1;33m\u001b[0m\u001b[0m\n\u001b[1;32m--> 451\u001b[1;33m         \u001b[0mbw\u001b[0m \u001b[1;33m=\u001b[0m \u001b[0mfloat\u001b[0m\u001b[1;33m(\u001b[0m\u001b[0mbw\u001b[0m\u001b[1;33m)\u001b[0m\u001b[1;33m\u001b[0m\u001b[1;33m\u001b[0m\u001b[0m\n\u001b[0m\u001b[0;32m    452\u001b[0m     \u001b[1;32mexcept\u001b[0m\u001b[1;33m:\u001b[0m\u001b[1;33m\u001b[0m\u001b[1;33m\u001b[0m\u001b[0m\n",
      "\u001b[1;31mValueError\u001b[0m: could not convert string to float: 'scott'",
      "\nDuring handling of the above exception, another exception occurred:\n",
      "\u001b[1;31mRuntimeError\u001b[0m                              Traceback (most recent call last)",
      "\u001b[1;32m<ipython-input-16-e7c8ef573aa5>\u001b[0m in \u001b[0;36m<module>\u001b[1;34m\u001b[0m\n\u001b[0;32m      1\u001b[0m plot_distribution(df_train.drop(['date_recorded','funder','installer','wpt_name','subvillage'\n\u001b[1;32m----> 2\u001b[1;33m                                  ,'scheme_name'],axis=1),cols=3)\n\u001b[0m",
      "\u001b[1;32m<ipython-input-5-96e38d2647b1>\u001b[0m in \u001b[0;36mplot_distribution\u001b[1;34m(dataset, cols, width, height, hspace, wspace)\u001b[0m\n\u001b[0;32m     13\u001b[0m             \u001b[0mplt\u001b[0m\u001b[1;33m.\u001b[0m\u001b[0mxticks\u001b[0m\u001b[1;33m(\u001b[0m\u001b[0mrotation\u001b[0m\u001b[1;33m=\u001b[0m\u001b[1;36m25\u001b[0m\u001b[1;33m)\u001b[0m\u001b[1;33m\u001b[0m\u001b[1;33m\u001b[0m\u001b[0m\n\u001b[0;32m     14\u001b[0m         \u001b[1;32melse\u001b[0m\u001b[1;33m:\u001b[0m\u001b[1;33m\u001b[0m\u001b[1;33m\u001b[0m\u001b[0m\n\u001b[1;32m---> 15\u001b[1;33m             \u001b[0mg\u001b[0m \u001b[1;33m=\u001b[0m \u001b[0msns\u001b[0m\u001b[1;33m.\u001b[0m\u001b[0mdistplot\u001b[0m\u001b[1;33m(\u001b[0m\u001b[0mdataset\u001b[0m\u001b[1;33m[\u001b[0m\u001b[0mcolumn\u001b[0m\u001b[1;33m]\u001b[0m\u001b[1;33m)\u001b[0m \u001b[1;31m# kde=False if problems, but then the distribution is missing\u001b[0m\u001b[1;33m\u001b[0m\u001b[1;33m\u001b[0m\u001b[0m\n\u001b[0m\u001b[0;32m     16\u001b[0m             \u001b[0mplt\u001b[0m\u001b[1;33m.\u001b[0m\u001b[0mxticks\u001b[0m\u001b[1;33m(\u001b[0m\u001b[0mrotation\u001b[0m\u001b[1;33m=\u001b[0m\u001b[1;36m25\u001b[0m\u001b[1;33m)\u001b[0m\u001b[1;33m\u001b[0m\u001b[1;33m\u001b[0m\u001b[0m\n",
      "\u001b[1;32m~\\anaconda3\\envs\\nf\\lib\\site-packages\\seaborn\\distributions.py\u001b[0m in \u001b[0;36mdistplot\u001b[1;34m(a, bins, hist, kde, rug, fit, hist_kws, kde_kws, rug_kws, fit_kws, color, vertical, norm_hist, axlabel, label, ax)\u001b[0m\n\u001b[0;32m    231\u001b[0m     \u001b[1;32mif\u001b[0m \u001b[0mkde\u001b[0m\u001b[1;33m:\u001b[0m\u001b[1;33m\u001b[0m\u001b[1;33m\u001b[0m\u001b[0m\n\u001b[0;32m    232\u001b[0m         \u001b[0mkde_color\u001b[0m \u001b[1;33m=\u001b[0m \u001b[0mkde_kws\u001b[0m\u001b[1;33m.\u001b[0m\u001b[0mpop\u001b[0m\u001b[1;33m(\u001b[0m\u001b[1;34m\"color\"\u001b[0m\u001b[1;33m,\u001b[0m \u001b[0mcolor\u001b[0m\u001b[1;33m)\u001b[0m\u001b[1;33m\u001b[0m\u001b[1;33m\u001b[0m\u001b[0m\n\u001b[1;32m--> 233\u001b[1;33m         \u001b[0mkdeplot\u001b[0m\u001b[1;33m(\u001b[0m\u001b[0ma\u001b[0m\u001b[1;33m,\u001b[0m \u001b[0mvertical\u001b[0m\u001b[1;33m=\u001b[0m\u001b[0mvertical\u001b[0m\u001b[1;33m,\u001b[0m \u001b[0max\u001b[0m\u001b[1;33m=\u001b[0m\u001b[0max\u001b[0m\u001b[1;33m,\u001b[0m \u001b[0mcolor\u001b[0m\u001b[1;33m=\u001b[0m\u001b[0mkde_color\u001b[0m\u001b[1;33m,\u001b[0m \u001b[1;33m**\u001b[0m\u001b[0mkde_kws\u001b[0m\u001b[1;33m)\u001b[0m\u001b[1;33m\u001b[0m\u001b[1;33m\u001b[0m\u001b[0m\n\u001b[0m\u001b[0;32m    234\u001b[0m         \u001b[1;32mif\u001b[0m \u001b[0mkde_color\u001b[0m \u001b[1;33m!=\u001b[0m \u001b[0mcolor\u001b[0m\u001b[1;33m:\u001b[0m\u001b[1;33m\u001b[0m\u001b[1;33m\u001b[0m\u001b[0m\n\u001b[0;32m    235\u001b[0m             \u001b[0mkde_kws\u001b[0m\u001b[1;33m[\u001b[0m\u001b[1;34m\"color\"\u001b[0m\u001b[1;33m]\u001b[0m \u001b[1;33m=\u001b[0m \u001b[0mkde_color\u001b[0m\u001b[1;33m\u001b[0m\u001b[1;33m\u001b[0m\u001b[0m\n",
      "\u001b[1;32m~\\anaconda3\\envs\\nf\\lib\\site-packages\\seaborn\\distributions.py\u001b[0m in \u001b[0;36mkdeplot\u001b[1;34m(data, data2, shade, vertical, kernel, bw, gridsize, cut, clip, legend, cumulative, shade_lowest, cbar, cbar_ax, cbar_kws, ax, **kwargs)\u001b[0m\n\u001b[0;32m    703\u001b[0m         ax = _univariate_kdeplot(data, shade, vertical, kernel, bw,\n\u001b[0;32m    704\u001b[0m                                  \u001b[0mgridsize\u001b[0m\u001b[1;33m,\u001b[0m \u001b[0mcut\u001b[0m\u001b[1;33m,\u001b[0m \u001b[0mclip\u001b[0m\u001b[1;33m,\u001b[0m \u001b[0mlegend\u001b[0m\u001b[1;33m,\u001b[0m \u001b[0max\u001b[0m\u001b[1;33m,\u001b[0m\u001b[1;33m\u001b[0m\u001b[1;33m\u001b[0m\u001b[0m\n\u001b[1;32m--> 705\u001b[1;33m                                  cumulative=cumulative, **kwargs)\n\u001b[0m\u001b[0;32m    706\u001b[0m \u001b[1;33m\u001b[0m\u001b[0m\n\u001b[0;32m    707\u001b[0m     \u001b[1;32mreturn\u001b[0m \u001b[0max\u001b[0m\u001b[1;33m\u001b[0m\u001b[1;33m\u001b[0m\u001b[0m\n",
      "\u001b[1;32m~\\anaconda3\\envs\\nf\\lib\\site-packages\\seaborn\\distributions.py\u001b[0m in \u001b[0;36m_univariate_kdeplot\u001b[1;34m(data, shade, vertical, kernel, bw, gridsize, cut, clip, legend, ax, cumulative, **kwargs)\u001b[0m\n\u001b[0;32m    293\u001b[0m         x, y = _statsmodels_univariate_kde(data, kernel, bw,\n\u001b[0;32m    294\u001b[0m                                            \u001b[0mgridsize\u001b[0m\u001b[1;33m,\u001b[0m \u001b[0mcut\u001b[0m\u001b[1;33m,\u001b[0m \u001b[0mclip\u001b[0m\u001b[1;33m,\u001b[0m\u001b[1;33m\u001b[0m\u001b[1;33m\u001b[0m\u001b[0m\n\u001b[1;32m--> 295\u001b[1;33m                                            cumulative=cumulative)\n\u001b[0m\u001b[0;32m    296\u001b[0m     \u001b[1;32melse\u001b[0m\u001b[1;33m:\u001b[0m\u001b[1;33m\u001b[0m\u001b[1;33m\u001b[0m\u001b[0m\n\u001b[0;32m    297\u001b[0m         \u001b[1;31m# Fall back to scipy if missing statsmodels\u001b[0m\u001b[1;33m\u001b[0m\u001b[1;33m\u001b[0m\u001b[1;33m\u001b[0m\u001b[0m\n",
      "\u001b[1;32m~\\anaconda3\\envs\\nf\\lib\\site-packages\\seaborn\\distributions.py\u001b[0m in \u001b[0;36m_statsmodels_univariate_kde\u001b[1;34m(data, kernel, bw, gridsize, cut, clip, cumulative)\u001b[0m\n\u001b[0;32m    365\u001b[0m     \u001b[0mfft\u001b[0m \u001b[1;33m=\u001b[0m \u001b[0mkernel\u001b[0m \u001b[1;33m==\u001b[0m \u001b[1;34m\"gau\"\u001b[0m\u001b[1;33m\u001b[0m\u001b[1;33m\u001b[0m\u001b[0m\n\u001b[0;32m    366\u001b[0m     \u001b[0mkde\u001b[0m \u001b[1;33m=\u001b[0m \u001b[0msmnp\u001b[0m\u001b[1;33m.\u001b[0m\u001b[0mKDEUnivariate\u001b[0m\u001b[1;33m(\u001b[0m\u001b[0mdata\u001b[0m\u001b[1;33m)\u001b[0m\u001b[1;33m\u001b[0m\u001b[1;33m\u001b[0m\u001b[0m\n\u001b[1;32m--> 367\u001b[1;33m     \u001b[0mkde\u001b[0m\u001b[1;33m.\u001b[0m\u001b[0mfit\u001b[0m\u001b[1;33m(\u001b[0m\u001b[0mkernel\u001b[0m\u001b[1;33m,\u001b[0m \u001b[0mbw\u001b[0m\u001b[1;33m,\u001b[0m \u001b[0mfft\u001b[0m\u001b[1;33m,\u001b[0m \u001b[0mgridsize\u001b[0m\u001b[1;33m=\u001b[0m\u001b[0mgridsize\u001b[0m\u001b[1;33m,\u001b[0m \u001b[0mcut\u001b[0m\u001b[1;33m=\u001b[0m\u001b[0mcut\u001b[0m\u001b[1;33m,\u001b[0m \u001b[0mclip\u001b[0m\u001b[1;33m=\u001b[0m\u001b[0mclip\u001b[0m\u001b[1;33m)\u001b[0m\u001b[1;33m\u001b[0m\u001b[1;33m\u001b[0m\u001b[0m\n\u001b[0m\u001b[0;32m    368\u001b[0m     \u001b[1;32mif\u001b[0m \u001b[0mcumulative\u001b[0m\u001b[1;33m:\u001b[0m\u001b[1;33m\u001b[0m\u001b[1;33m\u001b[0m\u001b[0m\n\u001b[0;32m    369\u001b[0m         \u001b[0mgrid\u001b[0m\u001b[1;33m,\u001b[0m \u001b[0my\u001b[0m \u001b[1;33m=\u001b[0m \u001b[0mkde\u001b[0m\u001b[1;33m.\u001b[0m\u001b[0msupport\u001b[0m\u001b[1;33m,\u001b[0m \u001b[0mkde\u001b[0m\u001b[1;33m.\u001b[0m\u001b[0mcdf\u001b[0m\u001b[1;33m\u001b[0m\u001b[1;33m\u001b[0m\u001b[0m\n",
      "\u001b[1;32m~\\anaconda3\\envs\\nf\\lib\\site-packages\\statsmodels\\nonparametric\\kde.py\u001b[0m in \u001b[0;36mfit\u001b[1;34m(self, kernel, bw, fft, weights, gridsize, adjust, cut, clip)\u001b[0m\n\u001b[0;32m    138\u001b[0m             density, grid, bw = kdensityfft(endog, kernel=kernel, bw=bw,\n\u001b[0;32m    139\u001b[0m                     \u001b[0madjust\u001b[0m\u001b[1;33m=\u001b[0m\u001b[0madjust\u001b[0m\u001b[1;33m,\u001b[0m \u001b[0mweights\u001b[0m\u001b[1;33m=\u001b[0m\u001b[0mweights\u001b[0m\u001b[1;33m,\u001b[0m \u001b[0mgridsize\u001b[0m\u001b[1;33m=\u001b[0m\u001b[0mgridsize\u001b[0m\u001b[1;33m,\u001b[0m\u001b[1;33m\u001b[0m\u001b[1;33m\u001b[0m\u001b[0m\n\u001b[1;32m--> 140\u001b[1;33m                     clip=clip, cut=cut)\n\u001b[0m\u001b[0;32m    141\u001b[0m         \u001b[1;32melse\u001b[0m\u001b[1;33m:\u001b[0m\u001b[1;33m\u001b[0m\u001b[1;33m\u001b[0m\u001b[0m\n\u001b[0;32m    142\u001b[0m             density, grid, bw = kdensity(endog, kernel=kernel, bw=bw,\n",
      "\u001b[1;32m~\\anaconda3\\envs\\nf\\lib\\site-packages\\statsmodels\\nonparametric\\kde.py\u001b[0m in \u001b[0;36mkdensityfft\u001b[1;34m(X, kernel, bw, weights, gridsize, adjust, clip, cut, retgrid)\u001b[0m\n\u001b[0;32m    451\u001b[0m         \u001b[0mbw\u001b[0m \u001b[1;33m=\u001b[0m \u001b[0mfloat\u001b[0m\u001b[1;33m(\u001b[0m\u001b[0mbw\u001b[0m\u001b[1;33m)\u001b[0m\u001b[1;33m\u001b[0m\u001b[1;33m\u001b[0m\u001b[0m\n\u001b[0;32m    452\u001b[0m     \u001b[1;32mexcept\u001b[0m\u001b[1;33m:\u001b[0m\u001b[1;33m\u001b[0m\u001b[1;33m\u001b[0m\u001b[0m\n\u001b[1;32m--> 453\u001b[1;33m         \u001b[0mbw\u001b[0m \u001b[1;33m=\u001b[0m \u001b[0mbandwidths\u001b[0m\u001b[1;33m.\u001b[0m\u001b[0mselect_bandwidth\u001b[0m\u001b[1;33m(\u001b[0m\u001b[0mX\u001b[0m\u001b[1;33m,\u001b[0m \u001b[0mbw\u001b[0m\u001b[1;33m,\u001b[0m \u001b[0mkern\u001b[0m\u001b[1;33m)\u001b[0m \u001b[1;31m# will cross-val fit this pattern?\u001b[0m\u001b[1;33m\u001b[0m\u001b[1;33m\u001b[0m\u001b[0m\n\u001b[0m\u001b[0;32m    454\u001b[0m     \u001b[0mbw\u001b[0m \u001b[1;33m*=\u001b[0m \u001b[0madjust\u001b[0m\u001b[1;33m\u001b[0m\u001b[1;33m\u001b[0m\u001b[0m\n\u001b[0;32m    455\u001b[0m \u001b[1;33m\u001b[0m\u001b[0m\n",
      "\u001b[1;32m~\\anaconda3\\envs\\nf\\lib\\site-packages\\statsmodels\\nonparametric\\bandwidths.py\u001b[0m in \u001b[0;36mselect_bandwidth\u001b[1;34m(x, bw, kernel)\u001b[0m\n\u001b[0;32m    172\u001b[0m         \u001b[1;31m# eventually this can fall back on another selection criterion.\u001b[0m\u001b[1;33m\u001b[0m\u001b[1;33m\u001b[0m\u001b[1;33m\u001b[0m\u001b[0m\n\u001b[0;32m    173\u001b[0m         \u001b[0merr\u001b[0m \u001b[1;33m=\u001b[0m \u001b[1;34m\"Selected KDE bandwidth is 0. Cannot estiamte density.\"\u001b[0m\u001b[1;33m\u001b[0m\u001b[1;33m\u001b[0m\u001b[0m\n\u001b[1;32m--> 174\u001b[1;33m         \u001b[1;32mraise\u001b[0m \u001b[0mRuntimeError\u001b[0m\u001b[1;33m(\u001b[0m\u001b[0merr\u001b[0m\u001b[1;33m)\u001b[0m\u001b[1;33m\u001b[0m\u001b[1;33m\u001b[0m\u001b[0m\n\u001b[0m\u001b[0;32m    175\u001b[0m     \u001b[1;32melse\u001b[0m\u001b[1;33m:\u001b[0m\u001b[1;33m\u001b[0m\u001b[1;33m\u001b[0m\u001b[0m\n\u001b[0;32m    176\u001b[0m         \u001b[1;32mreturn\u001b[0m \u001b[0mbandwidth\u001b[0m\u001b[1;33m\u001b[0m\u001b[1;33m\u001b[0m\u001b[0m\n",
      "\u001b[1;31mRuntimeError\u001b[0m: Selected KDE bandwidth is 0. Cannot estiamte density."
     ]
    },
    {
     "data": {
      "image/png": "[encoded data removed]",
      "text/plain": [
       "<Figure size 1440x3240 with 7 Axes>"
      ]
     },
     "metadata": {},
     "output_type": "display_data"
    }
   ],
   "source": [
    "plot_distribution(df_X.drop(['date_recorded','funder','installer','wpt_name','subvillage'\n",
    "                                 ,'scheme_name'],axis=1),cols=3)"
   ]
  },
  {
   "cell_type": "markdown",
   "metadata": {},
   "source": [
    "## Handling missing values"
   ]
  },
  {
   "cell_type": "code",
   "execution_count": 21,
   "metadata": {
    "ExecuteTime": {
     "end_time": "2020-04-19T16:59:12.554161Z",
     "start_time": "2020-04-19T16:59:12.397978Z"
    }
   },
   "outputs": [
    {
     "data": {
      "text/html": [
       "<div>\n",
       "<style scoped>\n",
       "    .dataframe tbody tr th:only-of-type {\n",
       "        vertical-align: middle;\n",
       "    }\n",
       "\n",
       "    .dataframe tbody tr th {\n",
       "        vertical-align: top;\n",
       "    }\n",
       "\n",
       "    .dataframe thead th {\n",
       "        text-align: right;\n",
       "    }\n",
       "</style>\n",
       "<table border=\"1\" class=\"dataframe\">\n",
       "  <thead>\n",
       "    <tr style=\"text-align: right;\">\n",
       "      <th></th>\n",
       "      <th>Number</th>\n",
       "      <th>Percentage</th>\n",
       "    </tr>\n",
       "  </thead>\n",
       "  <tbody>\n",
       "    <tr>\n",
       "      <th>amount_tsh</th>\n",
       "      <td>52049</td>\n",
       "      <td>70.1</td>\n",
       "    </tr>\n",
       "    <tr>\n",
       "      <th>scheme_name</th>\n",
       "      <td>35258</td>\n",
       "      <td>47.5</td>\n",
       "    </tr>\n",
       "    <tr>\n",
       "      <th>population</th>\n",
       "      <td>26834</td>\n",
       "      <td>36.1</td>\n",
       "    </tr>\n",
       "    <tr>\n",
       "      <th>construction_year</th>\n",
       "      <td>25969</td>\n",
       "      <td>35.0</td>\n",
       "    </tr>\n",
       "    <tr>\n",
       "      <th>gps_height</th>\n",
       "      <td>25649</td>\n",
       "      <td>34.5</td>\n",
       "    </tr>\n",
       "    <tr>\n",
       "      <th>status_group</th>\n",
       "      <td>14850</td>\n",
       "      <td>20.0</td>\n",
       "    </tr>\n",
       "    <tr>\n",
       "      <th>scheme_management</th>\n",
       "      <td>4846</td>\n",
       "      <td>6.5</td>\n",
       "    </tr>\n",
       "    <tr>\n",
       "      <th>installer</th>\n",
       "      <td>4532</td>\n",
       "      <td>6.1</td>\n",
       "    </tr>\n",
       "    <tr>\n",
       "      <th>funder</th>\n",
       "      <td>4504</td>\n",
       "      <td>6.1</td>\n",
       "    </tr>\n",
       "    <tr>\n",
       "      <th>wpt_name</th>\n",
       "      <td>4440</td>\n",
       "      <td>6.0</td>\n",
       "    </tr>\n",
       "    <tr>\n",
       "      <th>public_meeting</th>\n",
       "      <td>4155</td>\n",
       "      <td>5.6</td>\n",
       "    </tr>\n",
       "    <tr>\n",
       "      <th>permit</th>\n",
       "      <td>3793</td>\n",
       "      <td>5.1</td>\n",
       "    </tr>\n",
       "    <tr>\n",
       "      <th>longitude</th>\n",
       "      <td>2269</td>\n",
       "      <td>3.1</td>\n",
       "    </tr>\n",
       "    <tr>\n",
       "      <th>subvillage</th>\n",
       "      <td>470</td>\n",
       "      <td>0.6</td>\n",
       "    </tr>\n",
       "  </tbody>\n",
       "</table>\n",
       "</div>"
      ],
      "text/plain": [
       "                   Number  Percentage\n",
       "amount_tsh          52049        70.1\n",
       "scheme_name         35258        47.5\n",
       "population          26834        36.1\n",
       "construction_year   25969        35.0\n",
       "gps_height          25649        34.5\n",
       "status_group        14850        20.0\n",
       "scheme_management    4846         6.5\n",
       "installer            4532         6.1\n",
       "funder               4504         6.1\n",
       "wpt_name             4440         6.0\n",
       "public_meeting       4155         5.6\n",
       "permit               3793         5.1\n",
       "longitude            2269         3.1\n",
       "subvillage            470         0.6"
      ]
     },
     "execution_count": 21,
     "metadata": {},
     "output_type": "execute_result"
    }
   ],
   "source": [
    "# Lets see, which columns have empty values\n",
    "df_X['gps_height'].replace(0.0, np.nan, inplace=True)\n",
    "df_X['population'].replace(0.0, np.nan, inplace=True)\n",
    "df_X['amount_tsh'].replace(0.0, np.nan, inplace=True)\n",
    "df_X['construction_year'].replace(0.0, np.nan, inplace=True)\n",
    "df_X['longitude'].replace(0.0, np.nan, inplace=True)\n",
    "df_X['latitude'].replace(0.0, np.nan, inplace=True)\n",
    "df_X['wpt_name'].replace('none', np.nan, inplace=True)\n",
    "missing = pd.DataFrame(df_X.isnull().sum(),columns=['Number'])\n",
    "missing['Percentage'] = round(missing.Number/df_X.shape[0]*100,1)\n",
    "missing[missing.Number!=0].sort_values('Number',ascending=False)"
   ]
  },
  {
   "cell_type": "markdown",
   "metadata": {},
   "source": [
    "As we can see there are at least 14 columns with missing values after transforming zeros (where hey do not make sense) or 'none' into NaN. So let's starting looking a little bit deeper into it:\n",
    "* amount_tsh with above 70 % of missing data will be dropped\n",
    "* scheme_name has nearly 50 % of missing data. Additionally there are around 2600 unique values within the data which is not missing. So I will assume that there is not that much information within this feature and will drop it as well\n",
    "* status_group is fine as just the test data is missing this feature (unknown prediction target = competition target)\n",
    "* The other columns with missing data should be evaluated in the next step\n",
    "\n",
    "As a first step I will create a list for the features which should be dropped."
   ]
  },
  {
   "cell_type": "code",
   "execution_count": 75,
   "metadata": {
    "ExecuteTime": {
     "end_time": "2020-04-19T17:51:31.810140Z",
     "start_time": "2020-04-19T17:51:31.794517Z"
    }
   },
   "outputs": [],
   "source": [
    "# creating an empty list for the features to be dropped\n",
    "to_drop = []"
   ]
  },
  {
   "cell_type": "markdown",
   "metadata": {},
   "source": [
    "### population"
   ]
  },
  {
   "cell_type": "code",
   "execution_count": null,
   "metadata": {},
   "outputs": [],
   "source": []
  },
  {
   "cell_type": "markdown",
   "metadata": {},
   "source": [
    "### construction_year"
   ]
  },
  {
   "cell_type": "code",
   "execution_count": null,
   "metadata": {},
   "outputs": [],
   "source": []
  },
  {
   "cell_type": "markdown",
   "metadata": {},
   "source": [
    "### gps_height"
   ]
  },
  {
   "cell_type": "code",
   "execution_count": null,
   "metadata": {},
   "outputs": [],
   "source": []
  },
  {
   "cell_type": "markdown",
   "metadata": {},
   "source": [
    "### scheme_management"
   ]
  },
  {
   "cell_type": "code",
   "execution_count": null,
   "metadata": {},
   "outputs": [],
   "source": []
  },
  {
   "cell_type": "markdown",
   "metadata": {
    "ExecuteTime": {
     "end_time": "2020-04-19T17:59:18.677435Z",
     "start_time": "2020-04-19T17:59:18.646393Z"
    }
   },
   "source": [
    "### installer"
   ]
  },
  {
   "cell_type": "code",
   "execution_count": null,
   "metadata": {},
   "outputs": [],
   "source": []
  },
  {
   "cell_type": "markdown",
   "metadata": {
    "ExecuteTime": {
     "end_time": "2020-04-19T17:59:18.677435Z",
     "start_time": "2020-04-19T17:59:18.646393Z"
    }
   },
   "source": [
    "### funder"
   ]
  },
  {
   "cell_type": "code",
   "execution_count": null,
   "metadata": {},
   "outputs": [],
   "source": []
  },
  {
   "cell_type": "markdown",
   "metadata": {},
   "source": [
    "### wpt_name"
   ]
  },
  {
   "cell_type": "code",
   "execution_count": null,
   "metadata": {},
   "outputs": [],
   "source": []
  },
  {
   "cell_type": "markdown",
   "metadata": {},
   "source": [
    "### public_meeting"
   ]
  },
  {
   "cell_type": "code",
   "execution_count": 84,
   "metadata": {
    "ExecuteTime": {
     "end_time": "2020-04-19T18:12:48.405618Z",
     "start_time": "2020-04-19T18:12:48.374602Z"
    },
    "scrolled": true
   },
   "outputs": [
    {
     "data": {
      "text/plain": [
       "functional                 0.503299\n",
       "non functional             0.449910\n",
       "functional needs repair    0.046791\n",
       "Name: status_group, dtype: float64"
      ]
     },
     "execution_count": 84,
     "metadata": {},
     "output_type": "execute_result"
    }
   ],
   "source": [
    "df_X[df_X.public_meeting.isna()==True].status_group.value_counts(normalize=True)"
   ]
  },
  {
   "cell_type": "code",
   "execution_count": 85,
   "metadata": {
    "ExecuteTime": {
     "end_time": "2020-04-19T18:13:51.166351Z",
     "start_time": "2020-04-19T18:13:51.104040Z"
    }
   },
   "outputs": [
    {
     "data": {
      "text/plain": [
       "functional                 0.556899\n",
       "non functional             0.370195\n",
       "functional needs repair    0.072906\n",
       "Name: status_group, dtype: float64"
      ]
     },
     "execution_count": 85,
     "metadata": {},
     "output_type": "execute_result"
    }
   ],
   "source": [
    "df_X[df_X.public_meeting==True].status_group.value_counts(normalize=True)"
   ]
  },
  {
   "cell_type": "code",
   "execution_count": 86,
   "metadata": {
    "ExecuteTime": {
     "end_time": "2020-04-19T18:14:02.668128Z",
     "start_time": "2020-04-19T18:14:02.621457Z"
    }
   },
   "outputs": [
    {
     "data": {
      "text/plain": [
       "non functional             0.482690\n",
       "functional                 0.429871\n",
       "functional needs repair    0.087438\n",
       "Name: status_group, dtype: float64"
      ]
     },
     "execution_count": 86,
     "metadata": {},
     "output_type": "execute_result"
    }
   ],
   "source": [
    "df_X[df_X.public_meeting==False].status_group.value_counts(normalize=True)"
   ]
  },
  {
   "cell_type": "code",
   "execution_count": 80,
   "metadata": {
    "ExecuteTime": {
     "end_time": "2020-04-19T18:06:14.287547Z",
     "start_time": "2020-04-19T18:06:12.692873Z"
    }
   },
   "outputs": [
    {
     "data": {
      "text/plain": [
       "<matplotlib.axes._subplots.AxesSubplot at 0x2100c4ebbe0>"
      ]
     },
     "execution_count": 80,
     "metadata": {},
     "output_type": "execute_result"
    },
    {
     "data": {
      "image/png": "[encoded data removed]",
      "text/plain": [
       "<Figure size 432x288 with 1 Axes>"
      ]
     },
     "metadata": {},
     "output_type": "display_data"
    }
   ],
   "source": [
    "sns.countplot(x='public_meeting',data=df_X,hue='status_group')"
   ]
  },
  {
   "cell_type": "markdown",
   "metadata": {},
   "source": [
    "### permit"
   ]
  },
  {
   "cell_type": "code",
   "execution_count": 89,
   "metadata": {
    "ExecuteTime": {
     "end_time": "2020-04-19T18:15:27.494248Z",
     "start_time": "2020-04-19T18:15:27.478659Z"
    }
   },
   "outputs": [
    {
     "data": {
      "text/plain": [
       "array([False, True, nan], dtype=object)"
      ]
     },
     "execution_count": 89,
     "metadata": {},
     "output_type": "execute_result"
    }
   ],
   "source": [
    "df_X.permit.unique()"
   ]
  },
  {
   "cell_type": "code",
   "execution_count": 84,
   "metadata": {
    "ExecuteTime": {
     "end_time": "2020-04-19T18:12:48.405618Z",
     "start_time": "2020-04-19T18:12:48.374602Z"
    },
    "scrolled": true
   },
   "outputs": [
    {
     "data": {
      "text/plain": [
       "functional                 0.503299\n",
       "non functional             0.449910\n",
       "functional needs repair    0.046791\n",
       "Name: status_group, dtype: float64"
      ]
     },
     "execution_count": 84,
     "metadata": {},
     "output_type": "execute_result"
    }
   ],
   "source": [
    "df_X[df_X.permit.isna()==True].status_group.value_counts(normalize=True)"
   ]
  },
  {
   "cell_type": "code",
   "execution_count": 85,
   "metadata": {
    "ExecuteTime": {
     "end_time": "2020-04-19T18:13:51.166351Z",
     "start_time": "2020-04-19T18:13:51.104040Z"
    }
   },
   "outputs": [
    {
     "data": {
      "text/plain": [
       "functional                 0.556899\n",
       "non functional             0.370195\n",
       "functional needs repair    0.072906\n",
       "Name: status_group, dtype: float64"
      ]
     },
     "execution_count": 85,
     "metadata": {},
     "output_type": "execute_result"
    }
   ],
   "source": [
    "df_X[df_X.permit==True].status_group.value_counts(normalize=True)"
   ]
  },
  {
   "cell_type": "code",
   "execution_count": 87,
   "metadata": {
    "ExecuteTime": {
     "end_time": "2020-04-19T18:14:52.654592Z",
     "start_time": "2020-04-19T18:14:52.607957Z"
    }
   },
   "outputs": [
    {
     "data": {
      "text/plain": [
       "functional                 0.517094\n",
       "non functional             0.407443\n",
       "functional needs repair    0.075463\n",
       "Name: status_group, dtype: float64"
      ]
     },
     "execution_count": 87,
     "metadata": {},
     "output_type": "execute_result"
    }
   ],
   "source": [
    "df_X[df_X.permit==False].status_group.value_counts(normalize=True)"
   ]
  },
  {
   "cell_type": "markdown",
   "metadata": {},
   "source": [
    "### longitude"
   ]
  },
  {
   "cell_type": "code",
   "execution_count": 126,
   "metadata": {
    "ExecuteTime": {
     "end_time": "2020-04-19T18:59:07.430647Z",
     "start_time": "2020-04-19T18:59:07.415025Z"
    }
   },
   "outputs": [
    {
     "data": {
      "text/plain": [
       "2269"
      ]
     },
     "execution_count": 126,
     "metadata": {},
     "output_type": "execute_result"
    }
   ],
   "source": [
    "df_X.longitude.isna().sum()"
   ]
  },
  {
   "cell_type": "code",
   "execution_count": 99,
   "metadata": {
    "ExecuteTime": {
     "end_time": "2020-04-19T18:26:49.261357Z",
     "start_time": "2020-04-19T18:26:49.245708Z"
    }
   },
   "outputs": [
    {
     "data": {
      "text/plain": [
       "0"
      ]
     },
     "execution_count": 99,
     "metadata": {},
     "output_type": "execute_result"
    }
   ],
   "source": [
    "df_X[df_X.longitude.isna()].subvillage.isna().sum()"
   ]
  },
  {
   "cell_type": "markdown",
   "metadata": {},
   "source": [
    "It seems that where longitude value is missing there is a often a subvillage with a longitude. So this could be a way to get the longitude. Let's try this:"
   ]
  },
  {
   "cell_type": "code",
   "execution_count": 110,
   "metadata": {
    "ExecuteTime": {
     "end_time": "2020-04-19T18:43:39.804607Z",
     "start_time": "2020-04-19T18:43:39.757773Z"
    }
   },
   "outputs": [],
   "source": [
    "df_try = df_X.copy()"
   ]
  },
  {
   "cell_type": "code",
   "execution_count": null,
   "metadata": {},
   "outputs": [],
   "source": [
    "df_try['longitude'].fillna(df[''])"
   ]
  },
  {
   "cell_type": "code",
   "execution_count": 124,
   "metadata": {
    "ExecuteTime": {
     "end_time": "2020-04-19T18:58:18.901203Z",
     "start_time": "2020-04-19T18:58:18.838506Z"
    },
    "scrolled": false
   },
   "outputs": [],
   "source": [
    "df_try[\"longitude\"].fillna(df_try.groupby(['subvillage']).longitude.transform(\"mean\"), inplace=True)"
   ]
  },
  {
   "cell_type": "code",
   "execution_count": 125,
   "metadata": {
    "ExecuteTime": {
     "end_time": "2020-04-19T18:58:34.840779Z",
     "start_time": "2020-04-19T18:58:34.825184Z"
    }
   },
   "outputs": [
    {
     "data": {
      "text/plain": [
       "1410"
      ]
     },
     "execution_count": 125,
     "metadata": {},
     "output_type": "execute_result"
    }
   ],
   "source": [
    "df_try.longitude.isna().sum()"
   ]
  },
  {
   "cell_type": "markdown",
   "metadata": {},
   "source": [
    "### subvillage"
   ]
  },
  {
   "cell_type": "code",
   "execution_count": 92,
   "metadata": {
    "ExecuteTime": {
     "end_time": "2020-04-19T18:22:52.936061Z",
     "start_time": "2020-04-19T18:22:52.920468Z"
    }
   },
   "outputs": [
    {
     "data": {
      "text/plain": [
       "470"
      ]
     },
     "execution_count": 92,
     "metadata": {},
     "output_type": "execute_result"
    }
   ],
   "source": [
    "df_X.subvillage.isna().sum()"
   ]
  },
  {
   "cell_type": "markdown",
   "metadata": {},
   "source": [
    "## Features with no or nearly the same information"
   ]
  },
  {
   "cell_type": "markdown",
   "metadata": {},
   "source": [
    "In the plot above we have seen that there are quite a few columns which do not differ a lot from other. Others seems to not have an information in it at all like the id or the 'recorded_by' feature. Let's try to evaluate them in detail to see which features do not help in predicting the function_status.\n",
    "\n",
    "* id\n",
    "* recorded_by\n",
    "* payment vs. payment type\n",
    "* quantity vs. quantity_group\n",
    "* water_quality vs. quality_group\n",
    "* waterpoint_type vs. waterpoint_type_group\n",
    "* extraction_type vs. extraction_type_group vs. extraction_type_class\n",
    "* scheme_management vs. management vs. management_group\n",
    "* source vs. source_type vs. source_class\n",
    "\n",
    "\n",
    "The feature 'id' could just help in identifying a waterpoint but does not contain relevant information for predicting the status.\n",
    "\n",
    "The feature 'recorded_by' contains only one unique value. This do not help either.\n",
    "\n",
    "Id and recorded_by will be dropped. Therefore we will create a list of the feature names which should be drop finally"
   ]
  },
  {
   "cell_type": "code",
   "execution_count": 39,
   "metadata": {
    "ExecuteTime": {
     "end_time": "2020-04-19T17:13:59.483785Z",
     "start_time": "2020-04-19T17:13:59.452745Z"
    }
   },
   "outputs": [],
   "source": [
    "# adding id and recorded by to this list\n",
    "to_drop.extend(['id','recorded_by'])"
   ]
  },
  {
   "cell_type": "code",
   "execution_count": 40,
   "metadata": {
    "ExecuteTime": {
     "end_time": "2020-04-19T17:14:00.109591Z",
     "start_time": "2020-04-19T17:14:00.078530Z"
    }
   },
   "outputs": [
    {
     "data": {
      "text/plain": [
       "['id', 'recorded_by']"
      ]
     },
     "execution_count": 40,
     "metadata": {},
     "output_type": "execute_result"
    }
   ],
   "source": [
    "to_drop"
   ]
  },
  {
   "cell_type": "markdown",
   "metadata": {},
   "source": [
    "### payment vs. payment type"
   ]
  },
  {
   "cell_type": "code",
   "execution_count": 24,
   "metadata": {
    "ExecuteTime": {
     "end_time": "2020-04-19T16:59:25.746305Z",
     "start_time": "2020-04-19T16:59:25.715092Z"
    }
   },
   "outputs": [
    {
     "data": {
      "text/plain": [
       "never pay                31712\n",
       "pay per bucket           11266\n",
       "pay monthly              10397\n",
       "unknown                  10149\n",
       "pay when scheme fails     4842\n",
       "pay annually              4570\n",
       "other                     1314\n",
       "Name: payment, dtype: int64"
      ]
     },
     "execution_count": 24,
     "metadata": {},
     "output_type": "execute_result"
    }
   ],
   "source": [
    "df_X.payment.value_counts()"
   ]
  },
  {
   "cell_type": "code",
   "execution_count": 25,
   "metadata": {
    "ExecuteTime": {
     "end_time": "2020-04-19T16:59:48.238794Z",
     "start_time": "2020-04-19T16:59:48.207779Z"
    }
   },
   "outputs": [
    {
     "data": {
      "text/plain": [
       "never pay     31712\n",
       "per bucket    11266\n",
       "monthly       10397\n",
       "unknown       10149\n",
       "on failure     4842\n",
       "annually       4570\n",
       "other          1314\n",
       "Name: payment_type, dtype: int64"
      ]
     },
     "execution_count": 25,
     "metadata": {},
     "output_type": "execute_result"
    }
   ],
   "source": [
    "df_X.payment_type.value_counts()"
   ]
  },
  {
   "cell_type": "code",
   "execution_count": 28,
   "metadata": {
    "ExecuteTime": {
     "end_time": "2020-04-19T17:05:22.906450Z",
     "start_time": "2020-04-19T17:05:22.859808Z"
    }
   },
   "outputs": [
    {
     "data": {
      "text/plain": [
       "payment_type  status_group           \n",
       "other         functional                 0.579696\n",
       "              non functional             0.308349\n",
       "              functional needs repair    0.111954\n",
       "unknown       non functional             0.514527\n",
       "              functional                 0.432512\n",
       "              functional needs repair    0.052961\n",
       "Name: status_group, dtype: float64"
      ]
     },
     "execution_count": 28,
     "metadata": {},
     "output_type": "execute_result"
    }
   ],
   "source": [
    "df_X.query('payment_type == \"other\" or payment_type==\"unknown\"').groupby('payment_type').status_group.value_counts(normalize=True)"
   ]
  },
  {
   "cell_type": "markdown",
   "metadata": {},
   "source": [
    "Even if the different categories are named slightly different these two features are storing exactly the same information. Therfore 'payment' will be dropped. Additionally 'unknown' and 'other' should be kept as there seems to be a little difference regarding the distribution of the diffrent status_groups"
   ]
  },
  {
   "cell_type": "code",
   "execution_count": 41,
   "metadata": {
    "ExecuteTime": {
     "end_time": "2020-04-19T17:14:06.505567Z",
     "start_time": "2020-04-19T17:14:06.489988Z"
    }
   },
   "outputs": [],
   "source": [
    "# append 'payment' to to_drop - list\n",
    "to_drop.append('payment')"
   ]
  },
  {
   "cell_type": "markdown",
   "metadata": {},
   "source": [
    "### quantity vs. quantity_group"
   ]
  },
  {
   "cell_type": "code",
   "execution_count": 30,
   "metadata": {
    "ExecuteTime": {
     "end_time": "2020-04-19T17:07:46.224459Z",
     "start_time": "2020-04-19T17:07:46.208841Z"
    }
   },
   "outputs": [
    {
     "data": {
      "text/plain": [
       "enough          41522\n",
       "insufficient    18896\n",
       "dry              7782\n",
       "seasonal         5075\n",
       "unknown           975\n",
       "Name: quantity, dtype: int64"
      ]
     },
     "execution_count": 30,
     "metadata": {},
     "output_type": "execute_result"
    }
   ],
   "source": [
    "df_X.quantity.value_counts()"
   ]
  },
  {
   "cell_type": "code",
   "execution_count": 31,
   "metadata": {
    "ExecuteTime": {
     "end_time": "2020-04-19T17:07:54.758006Z",
     "start_time": "2020-04-19T17:07:54.726755Z"
    }
   },
   "outputs": [
    {
     "data": {
      "text/plain": [
       "enough          41522\n",
       "insufficient    18896\n",
       "dry              7782\n",
       "seasonal         5075\n",
       "unknown           975\n",
       "Name: quantity_group, dtype: int64"
      ]
     },
     "execution_count": 31,
     "metadata": {},
     "output_type": "execute_result"
    }
   ],
   "source": [
    "df_X.quantity_group.value_counts()"
   ]
  },
  {
   "cell_type": "code",
   "execution_count": 42,
   "metadata": {
    "ExecuteTime": {
     "end_time": "2020-04-19T17:14:10.459186Z",
     "start_time": "2020-04-19T17:14:10.443537Z"
    }
   },
   "outputs": [],
   "source": [
    "# append 'quantity_group' to to_drop-List\n",
    "to_drop.append('quantity_group')"
   ]
  },
  {
   "cell_type": "markdown",
   "metadata": {},
   "source": [
    "### water_quality vs. quality_group"
   ]
  },
  {
   "cell_type": "code",
   "execution_count": 33,
   "metadata": {
    "ExecuteTime": {
     "end_time": "2020-04-19T17:09:40.789245Z",
     "start_time": "2020-04-19T17:09:40.757974Z"
    }
   },
   "outputs": [
    {
     "data": {
      "text/plain": [
       "good        63505\n",
       "salty        6505\n",
       "unknown      2345\n",
       "milky        1005\n",
       "colored       623\n",
       "fluoride      267\n",
       "Name: quality_group, dtype: int64"
      ]
     },
     "execution_count": 33,
     "metadata": {},
     "output_type": "execute_result"
    }
   ],
   "source": [
    "df_X.quality_group.value_counts()"
   ]
  },
  {
   "cell_type": "code",
   "execution_count": 34,
   "metadata": {
    "ExecuteTime": {
     "end_time": "2020-04-19T17:09:52.416375Z",
     "start_time": "2020-04-19T17:09:52.385360Z"
    }
   },
   "outputs": [
    {
     "data": {
      "text/plain": [
       "soft                  63505\n",
       "salty                  6082\n",
       "unknown                2345\n",
       "milky                  1005\n",
       "coloured                623\n",
       "salty abandoned         423\n",
       "fluoride                244\n",
       "fluoride abandoned       23\n",
       "Name: water_quality, dtype: int64"
      ]
     },
     "execution_count": 34,
     "metadata": {},
     "output_type": "execute_result"
    }
   ],
   "source": [
    "df_X.water_quality.value_counts()"
   ]
  },
  {
   "cell_type": "markdown",
   "metadata": {},
   "source": [
    "'water_quality' contains more information which could be explored in more detail later. Therefore I will drop the 'quality_group' column"
   ]
  },
  {
   "cell_type": "code",
   "execution_count": 43,
   "metadata": {
    "ExecuteTime": {
     "end_time": "2020-04-19T17:14:14.601556Z",
     "start_time": "2020-04-19T17:14:14.585915Z"
    }
   },
   "outputs": [],
   "source": [
    "to_drop.append('quality_group')"
   ]
  },
  {
   "cell_type": "code",
   "execution_count": 44,
   "metadata": {
    "ExecuteTime": {
     "end_time": "2020-04-19T17:14:15.133238Z",
     "start_time": "2020-04-19T17:14:15.101999Z"
    }
   },
   "outputs": [
    {
     "data": {
      "text/plain": [
       "['id', 'recorded_by', 'payment', 'quantity_group', 'quality_group']"
      ]
     },
     "execution_count": 44,
     "metadata": {},
     "output_type": "execute_result"
    }
   ],
   "source": [
    "to_drop"
   ]
  },
  {
   "cell_type": "markdown",
   "metadata": {},
   "source": [
    "### waterpoint_type vs. waterpoint_type_group"
   ]
  },
  {
   "cell_type": "code",
   "execution_count": 45,
   "metadata": {
    "ExecuteTime": {
     "end_time": "2020-04-19T17:15:03.193260Z",
     "start_time": "2020-04-19T17:15:03.177638Z"
    }
   },
   "outputs": [
    {
     "data": {
      "text/plain": [
       "communal standpipe             35628\n",
       "hand pump                      21884\n",
       "other                           8010\n",
       "communal standpipe multiple     7611\n",
       "improved spring                  959\n",
       "cattle trough                    150\n",
       "dam                                8\n",
       "Name: waterpoint_type, dtype: int64"
      ]
     },
     "execution_count": 45,
     "metadata": {},
     "output_type": "execute_result"
    }
   ],
   "source": [
    "df_X.waterpoint_type.value_counts()"
   ]
  },
  {
   "cell_type": "code",
   "execution_count": 46,
   "metadata": {
    "ExecuteTime": {
     "end_time": "2020-04-19T17:15:10.569990Z",
     "start_time": "2020-04-19T17:15:10.554368Z"
    }
   },
   "outputs": [
    {
     "data": {
      "text/plain": [
       "communal standpipe    43239\n",
       "hand pump             21884\n",
       "other                  8010\n",
       "improved spring         959\n",
       "cattle trough           150\n",
       "dam                       8\n",
       "Name: waterpoint_type_group, dtype: int64"
      ]
     },
     "execution_count": 46,
     "metadata": {},
     "output_type": "execute_result"
    }
   ],
   "source": [
    "df_X.waterpoint_type_group.value_counts()"
   ]
  },
  {
   "cell_type": "markdown",
   "metadata": {},
   "source": [
    "The feature 'waterpoint_type' holds slightly more information so I will keep this column and drop the second."
   ]
  },
  {
   "cell_type": "code",
   "execution_count": 55,
   "metadata": {
    "ExecuteTime": {
     "end_time": "2020-04-19T17:20:41.762703Z",
     "start_time": "2020-04-19T17:20:41.747055Z"
    }
   },
   "outputs": [],
   "source": [
    "to_drop.append('waterpoint_type_group')"
   ]
  },
  {
   "cell_type": "markdown",
   "metadata": {},
   "source": [
    "### extraction_type vs. extraction_type_group vs. extraction_type_class"
   ]
  },
  {
   "cell_type": "code",
   "execution_count": 58,
   "metadata": {
    "ExecuteTime": {
     "end_time": "2020-04-19T17:22:33.223557Z",
     "start_time": "2020-04-19T17:22:33.207960Z"
    }
   },
   "outputs": [
    {
     "data": {
      "text/plain": [
       "gravity                      33263\n",
       "nira/tanira                  10205\n",
       "other                         8102\n",
       "submersible                   5982\n",
       "swn 80                        4588\n",
       "mono                          3628\n",
       "india mark ii                 3029\n",
       "afridev                       2208\n",
       "ksb                           1790\n",
       "other - rope pump              572\n",
       "other - swn 81                 284\n",
       "windmill                       152\n",
       "india mark iii                 135\n",
       "cemo                           108\n",
       "other - play pump              101\n",
       "walimi                          60\n",
       "climax                          41\n",
       "other - mkulima/shinyanga        2\n",
       "Name: extraction_type, dtype: int64"
      ]
     },
     "execution_count": 58,
     "metadata": {},
     "output_type": "execute_result"
    }
   ],
   "source": [
    "df_X.extraction_type.value_counts()"
   ]
  },
  {
   "cell_type": "code",
   "execution_count": 57,
   "metadata": {
    "ExecuteTime": {
     "end_time": "2020-04-19T17:22:31.004684Z",
     "start_time": "2020-04-19T17:22:30.973663Z"
    }
   },
   "outputs": [
    {
     "data": {
      "text/plain": [
       "gravity            33263\n",
       "nira/tanira        10205\n",
       "other               8102\n",
       "submersible         7772\n",
       "swn 80              4588\n",
       "mono                3628\n",
       "india mark ii       3029\n",
       "afridev             2208\n",
       "rope pump            572\n",
       "other handpump       447\n",
       "wind-powered         152\n",
       "other motorpump      149\n",
       "india mark iii       135\n",
       "Name: extraction_type_group, dtype: int64"
      ]
     },
     "execution_count": 57,
     "metadata": {},
     "output_type": "execute_result"
    }
   ],
   "source": [
    "df_X.extraction_type_group.value_counts()"
   ]
  },
  {
   "cell_type": "code",
   "execution_count": 56,
   "metadata": {
    "ExecuteTime": {
     "end_time": "2020-04-19T17:22:28.365652Z",
     "start_time": "2020-04-19T17:22:28.334439Z"
    }
   },
   "outputs": [
    {
     "data": {
      "text/plain": [
       "gravity         33263\n",
       "handpump        20612\n",
       "other            8102\n",
       "submersible      7772\n",
       "motorpump        3777\n",
       "rope pump         572\n",
       "wind-powered      152\n",
       "Name: extraction_type_class, dtype: int64"
      ]
     },
     "execution_count": 56,
     "metadata": {},
     "output_type": "execute_result"
    }
   ],
   "source": [
    "df_X.extraction_type_class.value_counts()"
   ]
  },
  {
   "cell_type": "markdown",
   "metadata": {},
   "source": [
    "### scheme_management vs. management vs. management_group"
   ]
  },
  {
   "cell_type": "code",
   "execution_count": 59,
   "metadata": {
    "ExecuteTime": {
     "end_time": "2020-04-19T17:23:36.102898Z",
     "start_time": "2020-04-19T17:23:36.071657Z"
    }
   },
   "outputs": [
    {
     "data": {
      "text/plain": [
       "VWC                 45917\n",
       "WUG                  6496\n",
       "Water authority      3975\n",
       "WUA                  3551\n",
       "Water Board          3462\n",
       "Parastatal           2124\n",
       "Company              1341\n",
       "Private operator     1326\n",
       "Other                 996\n",
       "SWC                   123\n",
       "Trust                  92\n",
       "None                    1\n",
       "Name: scheme_management, dtype: int64"
      ]
     },
     "execution_count": 59,
     "metadata": {},
     "output_type": "execute_result"
    }
   ],
   "source": [
    "df_X.scheme_management.value_counts()"
   ]
  },
  {
   "cell_type": "code",
   "execution_count": 60,
   "metadata": {
    "ExecuteTime": {
     "end_time": "2020-04-19T17:23:46.198064Z",
     "start_time": "2020-04-19T17:23:46.166850Z"
    }
   },
   "outputs": [
    {
     "data": {
      "text/plain": [
       "vwc                 50624\n",
       "wug                  8108\n",
       "water board          3688\n",
       "wua                  3118\n",
       "private operator     2504\n",
       "parastatal           2229\n",
       "water authority      1123\n",
       "other                1083\n",
       "company               859\n",
       "unknown               683\n",
       "other - school        126\n",
       "trust                 105\n",
       "Name: management, dtype: int64"
      ]
     },
     "execution_count": 60,
     "metadata": {},
     "output_type": "execute_result"
    }
   ],
   "source": [
    "df_X.management.value_counts()"
   ]
  },
  {
   "cell_type": "code",
   "execution_count": 61,
   "metadata": {
    "ExecuteTime": {
     "end_time": "2020-04-19T17:24:22.085526Z",
     "start_time": "2020-04-19T17:24:22.054252Z"
    }
   },
   "outputs": [
    {
     "data": {
      "text/plain": [
       "user-group    65538\n",
       "commercial     4591\n",
       "parastatal     2229\n",
       "other          1209\n",
       "unknown         683\n",
       "Name: management_group, dtype: int64"
      ]
     },
     "execution_count": 61,
     "metadata": {},
     "output_type": "execute_result"
    }
   ],
   "source": [
    "df_X.management_group.value_counts()"
   ]
  },
  {
   "cell_type": "markdown",
   "metadata": {},
   "source": [
    "### source vs. source_type vs. source_class"
   ]
  },
  {
   "cell_type": "code",
   "execution_count": 62,
   "metadata": {
    "ExecuteTime": {
     "end_time": "2020-04-19T17:25:09.749701Z",
     "start_time": "2020-04-19T17:25:09.718676Z"
    }
   },
   "outputs": [
    {
     "data": {
      "text/plain": [
       "spring                  21216\n",
       "shallow well            21140\n",
       "machine dbh             13822\n",
       "river                   11964\n",
       "rainwater harvesting     2863\n",
       "hand dtw                 1108\n",
       "lake                      950\n",
       "dam                       840\n",
       "other                     261\n",
       "unknown                    86\n",
       "Name: source, dtype: int64"
      ]
     },
     "execution_count": 62,
     "metadata": {},
     "output_type": "execute_result"
    }
   ],
   "source": [
    "df_X.source.value_counts()"
   ]
  },
  {
   "cell_type": "code",
   "execution_count": 63,
   "metadata": {
    "ExecuteTime": {
     "end_time": "2020-04-19T17:25:18.602767Z",
     "start_time": "2020-04-19T17:25:18.571497Z"
    }
   },
   "outputs": [
    {
     "data": {
      "text/plain": [
       "spring                  21216\n",
       "shallow well            21140\n",
       "borehole                14930\n",
       "river/lake              12914\n",
       "rainwater harvesting     2863\n",
       "dam                       840\n",
       "other                     347\n",
       "Name: source_type, dtype: int64"
      ]
     },
     "execution_count": 63,
     "metadata": {},
     "output_type": "execute_result"
    }
   ],
   "source": [
    "df_X.source_type.value_counts()"
   ]
  },
  {
   "cell_type": "code",
   "execution_count": 64,
   "metadata": {
    "ExecuteTime": {
     "end_time": "2020-04-19T17:25:25.554513Z",
     "start_time": "2020-04-19T17:25:25.523237Z"
    }
   },
   "outputs": [
    {
     "data": {
      "text/plain": [
       "groundwater    57286\n",
       "surface        16617\n",
       "unknown          347\n",
       "Name: source_class, dtype: int64"
      ]
     },
     "execution_count": 64,
     "metadata": {},
     "output_type": "execute_result"
    }
   ],
   "source": [
    "df_X.source_class.value_counts()"
   ]
  },
  {
   "cell_type": "code",
   "execution_count": null,
   "metadata": {},
   "outputs": [],
   "source": []
  },
  {
   "cell_type": "markdown",
   "metadata": {},
   "source": [
    "## Export cleaned data "
   ]
  },
  {
   "cell_type": "code",
   "execution_count": null,
   "metadata": {},
   "outputs": [],
   "source": [
    "# Exporting the whole training data (values + labels)\n",
    "df_X.to_pickle(DATA_FOLDER + 'cleaned_first.pkl')\n",
    "print(f'{(1-df.shape[0]/OrgRowCount)*100}% data loss of cleaning')"
   ]
  },
  {
   "cell_type": "markdown",
   "metadata": {},
   "source": [
    "# Data Exploration"
   ]
  },
  {
   "cell_type": "markdown",
   "metadata": {},
   "source": [
    "## Initial import of the data"
   ]
  },
  {
   "cell_type": "code",
   "execution_count": null,
   "metadata": {},
   "outputs": [],
   "source": [
    "# import only training data "
   ]
  },
  {
   "cell_type": "markdown",
   "metadata": {},
   "source": [
    "## Features to drop? \n",
    "\n",
    "* funder\n",
    "* scheme_name\n",
    "* installer\n",
    "* wpt_name\n",
    "* subvillage"
   ]
  },
  {
   "cell_type": "markdown",
   "metadata": {},
   "source": [
    "# Feature Engineering"
   ]
  },
  {
   "cell_type": "markdown",
   "metadata": {},
   "source": [
    "# Predictive Modeling"
   ]
  },
  {
   "cell_type": "markdown",
   "metadata": {},
   "source": [
    "## Building a preprocessing pipeline"
   ]
  },
  {
   "cell_type": "code",
   "execution_count": null,
   "metadata": {},
   "outputs": [],
   "source": []
  }
 ],
 "metadata": {
  "kernelspec": {
   "display_name": "Python [conda env:nf] *",
   "language": "python",
   "name": "conda-env-nf-py"
  },
  "language_info": {
   "codemirror_mode": {
    "name": "ipython",
    "version": 3
   },
   "file_extension": ".py",
   "mimetype": "text/x-python",
   "name": "python",
   "nbconvert_exporter": "python",
   "pygments_lexer": "ipython3",
   "version": "3.6.10"
  },
  "toc": {
   "base_numbering": 1,
   "nav_menu": {},
   "number_sections": true,
   "sideBar": true,
   "skip_h1_title": false,
   "title_cell": "Table of Contents",
   "title_sidebar": "Contents",
   "toc_cell": true,
   "toc_position": {
    "height": "calc(100% - 180px)",
    "left": "10px",
    "top": "150px",
    "width": "384px"
   },
   "toc_section_display": true,
   "toc_window_display": true
  }
 },
 "nbformat": 4,
 "nbformat_minor": 4
}
