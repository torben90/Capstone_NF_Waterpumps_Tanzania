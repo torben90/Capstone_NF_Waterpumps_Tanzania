{
 "cells": [
  {
   "cell_type": "code",
   "execution_count": 1,
   "metadata": {
    "ExecuteTime": {
     "end_time": "2020-05-06T06:30:13.623883Z",
     "start_time": "2020-05-06T06:30:13.592638Z"
    }
   },
   "outputs": [],
   "source": [
    "reset -fs"
   ]
  },
  {
   "cell_type": "markdown",
   "metadata": {},
   "source": [
    "This Notebook is the second for my Capstone project. It contains everythin relative to the predective modeling. Starting with setting up pipelines then building different models. The most promising models will be optimized and the results will be visualized"
   ]
  },
  {
   "cell_type": "markdown",
   "metadata": {
    "toc": true
   },
   "source": [
    "<h1>Table of Contents<span class=\"tocSkip\"></span></h1>\n",
    "<div class=\"toc\"><ul class=\"toc-item\"><li><span><a href=\"#Setup\" data-toc-modified-id=\"Setup-1\"><span class=\"toc-item-num\">1&nbsp;&nbsp;</span>Setup</a></span><ul class=\"toc-item\"><li><span><a href=\"#Import-modules\" data-toc-modified-id=\"Import-modules-1.1\"><span class=\"toc-item-num\">1.1&nbsp;&nbsp;</span>Import modules</a></span></li><li><span><a href=\"#Macros\" data-toc-modified-id=\"Macros-1.2\"><span class=\"toc-item-num\">1.2&nbsp;&nbsp;</span>Macros</a></span></li><li><span><a href=\"#Utile-Functions\" data-toc-modified-id=\"Utile-Functions-1.3\"><span class=\"toc-item-num\">1.3&nbsp;&nbsp;</span>Utile Functions</a></span></li></ul></li><li><span><a href=\"#Predictive-Modeling\" data-toc-modified-id=\"Predictive-Modeling-2\"><span class=\"toc-item-num\">2&nbsp;&nbsp;</span>Predictive Modeling</a></span><ul class=\"toc-item\"><li><span><a href=\"#Initial-Import-of-the-data\" data-toc-modified-id=\"Initial-Import-of-the-data-2.1\"><span class=\"toc-item-num\">2.1&nbsp;&nbsp;</span>Initial Import of the data</a></span></li><li><span><a href=\"#Preparation\" data-toc-modified-id=\"Preparation-2.2\"><span class=\"toc-item-num\">2.2&nbsp;&nbsp;</span>Preparation</a></span></li><li><span><a href=\"#Building-a-preprocessing-pipeline\" data-toc-modified-id=\"Building-a-preprocessing-pipeline-2.3\"><span class=\"toc-item-num\">2.3&nbsp;&nbsp;</span>Building a preprocessing pipeline</a></span></li><li><span><a href=\"#Modeling\" data-toc-modified-id=\"Modeling-2.4\"><span class=\"toc-item-num\">2.4&nbsp;&nbsp;</span>Modeling</a></span><ul class=\"toc-item\"><li><span><a href=\"#Baseline-model:-DummyClassifier\" data-toc-modified-id=\"Baseline-model:-DummyClassifier-2.4.1\"><span class=\"toc-item-num\">2.4.1&nbsp;&nbsp;</span>Baseline model: DummyClassifier</a></span></li><li><span><a href=\"#Logistics-Regression\" data-toc-modified-id=\"Logistics-Regression-2.4.2\"><span class=\"toc-item-num\">2.4.2&nbsp;&nbsp;</span>Logistics Regression</a></span><ul class=\"toc-item\"><li><span><a href=\"#with-feature-selection\" data-toc-modified-id=\"with-feature-selection-2.4.2.1\"><span class=\"toc-item-num\">2.4.2.1&nbsp;&nbsp;</span>with feature selection</a></span></li></ul></li><li><span><a href=\"#Overview-of-different-models\" data-toc-modified-id=\"Overview-of-different-models-2.4.3\"><span class=\"toc-item-num\">2.4.3&nbsp;&nbsp;</span>Overview of different models</a></span></li><li><span><a href=\"#Naive-Bayes-Classifier\" data-toc-modified-id=\"Naive-Bayes-Classifier-2.4.4\"><span class=\"toc-item-num\">2.4.4&nbsp;&nbsp;</span>Naive Bayes Classifier</a></span></li><li><span><a href=\"#Random-Forest\" data-toc-modified-id=\"Random-Forest-2.4.5\"><span class=\"toc-item-num\">2.4.5&nbsp;&nbsp;</span>Random Forest</a></span></li></ul></li><li><span><a href=\"#AdaBoost\" data-toc-modified-id=\"AdaBoost-2.5\"><span class=\"toc-item-num\">2.5&nbsp;&nbsp;</span>AdaBoost</a></span></li><li><span><a href=\"#Support-Vector-Classifier\" data-toc-modified-id=\"Support-Vector-Classifier-2.6\"><span class=\"toc-item-num\">2.6&nbsp;&nbsp;</span>Support Vector Classifier</a></span></li><li><span><a href=\"#XGBoost\" data-toc-modified-id=\"XGBoost-2.7\"><span class=\"toc-item-num\">2.7&nbsp;&nbsp;</span>XGBoost</a></span></li><li><span><a href=\"#Neural-Network:-Multilayer-Perceptron-Classifier\" data-toc-modified-id=\"Neural-Network:-Multilayer-Perceptron-Classifier-2.8\"><span class=\"toc-item-num\">2.8&nbsp;&nbsp;</span>Neural Network: Multilayer Perceptron Classifier</a></span></li><li><span><a href=\"#How-about-imbalanced-data\" data-toc-modified-id=\"How-about-imbalanced-data-2.9\"><span class=\"toc-item-num\">2.9&nbsp;&nbsp;</span>How about imbalanced data</a></span></li><li><span><a href=\"#Playing-with-learning-curves\" data-toc-modified-id=\"Playing-with-learning-curves-2.10\"><span class=\"toc-item-num\">2.10&nbsp;&nbsp;</span>Playing with learning curves</a></span></li></ul></li><li><span><a href=\"#Appendix\" data-toc-modified-id=\"Appendix-3\"><span class=\"toc-item-num\">3&nbsp;&nbsp;</span>Appendix</a></span><ul class=\"toc-item\"><li><span><a href=\"#Preparing-Submission\" data-toc-modified-id=\"Preparing-Submission-3.1\"><span class=\"toc-item-num\">3.1&nbsp;&nbsp;</span>Preparing Submission</a></span></li></ul></li></ul></div>"
   ]
  },
  {
   "cell_type": "code",
   "execution_count": 2,
   "metadata": {
    "ExecuteTime": {
     "end_time": "2020-05-06T06:30:16.608624Z",
     "start_time": "2020-05-06T06:30:16.561788Z"
    }
   },
   "outputs": [],
   "source": [
    "reset -fs"
   ]
  },
  {
   "cell_type": "markdown",
   "metadata": {},
   "source": [
    "# Setup"
   ]
  },
  {
   "cell_type": "markdown",
   "metadata": {},
   "source": [
    "In the first step I will load the relevant modules into the notebook, define some macro settings (Folder etc.) and group "
   ]
  },
  {
   "cell_type": "markdown",
   "metadata": {},
   "source": [
    "## Import modules"
   ]
  },
  {
   "cell_type": "code",
   "execution_count": 3,
   "metadata": {
    "ExecuteTime": {
     "end_time": "2020-05-06T06:30:20.671642Z",
     "start_time": "2020-05-06T06:30:19.030691Z"
    }
   },
   "outputs": [
    {
     "name": "stderr",
     "output_type": "stream",
     "text": [
      "C:\\Users\\Torben\\anaconda3\\envs\\nf\\lib\\site-packages\\sklearn\\externals\\joblib\\__init__.py:15: FutureWarning: sklearn.externals.joblib is deprecated in 0.21 and will be removed in 0.23. Please import this functionality directly from joblib, which can be installed with: pip install joblib. If this warning is raised when loading pickled models, you may need to re-serialize those models with scikit-learn 0.21+.\n",
      "  warnings.warn(msg, category=FutureWarning)\n"
     ]
    }
   ],
   "source": [
    "import os\n",
    "import math\n",
    "import datetime\n",
    "\n",
    "# \n",
    "import numpy as np\n",
    "import pandas as pd\n",
    "\n",
    "# Visualization\n",
    "import matplotlib.pyplot as plt\n",
    "import seaborn as sns\n",
    "\n",
    "\n",
    "# Modeling\n",
    "from sklearn.preprocessing import OneHotEncoder, StandardScaler, MinMaxScaler\n",
    "from sklearn.model_selection import train_test_split, cross_val_score, cross_val_predict,GridSearchCV,RandomizedSearchCV, cross_validate\n",
    "from sklearn.pipeline import Pipeline\n",
    "from sklearn.impute import SimpleImputer\n",
    "from sklearn.compose import ColumnTransformer\n",
    "\n",
    "from sklearn.linear_model import LogisticRegression, LogisticRegressionCV, SGDClassifier\n",
    "from sklearn.svm import SVC, LinearSVC\n",
    "from sklearn.ensemble import RandomForestClassifier, AdaBoostClassifier,GradientBoostingClassifier, ExtraTreesClassifier\n",
    "from sklearn.tree import DecisionTreeClassifier\n",
    "from sklearn.neighbors import KNeighborsClassifier\n",
    "\n",
    "from sklearn.dummy import DummyClassifier\n",
    "\n",
    "from sklearn.externals import joblib\n",
    "\n",
    "from sklearn.metrics import roc_curve, confusion_matrix,precision_recall_curve,confusion_matrix, classification_report\n",
    "from sklearn.metrics import precision_score, recall_score, f1_score, accuracy_score, fbeta_score, roc_auc_score\n",
    "from sklearn.metrics import plot_precision_recall_curve, plot_confusion_matrix\n",
    "\n",
    "from xgboost import XGBClassifier, plot_importance\n",
    "\n",
    "import warnings\n",
    "warnings.filterwarnings('ignore')"
   ]
  },
  {
   "cell_type": "markdown",
   "metadata": {},
   "source": [
    "## Macros"
   ]
  },
  {
   "cell_type": "code",
   "execution_count": 4,
   "metadata": {
    "ExecuteTime": {
     "end_time": "2020-05-06T06:30:21.999751Z",
     "start_time": "2020-05-06T06:30:21.984109Z"
    }
   },
   "outputs": [],
   "source": [
    "# Setting some genereral data like folgers and random seed \n",
    "    DATA_FOLDER = './data/'\n",
    "    FIG_FOLDER = './figures/'\n",
    "    MODEL_FOLDER = './models/'\n",
    "    RSEED = 42\n",
    "\n",
    "# Changing some default values for plotting \n",
    "    plt.style.use('fivethirtyeight')\n",
    "    plt.rcParams['font.size'] = 14\n",
    "    plt.rcParams['patch.force_edgecolor'] = True\n",
    "    sns.set_style(\"white\")\n",
    "# sns.set_context(\"talk\")"
   ]
  },
  {
   "cell_type": "code",
   "execution_count": 5,
   "metadata": {
    "ExecuteTime": {
     "end_time": "2020-05-06T06:30:23.906203Z",
     "start_time": "2020-05-06T06:30:23.890609Z"
    }
   },
   "outputs": [],
   "source": [
    "pd.options.display.max_columns = None\n",
    "pd.options.display.max_rows = None"
   ]
  },
  {
   "cell_type": "markdown",
   "metadata": {},
   "source": [
    "## Utile Functions"
   ]
  },
  {
   "cell_type": "code",
   "execution_count": 6,
   "metadata": {
    "ExecuteTime": {
     "end_time": "2020-05-06T06:30:24.890724Z",
     "start_time": "2020-05-06T06:30:24.875105Z"
    }
   },
   "outputs": [],
   "source": [
    "# funtion for saving figures\n",
    "def save_fig(sec_name, fig_name, tight_layout=True,dpi=600):\n",
    "    path = os.path.join(FIG_FOLDER , sec_name + '_'  + fig_name + \".png\")\n",
    "    print(\"Saving figure\", fig_name)\n",
    "    if tight_layout:\n",
    "        plt.tight_layout()\n",
    "    plt.savefig(path, format='png', dpi=dpi)\n",
    "    \n",
    "\n",
    "# function for appending new columns (models) to the evaluation dataframe\n",
    "def add_eval():\n",
    "    \n",
    "    df_evaluation.drop_duplicates(keep=False,inplace=True) \n",
    "    pass\n"
   ]
  },
  {
   "cell_type": "code",
   "execution_count": 7,
   "metadata": {
    "ExecuteTime": {
     "end_time": "2020-05-06T06:30:25.187529Z",
     "start_time": "2020-05-06T06:30:25.156288Z"
    }
   },
   "outputs": [],
   "source": [
    "# auxillary function for the model evaluation\n",
    "compare_mod = pd.DataFrame()\n",
    "def model_eval(m, X_train, X_test, y_train, y_test,name, df=compare_mod,thres=0.5,fbeta=0.5):\n",
    "    \n",
    "    y_ins_pred= m.predict(X_train)\n",
    "    y_outs_pred= m.predict(X_test)\n",
    "    try:\n",
    "        y_ins_pred_p= m.predict_proba(X_train)[:, 1]\n",
    "        y_outs_pred_p= m.predict_proba(X_test)[:, 1]\n",
    "        if thres!=0.5:\n",
    "\n",
    "            y_ins_pred = [1. if e > thres else 0. for e in y_ins_pred_p]\n",
    "            y_outs_pred = [1. if e > thres else 0. for e in y_outs_pred_p]\n",
    "    except:\n",
    "        y_ins_pred_p= y_ins_pred\n",
    "        y_outs_pred_p= y_ins_pred \n",
    "        \n",
    "    df.at['test  recall', name] = recall_score(y_test, y_outs_pred, average='weighted')\n",
    "    df.at['train recall', name] = recall_score(y_train, y_ins_pred, average='weighted')\n",
    "    \n",
    "    df.at['test  precision', name] = precision_score(y_test, y_outs_pred, average='weighted')\n",
    "    df.at['train precision', name] = precision_score(y_train, y_ins_pred, average='weighted')\n",
    "    \n",
    "    df.at['test  f1', name] = f1_score(y_test, y_outs_pred,average='weighted')\n",
    "    df.at['train f1', name] = f1_score(y_train, y_ins_pred,average='weighted')\n",
    "    \n",
    "    df.at[f'test  fb={fbeta}', name] = fbeta_score(y_test, y_outs_pred, fbeta,average='weighted')\n",
    "    df.at[f'train fb={fbeta}', name] = fbeta_score(y_train, y_ins_pred, fbeta,average='weighted')\n",
    "    \n",
    "    df.at['test  accuracy', name] = accuracy_score(y_test, y_outs_pred)\n",
    "    df.at['train accuracy', name] = accuracy_score(y_train, y_ins_pred)    \n",
    "    \n",
    "    print('--')\n",
    "    print(f'test  recall = {recall_score(y_test, y_outs_pred,average=\"weighted\")}')\n",
    "    print(f'train recall = {recall_score(y_train, y_ins_pred,average=\"weighted\")}')\n",
    "    print('--')\n",
    "    print(f'test  precision = {precision_score(y_test, y_outs_pred,average=\"weighted\")}')\n",
    "    print(f'train precision = {precision_score(y_train, y_ins_pred,average=\"weighted\")}')\n",
    "    print('--')\n",
    "    print(f'test  accuracy = {accuracy_score(y_test, y_outs_pred)}')\n",
    "    print(f'train accuracy = {accuracy_score(y_train, y_ins_pred)}')\n",
    "    print('--')  \n",
    "\n",
    "    print(classification_report(y_test, y_outs_pred))"
   ]
  },
  {
   "cell_type": "markdown",
   "metadata": {},
   "source": [
    "# Predictive Modeling"
   ]
  },
  {
   "cell_type": "markdown",
   "metadata": {},
   "source": [
    "## Initial Import of the data"
   ]
  },
  {
   "cell_type": "code",
   "execution_count": 8,
   "metadata": {
    "ExecuteTime": {
     "end_time": "2020-05-06T06:30:29.047320Z",
     "start_time": "2020-05-06T06:30:28.781757Z"
    }
   },
   "outputs": [],
   "source": [
    "train = pd.read_pickle(DATA_FOLDER + 'train_featured_clean.pkl')\n",
    "val = pd.read_pickle(DATA_FOLDER + 'val_featured_clean.pkl')\n",
    "# competition = pd.read_pickle(DATA_FOLDER + 'test_featured_clean.pkl')"
   ]
  },
  {
   "cell_type": "markdown",
   "metadata": {},
   "source": [
    "## Preparation"
   ]
  },
  {
   "cell_type": "code",
   "execution_count": 9,
   "metadata": {
    "ExecuteTime": {
     "end_time": "2020-05-06T06:30:33.985468Z",
     "start_time": "2020-05-06T06:30:33.969834Z"
    }
   },
   "outputs": [],
   "source": [
    "# dropped features \n",
    "to_drop = ['scheme_name',\n",
    " 'wpt_name',\n",
    " 'subvillage',\n",
    " 'id',\n",
    " 'recorded_by',\n",
    " 'payment',\n",
    " 'quantity_group',\n",
    " 'quality_group',\n",
    " 'waterpoint_type_group',\n",
    " 'extraction_type_group',\n",
    " 'management_group',\n",
    " 'source_class',\n",
    " 'source_type',\n",
    " 'region_code',\n",
    " 'ward']"
   ]
  },
  {
   "cell_type": "code",
   "execution_count": 10,
   "metadata": {
    "ExecuteTime": {
     "end_time": "2020-05-06T06:30:34.516580Z",
     "start_time": "2020-05-06T06:30:34.469717Z"
    }
   },
   "outputs": [],
   "source": [
    "# dropping the features defined as not neccessary in the previos chapters\n",
    "train.drop(to_drop,1, inplace=True)\n",
    "val.drop(to_drop,1, inplace=True)"
   ]
  },
  {
   "cell_type": "code",
   "execution_count": 11,
   "metadata": {
    "ExecuteTime": {
     "end_time": "2020-05-06T06:30:37.072197Z",
     "start_time": "2020-05-06T06:30:37.056575Z"
    }
   },
   "outputs": [
    {
     "data": {
      "text/plain": [
       "['amount_tsh',\n",
       " 'gps_height',\n",
       " 'longitude',\n",
       " 'latitude',\n",
       " 'num_private',\n",
       " 'population',\n",
       " 'time_in_operation']"
      ]
     },
     "execution_count": 11,
     "metadata": {},
     "output_type": "execute_result"
    }
   ],
   "source": [
    "numeric_features = list(train.columns[train.dtypes!=object])\n",
    "numeric_features.remove('permit')\n",
    "numeric_features.remove('public_meeting')\n",
    "numeric_features.remove('district_code')\n",
    "# numeric_features.remove('num_private')\n",
    "# numeric_features.remove('date_recorded')\n",
    "# numeric_features.remove('construction_year')\n",
    "numeric_features"
   ]
  },
  {
   "cell_type": "code",
   "execution_count": 12,
   "metadata": {
    "ExecuteTime": {
     "end_time": "2020-05-06T06:30:38.619333Z",
     "start_time": "2020-05-06T06:30:38.603726Z"
    }
   },
   "outputs": [
    {
     "data": {
      "text/plain": [
       "['funder',\n",
       " 'installer',\n",
       " 'basin',\n",
       " 'region',\n",
       " 'lga',\n",
       " 'scheme_management',\n",
       " 'extraction_type',\n",
       " 'management',\n",
       " 'payment_type',\n",
       " 'water_quality',\n",
       " 'quantity',\n",
       " 'source',\n",
       " 'waterpoint_type']"
      ]
     },
     "execution_count": 12,
     "metadata": {},
     "output_type": "execute_result"
    }
   ],
   "source": [
    "categoric_features = list(train.columns[train.dtypes==object])\n",
    "categoric_features.remove('status_group')\n",
    "categoric_features.remove('extraction_type_class')\n",
    "categoric_features"
   ]
  },
  {
   "cell_type": "markdown",
   "metadata": {},
   "source": [
    "## Building a preprocessing pipeline"
   ]
  },
  {
   "cell_type": "code",
   "execution_count": 13,
   "metadata": {
    "ExecuteTime": {
     "end_time": "2020-05-06T08:18:41.607938Z",
     "start_time": "2020-05-06T08:18:41.576667Z"
    }
   },
   "outputs": [],
   "source": [
    "numeric_transformer = Pipeline(steps=[\n",
    "    ('imputer', SimpleImputer(strategy='median')),\n",
    "    ('scaler', StandardScaler())\n",
    "])\n",
    "\n",
    "categorical_transformer = Pipeline(steps=[\n",
    "    ('imputer', SimpleImputer(strategy='constant', fill_value='unknown')),\n",
    "    ('onehot', OneHotEncoder(handle_unknown='ignore'))]) #,sparse=False\n",
    "\n",
    "preprocessor = ColumnTransformer(\n",
    "    transformers=[\n",
    "        ('num', numeric_transformer, numeric_features),\n",
    "        ('cat', categorical_transformer, categoric_features)\n",
    "    ])"
   ]
  },
  {
   "cell_type": "code",
   "execution_count": 14,
   "metadata": {
    "ExecuteTime": {
     "end_time": "2020-05-06T08:18:42.233389Z",
     "start_time": "2020-05-06T08:18:42.155294Z"
    }
   },
   "outputs": [],
   "source": [
    "y_train = train.status_group\n",
    "y_val = val.status_group\n",
    "X_train = train.drop('status_group',1)\n",
    "X_val = val.drop('status_group',1)"
   ]
  },
  {
   "cell_type": "code",
   "execution_count": 15,
   "metadata": {
    "ExecuteTime": {
     "end_time": "2020-05-06T08:18:43.264750Z",
     "start_time": "2020-05-06T08:18:42.842593Z"
    }
   },
   "outputs": [],
   "source": [
    "X_train_transformed = preprocessor.fit_transform(X_train)\n",
    "X_val_transformed = preprocessor.transform(X_val)"
   ]
  },
  {
   "cell_type": "code",
   "execution_count": 16,
   "metadata": {
    "ExecuteTime": {
     "end_time": "2020-05-06T08:18:43.280372Z",
     "start_time": "2020-05-06T08:18:43.264750Z"
    }
   },
   "outputs": [
    {
     "name": "stdout",
     "output_type": "stream",
     "text": [
      "train shape:  (47520, 264)\n",
      "validation shape:  (11880, 264)\n"
     ]
    }
   ],
   "source": [
    "print('train shape: ', X_train_transformed.shape)\n",
    "print('validation shape: ',X_val_transformed.shape)"
   ]
  },
  {
   "cell_type": "code",
   "execution_count": 17,
   "metadata": {
    "ExecuteTime": {
     "end_time": "2020-05-06T08:18:45.608578Z",
     "start_time": "2020-05-06T08:18:45.592924Z"
    }
   },
   "outputs": [],
   "source": [
    "# Feature Selection\n",
    "from sklearn.base import BaseEstimator, TransformerMixin\n",
    "\n",
    "def indices_of_top_k(arr, k):\n",
    "    return np.sort(np.argpartition(np.array(arr), -k)[-k:])\n",
    "\n",
    "class TopFeatureSelector(BaseEstimator, TransformerMixin):\n",
    "    def __init__(self, feature_importances, k):\n",
    "        self.feature_importances = feature_importances\n",
    "        self.k = k\n",
    "    def fit(self, X, y=None):\n",
    "        self.feature_indices_ = indices_of_top_k(self.feature_importances, self.k)\n",
    "        return self\n",
    "    def transform(self, X):\n",
    "        return X[:, self.feature_indices_]"
   ]
  },
  {
   "cell_type": "code",
   "execution_count": 40,
   "metadata": {
    "ExecuteTime": {
     "end_time": "2020-05-04T11:42:52.004679Z",
     "start_time": "2020-05-04T11:42:51.989059Z"
    }
   },
   "outputs": [],
   "source": [
    "pip_feat = Pipeline([\n",
    "    ('preparation', preprocessor),\n",
    "    ('feature_selection', TopFeatureSelector(importances, 100))\n",
    "])"
   ]
  },
  {
   "cell_type": "code",
   "execution_count": 36,
   "metadata": {
    "ExecuteTime": {
     "end_time": "2020-05-04T11:34:36.334487Z",
     "start_time": "2020-05-04T11:34:35.944074Z"
    }
   },
   "outputs": [],
   "source": [
    "X_train_transformed_feat_select = pip_feat.fit_transform(X_train)"
   ]
  },
  {
   "cell_type": "code",
   "execution_count": 37,
   "metadata": {
    "ExecuteTime": {
     "end_time": "2020-05-04T11:34:52.040461Z",
     "start_time": "2020-05-04T11:34:52.024848Z"
    }
   },
   "outputs": [
    {
     "data": {
      "text/plain": [
       "<47520x25 sparse matrix of type '<class 'numpy.float64'>'\n",
       "\twith 525791 stored elements in Compressed Sparse Row format>"
      ]
     },
     "execution_count": 37,
     "metadata": {},
     "output_type": "execute_result"
    }
   ],
   "source": [
    "X_train_transformed_feat_select"
   ]
  },
  {
   "cell_type": "markdown",
   "metadata": {},
   "source": [
    "## Modeling\n"
   ]
  },
  {
   "cell_type": "code",
   "execution_count": 38,
   "metadata": {
    "ExecuteTime": {
     "end_time": "2020-05-06T15:04:17.813173Z",
     "start_time": "2020-05-06T15:04:17.000141Z"
    }
   },
   "outputs": [
    {
     "data": {
      "image/png": "[encoded data removed]",
      "text/plain": [
       "<Figure size 1080x1080 with 2 Axes>"
      ]
     },
     "metadata": {},
     "output_type": "display_data"
    }
   ],
   "source": [
    "with sns.axes_style(\"white\"):\n",
    "    f, ax = plt.subplots(figsize=(15, 15))\n",
    "    ax = sns.heatmap(train.corr(), annot=True, linewidths=.5, cmap=\"RdBu_r\")"
   ]
  },
  {
   "cell_type": "markdown",
   "metadata": {},
   "source": [
    "### Baseline model: DummyClassifier"
   ]
  },
  {
   "cell_type": "markdown",
   "metadata": {},
   "source": [
    "For having a baseline as a lowest benchmark which will be used to compare my models I will start with a dummy classifier. This basic classifier just predicts the most frequent class for all instances which will be feeded into the model. Therefore the accuracy of this classifier is defined by the percentage of the most frequent class. In this case the most frequent class is the 'functional' class. Around 54% of the instances are within this class so the Dummy Classifier provides an accuracy of 0.54"
   ]
  },
  {
   "cell_type": "code",
   "execution_count": 16,
   "metadata": {
    "ExecuteTime": {
     "end_time": "2020-04-30T06:53:11.219240Z",
     "start_time": "2020-04-30T06:53:11.156756Z"
    }
   },
   "outputs": [
    {
     "data": {
      "text/plain": [
       "0.5430976430976431"
      ]
     },
     "execution_count": 16,
     "metadata": {},
     "output_type": "execute_result"
    }
   ],
   "source": [
    "dummy = DummyClassifier(strategy='most_frequent', random_state=0)\n",
    "dummy.fit(X_train, y_train)\n",
    "dummy.score(X_val, y_val)"
   ]
  },
  {
   "cell_type": "code",
   "execution_count": 55,
   "metadata": {
    "ExecuteTime": {
     "end_time": "2020-04-30T11:14:49.971628Z",
     "start_time": "2020-04-30T11:14:48.365600Z"
    }
   },
   "outputs": [
    {
     "name": "stdout",
     "output_type": "stream",
     "text": [
      "--\n",
      "test  recall = 0.5430976430976431\n",
      "train recall = 0.5430765993265994\n",
      "--\n",
      "test  precision = 0.2949550499382149\n",
      "train precision = 0.2949321927361437\n",
      "--\n",
      "test  accuracy = 0.5430976430976431\n",
      "train accuracy = 0.5430765993265994\n",
      "--\n",
      "                         precision    recall  f1-score   support\n",
      "\n",
      "             functional       0.54      1.00      0.70      6452\n",
      "functional needs repair       0.00      0.00      0.00       863\n",
      "         non functional       0.00      0.00      0.00      4565\n",
      "\n",
      "               accuracy                           0.54     11880\n",
      "              macro avg       0.18      0.33      0.23     11880\n",
      "           weighted avg       0.29      0.54      0.38     11880\n",
      "\n"
     ]
    }
   ],
   "source": [
    "model_eval(dummy,X_train,X_val,y_train,y_val,'Dummy')"
   ]
  },
  {
   "cell_type": "markdown",
   "metadata": {},
   "source": [
    "### Overview of different models"
   ]
  },
  {
   "cell_type": "code",
   "execution_count": 20,
   "metadata": {
    "ExecuteTime": {
     "end_time": "2020-05-06T08:20:06.455672Z",
     "start_time": "2020-05-06T08:20:06.424654Z"
    }
   },
   "outputs": [],
   "source": [
    "clf = [LogisticRegression(solver=\"lbfgs\"),\n",
    "       KNeighborsClassifier(n_neighbors=7,weights='distance'),\n",
    "       SVC(),\n",
    "       DecisionTreeClassifier(random_state=RSEED),\n",
    "       RandomForestClassifier(n_estimators=1000, criterion=\"gini\",min_samples_split=10),\n",
    "       ExtraTreesClassifier(random_state=RSEED, n_estimators=500, max_depth=10),\n",
    "       AdaBoostClassifier(random_state=RSEED),\n",
    "       GradientBoostingClassifier(random_state=RSEED),\n",
    "       XGBClassifier()]"
   ]
  },
  {
   "cell_type": "code",
   "execution_count": 21,
   "metadata": {
    "ExecuteTime": {
     "end_time": "2020-05-06T08:45:21.292330Z",
     "start_time": "2020-05-06T08:20:07.205874Z"
    },
    "scrolled": false
   },
   "outputs": [
    {
     "name": "stdout",
     "output_type": "stream",
     "text": [
      "LogisticRegression\n",
      "--\n",
      "test  recall = 0.748989898989899\n",
      "train recall = 0.7531986531986532\n",
      "--\n",
      "test  precision = 0.7366701971668332\n",
      "train precision = 0.7462745777903068\n",
      "--\n",
      "test  accuracy = 0.748989898989899\n",
      "train accuracy = 0.7531986531986532\n",
      "--\n",
      "                         precision    recall  f1-score   support\n",
      "\n",
      "             functional       0.73      0.90      0.81      6452\n",
      "functional needs repair       0.45      0.10      0.17       863\n",
      "         non functional       0.79      0.66      0.72      4565\n",
      "\n",
      "               accuracy                           0.75     11880\n",
      "              macro avg       0.66      0.55      0.57     11880\n",
      "           weighted avg       0.74      0.75      0.73     11880\n",
      "\n",
      "KNeighborsClassifier\n",
      "--\n",
      "test  recall = 0.7753367003367003\n",
      "train recall = 0.9980850168350168\n",
      "--\n",
      "test  precision = 0.7670208027208377\n",
      "train precision = 0.9980851199296356\n",
      "--\n",
      "test  accuracy = 0.7753367003367003\n",
      "train accuracy = 0.9980850168350168\n",
      "--\n",
      "                         precision    recall  f1-score   support\n",
      "\n",
      "             functional       0.79      0.86      0.82      6452\n",
      "functional needs repair       0.46      0.29      0.36       863\n",
      "         non functional       0.80      0.74      0.77      4565\n",
      "\n",
      "               accuracy                           0.78     11880\n",
      "              macro avg       0.68      0.63      0.65     11880\n",
      "           weighted avg       0.77      0.78      0.77     11880\n",
      "\n",
      "SVC\n",
      "--\n",
      "test  recall = 0.7797979797979798\n",
      "train recall = 0.7982323232323232\n",
      "--\n",
      "test  precision = 0.7767358041070652\n",
      "train precision = 0.8009755157985211\n",
      "--\n",
      "test  accuracy = 0.7797979797979798\n",
      "train accuracy = 0.7982323232323232\n",
      "--\n",
      "                         precision    recall  f1-score   support\n",
      "\n",
      "             functional       0.75      0.93      0.83      6452\n",
      "functional needs repair       0.57      0.11      0.19       863\n",
      "         non functional       0.85      0.69      0.76      4565\n",
      "\n",
      "               accuracy                           0.78     11880\n",
      "              macro avg       0.72      0.58      0.59     11880\n",
      "           weighted avg       0.78      0.78      0.76     11880\n",
      "\n",
      "DecisionTreeClassifier\n",
      "--\n",
      "test  recall = 0.7296296296296296\n",
      "train recall = 0.9981060606060606\n",
      "--\n",
      "test  precision = 0.7285857401129111\n",
      "train precision = 0.9981041867450414\n",
      "--\n",
      "test  accuracy = 0.7296296296296296\n",
      "train accuracy = 0.9981060606060606\n",
      "--\n",
      "                         precision    recall  f1-score   support\n",
      "\n",
      "             functional       0.78      0.78      0.78      6452\n",
      "functional needs repair       0.31      0.30      0.31       863\n",
      "         non functional       0.73      0.75      0.74      4565\n",
      "\n",
      "               accuracy                           0.73     11880\n",
      "              macro avg       0.61      0.61      0.61     11880\n",
      "           weighted avg       0.73      0.73      0.73     11880\n",
      "\n",
      "RandomForestClassifier\n",
      "--\n",
      "test  recall = 0.804040404040404\n",
      "train recall = 0.9001683501683502\n",
      "--\n",
      "test  precision = 0.7980702893875168\n",
      "train precision = 0.9015179922626603\n",
      "--\n",
      "test  accuracy = 0.804040404040404\n",
      "train accuracy = 0.9001683501683502\n",
      "--\n",
      "                         precision    recall  f1-score   support\n",
      "\n",
      "             functional       0.79      0.92      0.85      6452\n",
      "functional needs repair       0.62      0.19      0.30       863\n",
      "         non functional       0.85      0.76      0.80      4565\n",
      "\n",
      "               accuracy                           0.80     11880\n",
      "              macro avg       0.75      0.62      0.65     11880\n",
      "           weighted avg       0.80      0.80      0.79     11880\n",
      "\n",
      "ExtraTreesClassifier\n",
      "--\n",
      "test  recall = 0.7429292929292929\n",
      "train recall = 0.7512626262626263\n",
      "--\n",
      "test  precision = 0.7674795487533875\n",
      "train precision = 0.7826151012388616\n",
      "--\n",
      "test  accuracy = 0.7429292929292929\n",
      "train accuracy = 0.7512626262626263\n",
      "--\n",
      "                         precision    recall  f1-score   support\n",
      "\n",
      "             functional       0.69      0.96      0.81      6452\n",
      "functional needs repair       0.65      0.02      0.03       863\n",
      "         non functional       0.89      0.57      0.70      4565\n",
      "\n",
      "               accuracy                           0.74     11880\n",
      "              macro avg       0.75      0.52      0.51     11880\n",
      "           weighted avg       0.77      0.74      0.71     11880\n",
      "\n",
      "AdaBoostClassifier\n",
      "--\n",
      "test  recall = 0.7255892255892256\n",
      "train recall = 0.7226851851851852\n",
      "--\n",
      "test  precision = 0.717369552632237\n",
      "train precision = 0.7118770403834969\n",
      "--\n",
      "test  accuracy = 0.7255892255892256\n",
      "train accuracy = 0.7226851851851852\n",
      "--\n",
      "                         precision    recall  f1-score   support\n",
      "\n",
      "             functional       0.70      0.91      0.79      6452\n",
      "functional needs repair       0.46      0.05      0.09       863\n",
      "         non functional       0.79      0.60      0.68      4565\n",
      "\n",
      "               accuracy                           0.73     11880\n",
      "              macro avg       0.65      0.52      0.52     11880\n",
      "           weighted avg       0.72      0.73      0.70     11880\n",
      "\n",
      "GradientBoostingClassifier\n",
      "--\n",
      "test  recall = 0.7541245791245791\n",
      "train recall = 0.7598063973063973\n",
      "--\n",
      "test  precision = 0.7588989806093906\n",
      "train precision = 0.7675742025586585\n",
      "--\n",
      "test  accuracy = 0.7541245791245791\n",
      "train accuracy = 0.7598063973063973\n",
      "--\n",
      "                         precision    recall  f1-score   support\n",
      "\n",
      "             functional       0.72      0.93      0.81      6452\n",
      "functional needs repair       0.60      0.11      0.19       863\n",
      "         non functional       0.84      0.63      0.72      4565\n",
      "\n",
      "               accuracy                           0.75     11880\n",
      "              macro avg       0.72      0.56      0.57     11880\n",
      "           weighted avg       0.76      0.75      0.73     11880\n",
      "\n",
      "XGBClassifier\n",
      "--\n",
      "test  recall = 0.7435185185185185\n",
      "train recall = 0.75128367003367\n",
      "--\n",
      "test  precision = 0.7483674210656864\n",
      "train precision = 0.7629282953271038\n",
      "--\n",
      "test  accuracy = 0.7435185185185185\n",
      "train accuracy = 0.75128367003367\n",
      "--\n",
      "                         precision    recall  f1-score   support\n",
      "\n",
      "             functional       0.71      0.93      0.81      6452\n",
      "functional needs repair       0.59      0.06      0.12       863\n",
      "         non functional       0.83      0.61      0.70      4565\n",
      "\n",
      "               accuracy                           0.74     11880\n",
      "              macro avg       0.71      0.53      0.54     11880\n",
      "           weighted avg       0.75      0.74      0.72     11880\n",
      "\n",
      "                 LogisticRegression  KNeighborsClassifier       SVC  \\\n",
      "test  recall               0.748990              0.775337  0.779798   \n",
      "train recall               0.753199              0.998085  0.798232   \n",
      "test  precision            0.736670              0.767021  0.776736   \n",
      "train precision            0.746275              0.998085  0.800976   \n",
      "test  f1                   0.728383              0.768534  0.758578   \n",
      "train f1                   0.735729              0.998085  0.782984   \n",
      "test  fb=0.5               0.726996              0.766875  0.760064   \n",
      "train fb=0.5               0.735977              0.998085  0.787087   \n",
      "test  accuracy             0.748990              0.775337  0.779798   \n",
      "train accuracy             0.753199              0.998085  0.798232   \n",
      "\n",
      "                 DecisionTreeClassifier  RandomForestClassifier  \\\n",
      "test  recall                   0.729630                0.804040   \n",
      "train recall                   0.998106                0.900168   \n",
      "test  precision                0.728586                0.798070   \n",
      "train precision                0.998104                0.901518   \n",
      "test  f1                       0.729044                0.789352   \n",
      "train f1                       0.998104                0.895124   \n",
      "test  fb=0.5                   0.728754                0.789406   \n",
      "train fb=0.5                   0.998104                0.897038   \n",
      "test  accuracy                 0.729630                0.804040   \n",
      "train accuracy                 0.998106                0.900168   \n",
      "\n",
      "                 ExtraTreesClassifier  AdaBoostClassifier  \\\n",
      "test  recall                 0.742929            0.725589   \n",
      "train recall                 0.751263            0.722685   \n",
      "test  precision              0.767480            0.717370   \n",
      "train precision              0.782615            0.711877   \n",
      "test  f1                     0.707602            0.697685   \n",
      "train f1                     0.719323            0.694460   \n",
      "test  fb=0.5                 0.712532            0.696629   \n",
      "train fb=0.5                 0.729369            0.693625   \n",
      "test  accuracy               0.742929            0.725589   \n",
      "train accuracy               0.751263            0.722685   \n",
      "\n",
      "                 GradientBoostingClassifier  XGBClassifier  \n",
      "test  recall                       0.754125       0.743519  \n",
      "train recall                       0.759806       0.751284  \n",
      "test  precision                    0.758899       0.748367  \n",
      "train precision                    0.767574       0.762928  \n",
      "test  f1                           0.731369       0.715933  \n",
      "train f1                           0.740852       0.728583  \n",
      "test  fb=0.5                       0.736537       0.719069  \n",
      "train fb=0.5                       0.747987       0.736541  \n",
      "test  accuracy                     0.754125       0.743519  \n",
      "train accuracy                     0.759806       0.751284  \n"
     ]
    }
   ],
   "source": [
    "for model in clf:\n",
    "    model_name = model.__class__.__name__\n",
    "    print(model_name)\n",
    "    clf = Pipeline(steps=[('preprocessor', preprocessor),\n",
    "                         ('classifier', model)])\n",
    "    clf.fit(X_train, y_train)\n",
    "    model_eval(clf,X_train,X_val,y_train,y_val,model_name)\n",
    "print(compare_mod)   "
   ]
  },
  {
   "cell_type": "code",
   "execution_count": 22,
   "metadata": {
    "ExecuteTime": {
     "end_time": "2020-05-06T09:29:21.553187Z",
     "start_time": "2020-05-06T09:29:21.521967Z"
    }
   },
   "outputs": [],
   "source": [
    "df_eval = compare_mod.T"
   ]
  },
  {
   "cell_type": "code",
   "execution_count": 23,
   "metadata": {
    "ExecuteTime": {
     "end_time": "2020-05-06T09:29:22.193789Z",
     "start_time": "2020-05-06T09:29:22.171657Z"
    }
   },
   "outputs": [
    {
     "data": {
      "text/plain": [
       "Index(['test  recall', 'train recall', 'test  precision', 'train precision',\n",
       "       'test  f1', 'train f1', 'test  fb=0.5', 'train fb=0.5',\n",
       "       'test  accuracy', 'train accuracy'],\n",
       "      dtype='object')"
      ]
     },
     "execution_count": 23,
     "metadata": {},
     "output_type": "execute_result"
    }
   ],
   "source": [
    "df_eval.columns"
   ]
  },
  {
   "cell_type": "code",
   "execution_count": 24,
   "metadata": {
    "ExecuteTime": {
     "end_time": "2020-05-06T09:29:25.632324Z",
     "start_time": "2020-05-06T09:29:25.616732Z"
    }
   },
   "outputs": [],
   "source": [
    "df_eval.drop(['test  fb=0.5','train fb=0.5'],1,inplace=True)"
   ]
  },
  {
   "cell_type": "code",
   "execution_count": 25,
   "metadata": {
    "ExecuteTime": {
     "end_time": "2020-05-06T09:29:25.670180Z",
     "start_time": "2020-05-06T09:29:25.632324Z"
    }
   },
   "outputs": [],
   "source": [
    "def plot_result(df):\n",
    "    \n",
    "    \"\"\"\n",
    "    Function for plotting the calculated metrics for each model to compare their performance.\n",
    "    \"\"\"\n",
    "    \n",
    "    plt.rcParams['font.size'] = 14\n",
    "    \n",
    "    labels = df.columns.tolist()\n",
    "    models = df.index.tolist()\n",
    "    \n",
    "    fig, ax = plt.subplots(figsize=(14,14));\n",
    "    x = np.arange(0, (len(models)+2)*len(labels), len(models)+2)\n",
    "    width = 0.35\n",
    "\n",
    "    for mod in models:        \n",
    "        mod_list = []\n",
    "        x += 1\n",
    "        for l in labels:\n",
    "            mod_list.append(df.loc[mod, l]) \n",
    "        \n",
    "        rects1 = ax.bar(x - width/2, mod_list, width, label=mod, alpha=1)    \n",
    "        ax.set_ylabel('score');\n",
    "        ax.set_title('Results');\n",
    "        ax.set_ylim(0,1);\n",
    "        ax.set_xticks(x-len(models)/2)\n",
    "        ax.set_xticklabels(labels);\n",
    "        #ax.legend(loc='upper center', bbox_to_anchor=(0.5, 1.0), ncol=3, fancybox=True);\n",
    "        ax.legend(bbox_to_anchor=(1.05, 1), loc=2, borderaxespad=0.);"
   ]
  },
  {
   "cell_type": "code",
   "execution_count": 26,
   "metadata": {
    "ExecuteTime": {
     "end_time": "2020-05-06T09:29:27.475745Z",
     "start_time": "2020-05-06T09:29:26.803097Z"
    },
    "scrolled": true
   },
   "outputs": [
    {
     "data": {
      "image/png": "[encoded data removed]",
      "text/plain": [
       "<Figure size 1008x1008 with 1 Axes>"
      ]
     },
     "metadata": {},
     "output_type": "display_data"
    }
   ],
   "source": [
    "plot_result(df_eval)"
   ]
  },
  {
   "cell_type": "code",
   "execution_count": 27,
   "metadata": {
    "ExecuteTime": {
     "end_time": "2020-05-06T09:29:32.481509Z",
     "start_time": "2020-05-06T09:29:32.419204Z"
    },
    "scrolled": true
   },
   "outputs": [
    {
     "data": {
      "text/html": [
       "<div>\n",
       "<style scoped>\n",
       "    .dataframe tbody tr th:only-of-type {\n",
       "        vertical-align: middle;\n",
       "    }\n",
       "\n",
       "    .dataframe tbody tr th {\n",
       "        vertical-align: top;\n",
       "    }\n",
       "\n",
       "    .dataframe thead th {\n",
       "        text-align: right;\n",
       "    }\n",
       "</style>\n",
       "<table border=\"1\" class=\"dataframe\">\n",
       "  <thead>\n",
       "    <tr style=\"text-align: right;\">\n",
       "      <th></th>\n",
       "      <th>test  recall</th>\n",
       "      <th>train recall</th>\n",
       "      <th>test  precision</th>\n",
       "      <th>train precision</th>\n",
       "      <th>test  f1</th>\n",
       "      <th>train f1</th>\n",
       "      <th>test  accuracy</th>\n",
       "      <th>train accuracy</th>\n",
       "    </tr>\n",
       "  </thead>\n",
       "  <tbody>\n",
       "    <tr>\n",
       "      <th>LogisticRegression</th>\n",
       "      <td>0.748990</td>\n",
       "      <td>0.753199</td>\n",
       "      <td>0.736670</td>\n",
       "      <td>0.746275</td>\n",
       "      <td>0.728383</td>\n",
       "      <td>0.735729</td>\n",
       "      <td>0.748990</td>\n",
       "      <td>0.753199</td>\n",
       "    </tr>\n",
       "    <tr>\n",
       "      <th>KNeighborsClassifier</th>\n",
       "      <td>0.775337</td>\n",
       "      <td>0.998085</td>\n",
       "      <td>0.767021</td>\n",
       "      <td>0.998085</td>\n",
       "      <td>0.768534</td>\n",
       "      <td>0.998085</td>\n",
       "      <td>0.775337</td>\n",
       "      <td>0.998085</td>\n",
       "    </tr>\n",
       "    <tr>\n",
       "      <th>SVC</th>\n",
       "      <td>0.779798</td>\n",
       "      <td>0.798232</td>\n",
       "      <td>0.776736</td>\n",
       "      <td>0.800976</td>\n",
       "      <td>0.758578</td>\n",
       "      <td>0.782984</td>\n",
       "      <td>0.779798</td>\n",
       "      <td>0.798232</td>\n",
       "    </tr>\n",
       "    <tr>\n",
       "      <th>DecisionTreeClassifier</th>\n",
       "      <td>0.729630</td>\n",
       "      <td>0.998106</td>\n",
       "      <td>0.728586</td>\n",
       "      <td>0.998104</td>\n",
       "      <td>0.729044</td>\n",
       "      <td>0.998104</td>\n",
       "      <td>0.729630</td>\n",
       "      <td>0.998106</td>\n",
       "    </tr>\n",
       "    <tr>\n",
       "      <th>RandomForestClassifier</th>\n",
       "      <td>0.804040</td>\n",
       "      <td>0.900168</td>\n",
       "      <td>0.798070</td>\n",
       "      <td>0.901518</td>\n",
       "      <td>0.789352</td>\n",
       "      <td>0.895124</td>\n",
       "      <td>0.804040</td>\n",
       "      <td>0.900168</td>\n",
       "    </tr>\n",
       "    <tr>\n",
       "      <th>ExtraTreesClassifier</th>\n",
       "      <td>0.742929</td>\n",
       "      <td>0.751263</td>\n",
       "      <td>0.767480</td>\n",
       "      <td>0.782615</td>\n",
       "      <td>0.707602</td>\n",
       "      <td>0.719323</td>\n",
       "      <td>0.742929</td>\n",
       "      <td>0.751263</td>\n",
       "    </tr>\n",
       "    <tr>\n",
       "      <th>AdaBoostClassifier</th>\n",
       "      <td>0.725589</td>\n",
       "      <td>0.722685</td>\n",
       "      <td>0.717370</td>\n",
       "      <td>0.711877</td>\n",
       "      <td>0.697685</td>\n",
       "      <td>0.694460</td>\n",
       "      <td>0.725589</td>\n",
       "      <td>0.722685</td>\n",
       "    </tr>\n",
       "    <tr>\n",
       "      <th>GradientBoostingClassifier</th>\n",
       "      <td>0.754125</td>\n",
       "      <td>0.759806</td>\n",
       "      <td>0.758899</td>\n",
       "      <td>0.767574</td>\n",
       "      <td>0.731369</td>\n",
       "      <td>0.740852</td>\n",
       "      <td>0.754125</td>\n",
       "      <td>0.759806</td>\n",
       "    </tr>\n",
       "    <tr>\n",
       "      <th>XGBClassifier</th>\n",
       "      <td>0.743519</td>\n",
       "      <td>0.751284</td>\n",
       "      <td>0.748367</td>\n",
       "      <td>0.762928</td>\n",
       "      <td>0.715933</td>\n",
       "      <td>0.728583</td>\n",
       "      <td>0.743519</td>\n",
       "      <td>0.751284</td>\n",
       "    </tr>\n",
       "  </tbody>\n",
       "</table>\n",
       "</div>"
      ],
      "text/plain": [
       "                            test  recall  train recall  test  precision  \\\n",
       "LogisticRegression              0.748990      0.753199         0.736670   \n",
       "KNeighborsClassifier            0.775337      0.998085         0.767021   \n",
       "SVC                             0.779798      0.798232         0.776736   \n",
       "DecisionTreeClassifier          0.729630      0.998106         0.728586   \n",
       "RandomForestClassifier          0.804040      0.900168         0.798070   \n",
       "ExtraTreesClassifier            0.742929      0.751263         0.767480   \n",
       "AdaBoostClassifier              0.725589      0.722685         0.717370   \n",
       "GradientBoostingClassifier      0.754125      0.759806         0.758899   \n",
       "XGBClassifier                   0.743519      0.751284         0.748367   \n",
       "\n",
       "                            train precision  test  f1  train f1  \\\n",
       "LogisticRegression                 0.746275  0.728383  0.735729   \n",
       "KNeighborsClassifier               0.998085  0.768534  0.998085   \n",
       "SVC                                0.800976  0.758578  0.782984   \n",
       "DecisionTreeClassifier             0.998104  0.729044  0.998104   \n",
       "RandomForestClassifier             0.901518  0.789352  0.895124   \n",
       "ExtraTreesClassifier               0.782615  0.707602  0.719323   \n",
       "AdaBoostClassifier                 0.711877  0.697685  0.694460   \n",
       "GradientBoostingClassifier         0.767574  0.731369  0.740852   \n",
       "XGBClassifier                      0.762928  0.715933  0.728583   \n",
       "\n",
       "                            test  accuracy  train accuracy  \n",
       "LogisticRegression                0.748990        0.753199  \n",
       "KNeighborsClassifier              0.775337        0.998085  \n",
       "SVC                               0.779798        0.798232  \n",
       "DecisionTreeClassifier            0.729630        0.998106  \n",
       "RandomForestClassifier            0.804040        0.900168  \n",
       "ExtraTreesClassifier              0.742929        0.751263  \n",
       "AdaBoostClassifier                0.725589        0.722685  \n",
       "GradientBoostingClassifier        0.754125        0.759806  \n",
       "XGBClassifier                     0.743519        0.751284  "
      ]
     },
     "execution_count": 27,
     "metadata": {},
     "output_type": "execute_result"
    }
   ],
   "source": [
    "df_eval"
   ]
  },
  {
   "cell_type": "markdown",
   "metadata": {},
   "source": [
    "### Logistics Regression\n",
    "\n",
    "The first more sophisticated model will be a simple logistics regression, in this case executed directly with cross validation"
   ]
  },
  {
   "cell_type": "code",
   "execution_count": 82,
   "metadata": {
    "ExecuteTime": {
     "end_time": "2020-04-30T11:43:29.913311Z",
     "start_time": "2020-04-30T11:43:29.897693Z"
    }
   },
   "outputs": [],
   "source": [
    "reg = Pipeline(steps=[('preprocessor', preprocessor),\n",
    "                      \n",
    "                      ('classifier', LogisticRegressionCV(cv=5,random_state=RSEED))\n",
    "                       \n",
    "                      ])"
   ]
  },
  {
   "cell_type": "code",
   "execution_count": 70,
   "metadata": {
    "ExecuteTime": {
     "end_time": "2020-04-30T11:25:25.587625Z",
     "start_time": "2020-04-30T11:24:27.798332Z"
    }
   },
   "outputs": [
    {
     "data": {
      "text/plain": [
       "Pipeline(memory=None,\n",
       "         steps=[('preprocessor',\n",
       "                 ColumnTransformer(n_jobs=None, remainder='drop',\n",
       "                                   sparse_threshold=0.3,\n",
       "                                   transformer_weights=None,\n",
       "                                   transformers=[('num',\n",
       "                                                  Pipeline(memory=None,\n",
       "                                                           steps=[('imputer',\n",
       "                                                                   SimpleImputer(add_indicator=False,\n",
       "                                                                                 copy=True,\n",
       "                                                                                 fill_value=None,\n",
       "                                                                                 missing_values=nan,\n",
       "                                                                                 strategy='median',\n",
       "                                                                                 verbose=0)),\n",
       "                                                                  ('scaler',\n",
       "                                                                   StandardScaler(copy=True,\n",
       "                                                                                  with_mean...\n",
       "                                                   'water_quality', 'quantity',\n",
       "                                                   'source',\n",
       "                                                   'waterpoint_type'])],\n",
       "                                   verbose=False)),\n",
       "                ('classifier',\n",
       "                 LogisticRegressionCV(Cs=10, class_weight=None, cv=5,\n",
       "                                      dual=False, fit_intercept=True,\n",
       "                                      intercept_scaling=1.0, l1_ratios=None,\n",
       "                                      max_iter=100, multi_class='auto',\n",
       "                                      n_jobs=None, penalty='l2',\n",
       "                                      random_state=42, refit=True, scoring=None,\n",
       "                                      solver='lbfgs', tol=0.0001, verbose=0))],\n",
       "         verbose=False)"
      ]
     },
     "execution_count": 70,
     "metadata": {},
     "output_type": "execute_result"
    }
   ],
   "source": [
    "reg.fit(X_train, y_train)"
   ]
  },
  {
   "cell_type": "code",
   "execution_count": 74,
   "metadata": {
    "ExecuteTime": {
     "end_time": "2020-04-30T11:26:59.413548Z",
     "start_time": "2020-04-30T11:26:56.678799Z"
    }
   },
   "outputs": [
    {
     "name": "stdout",
     "output_type": "stream",
     "text": [
      "--\n",
      "test  recall = 0.7490740740740741\n",
      "train recall = 0.7536616161616162\n",
      "--\n",
      "test  precision = 0.7367413635715783\n",
      "train precision = 0.7481479651709771\n",
      "--\n",
      "test  accuracy = 0.7490740740740741\n",
      "train accuracy = 0.7536616161616162\n",
      "--\n",
      "                         precision    recall  f1-score   support\n",
      "\n",
      "             functional       0.74      0.90      0.81      6452\n",
      "functional needs repair       0.46      0.10      0.16       863\n",
      "         non functional       0.79      0.67      0.72      4565\n",
      "\n",
      "               accuracy                           0.75     11880\n",
      "              macro avg       0.66      0.55      0.56     11880\n",
      "           weighted avg       0.74      0.75      0.73     11880\n",
      "\n"
     ]
    }
   ],
   "source": [
    "model_eval(reg,X_train,X_val,y_train,y_val,'Logistics_Regression_CV')"
   ]
  },
  {
   "cell_type": "code",
   "execution_count": 75,
   "metadata": {
    "ExecuteTime": {
     "end_time": "2020-04-30T11:30:46.720853Z",
     "start_time": "2020-04-30T11:27:03.819941Z"
    }
   },
   "outputs": [],
   "source": [
    "y_train_pred = cross_val_predict(reg,X_train,y_train,cv=5)"
   ]
  },
  {
   "cell_type": "code",
   "execution_count": 76,
   "metadata": {
    "ExecuteTime": {
     "end_time": "2020-04-30T11:30:47.075403Z",
     "start_time": "2020-04-30T11:30:46.720853Z"
    }
   },
   "outputs": [
    {
     "data": {
      "image/png": "[encoded data removed]",
      "text/plain": [
       "<Figure size 432x288 with 2 Axes>"
      ]
     },
     "metadata": {},
     "output_type": "display_data"
    }
   ],
   "source": [
    "confusion = confusion_matrix(y_train, y_train_pred)\n",
    "sns.heatmap(confusion, cmap=\"YlGnBu\", annot=True, fmt='d', linewidths=.5);"
   ]
  },
  {
   "cell_type": "markdown",
   "metadata": {},
   "source": [
    "#### with feature selection"
   ]
  },
  {
   "cell_type": "code",
   "execution_count": 48,
   "metadata": {
    "ExecuteTime": {
     "end_time": "2020-05-04T16:22:41.493230Z",
     "start_time": "2020-05-04T16:22:41.477830Z"
    }
   },
   "outputs": [],
   "source": [
    "k=125"
   ]
  },
  {
   "cell_type": "code",
   "execution_count": 44,
   "metadata": {
    "ExecuteTime": {
     "end_time": "2020-05-04T12:00:59.138738Z",
     "start_time": "2020-05-04T12:00:31.758075Z"
    }
   },
   "outputs": [
    {
     "data": {
      "text/plain": [
       "Pipeline(memory=None,\n",
       "         steps=[('preparation',\n",
       "                 ColumnTransformer(n_jobs=None, remainder='drop',\n",
       "                                   sparse_threshold=0.3,\n",
       "                                   transformer_weights=None,\n",
       "                                   transformers=[('num',\n",
       "                                                  Pipeline(memory=None,\n",
       "                                                           steps=[('imputer',\n",
       "                                                                   SimpleImputer(add_indicator=False,\n",
       "                                                                                 copy=True,\n",
       "                                                                                 fill_value=None,\n",
       "                                                                                 missing_values=nan,\n",
       "                                                                                 strategy='median',\n",
       "                                                                                 verbose=0)),\n",
       "                                                                  ('scaler',\n",
       "                                                                   StandardScaler(copy=True,\n",
       "                                                                                  with_mean=...\n",
       "       2.55067014e-04, 1.41157154e-02, 1.04672802e-02, 2.92923967e-05,\n",
       "       1.17467248e-02, 2.20864676e-03, 4.45016640e-02]),\n",
       "                                    k=25)),\n",
       "                ('classifier',\n",
       "                 LogisticRegressionCV(Cs=10, class_weight=None, cv=5,\n",
       "                                      dual=False, fit_intercept=True,\n",
       "                                      intercept_scaling=1.0, l1_ratios=None,\n",
       "                                      max_iter=100, multi_class='auto',\n",
       "                                      n_jobs=None, penalty='l2',\n",
       "                                      random_state=42, refit=True, scoring=None,\n",
       "                                      solver='lbfgs', tol=0.0001, verbose=0))],\n",
       "         verbose=False)"
      ]
     },
     "execution_count": 44,
     "metadata": {},
     "output_type": "execute_result"
    }
   ],
   "source": [
    "reg_feat_select = Pipeline([\n",
    "    ('preparation', preprocessor),\n",
    "    ('feature_selection', TopFeatureSelector(importances, k)),\n",
    "    ('classifier', LogisticRegressionCV(cv=5,random_state=RSEED))\n",
    "                      ])    \n",
    "\n",
    "reg_feat_select.fit(X_train,y_train)"
   ]
  },
  {
   "cell_type": "code",
   "execution_count": 42,
   "metadata": {
    "ExecuteTime": {
     "end_time": "2020-05-04T11:43:32.430377Z",
     "start_time": "2020-05-04T11:43:29.742360Z"
    }
   },
   "outputs": [
    {
     "name": "stdout",
     "output_type": "stream",
     "text": [
      "--\n",
      "test  recall = 0.7242424242424242\n",
      "train recall = 0.7232954545454545\n",
      "--\n",
      "test  precision = 0.7138467313824068\n",
      "train precision = 0.7185634733715098\n",
      "--\n",
      "test  accuracy = 0.7242424242424242\n",
      "train accuracy = 0.7232954545454545\n",
      "--\n",
      "                         precision    recall  f1-score   support\n",
      "\n",
      "             functional       0.70      0.91      0.79      6452\n",
      "functional needs repair       0.43      0.02      0.03       863\n",
      "         non functional       0.79      0.60      0.68      4565\n",
      "\n",
      "               accuracy                           0.72     11880\n",
      "              macro avg       0.64      0.51      0.50     11880\n",
      "           weighted avg       0.71      0.72      0.69     11880\n",
      "\n"
     ]
    }
   ],
   "source": [
    "model_eval(reg_feat_select,X_train,X_val,y_train,y_val,'LogReg_Feature_Selection')"
   ]
  },
  {
   "cell_type": "code",
   "execution_count": 46,
   "metadata": {
    "ExecuteTime": {
     "end_time": "2020-05-04T16:15:26.172107Z",
     "start_time": "2020-05-04T14:57:12.169505Z"
    }
   },
   "outputs": [
    {
     "name": "stdout",
     "output_type": "stream",
     "text": [
      "Fitting 5 folds for each of 27 candidates, totalling 135 fits\n",
      "[CV] feature_selection__k=125 ........................................\n"
     ]
    },
    {
     "name": "stderr",
     "output_type": "stream",
     "text": [
      "[Parallel(n_jobs=1)]: Using backend SequentialBackend with 1 concurrent workers.\n"
     ]
    },
    {
     "name": "stdout",
     "output_type": "stream",
     "text": [
      "[CV] ............ feature_selection__k=125, score=0.742, total=  55.1s\n",
      "[CV] feature_selection__k=125 ........................................\n"
     ]
    },
    {
     "name": "stderr",
     "output_type": "stream",
     "text": [
      "[Parallel(n_jobs=1)]: Done   1 out of   1 | elapsed:   55.0s remaining:    0.0s\n"
     ]
    },
    {
     "name": "stdout",
     "output_type": "stream",
     "text": [
      "[CV] ............ feature_selection__k=125, score=0.739, total=  55.7s\n",
      "[CV] feature_selection__k=125 ........................................\n"
     ]
    },
    {
     "name": "stderr",
     "output_type": "stream",
     "text": [
      "[Parallel(n_jobs=1)]: Done   2 out of   2 | elapsed:  1.8min remaining:    0.0s\n"
     ]
    },
    {
     "name": "stdout",
     "output_type": "stream",
     "text": [
      "[CV] .............. feature_selection__k=125, score=nan, total=   0.2s\n",
      "[CV] feature_selection__k=125 ........................................\n"
     ]
    },
    {
     "name": "stderr",
     "output_type": "stream",
     "text": [
      "[Parallel(n_jobs=1)]: Done   3 out of   3 | elapsed:  1.9min remaining:    0.0s\n"
     ]
    },
    {
     "name": "stdout",
     "output_type": "stream",
     "text": [
      "[CV] .............. feature_selection__k=125, score=nan, total=   0.3s\n",
      "[CV] feature_selection__k=125 ........................................\n"
     ]
    },
    {
     "name": "stderr",
     "output_type": "stream",
     "text": [
      "[Parallel(n_jobs=1)]: Done   4 out of   4 | elapsed:  1.9min remaining:    0.0s\n"
     ]
    },
    {
     "name": "stdout",
     "output_type": "stream",
     "text": [
      "[CV] ............ feature_selection__k=125, score=0.742, total=  55.1s\n",
      "[CV] feature_selection__k=130 ........................................\n"
     ]
    },
    {
     "name": "stderr",
     "output_type": "stream",
     "text": [
      "[Parallel(n_jobs=1)]: Done   5 out of   5 | elapsed:  2.8min remaining:    0.0s\n"
     ]
    },
    {
     "name": "stdout",
     "output_type": "stream",
     "text": [
      "[CV] ............ feature_selection__k=130, score=0.745, total=  55.0s\n",
      "[CV] feature_selection__k=130 ........................................\n"
     ]
    },
    {
     "name": "stderr",
     "output_type": "stream",
     "text": [
      "[Parallel(n_jobs=1)]: Done   6 out of   6 | elapsed:  3.7min remaining:    0.0s\n"
     ]
    },
    {
     "name": "stdout",
     "output_type": "stream",
     "text": [
      "[CV] ............ feature_selection__k=130, score=0.743, total=  55.8s\n",
      "[CV] feature_selection__k=130 ........................................\n"
     ]
    },
    {
     "name": "stderr",
     "output_type": "stream",
     "text": [
      "[Parallel(n_jobs=1)]: Done   7 out of   7 | elapsed:  4.6min remaining:    0.0s\n"
     ]
    },
    {
     "name": "stdout",
     "output_type": "stream",
     "text": [
      "[CV] .............. feature_selection__k=130, score=nan, total=   0.2s\n",
      "[CV] feature_selection__k=130 ........................................\n"
     ]
    },
    {
     "name": "stderr",
     "output_type": "stream",
     "text": [
      "[Parallel(n_jobs=1)]: Done   8 out of   8 | elapsed:  4.6min remaining:    0.0s\n"
     ]
    },
    {
     "name": "stdout",
     "output_type": "stream",
     "text": [
      "[CV] .............. feature_selection__k=130, score=nan, total=   0.2s\n",
      "[CV] feature_selection__k=130 ........................................\n"
     ]
    },
    {
     "name": "stderr",
     "output_type": "stream",
     "text": [
      "[Parallel(n_jobs=1)]: Done   9 out of   9 | elapsed:  4.6min remaining:    0.0s\n"
     ]
    },
    {
     "name": "stdout",
     "output_type": "stream",
     "text": [
      "[CV] ............ feature_selection__k=130, score=0.743, total= 1.0min\n",
      "[CV] feature_selection__k=135 ........................................\n",
      "[CV] ............ feature_selection__k=135, score=0.746, total=  59.0s\n",
      "[CV] feature_selection__k=135 ........................................\n",
      "[CV] ............ feature_selection__k=135, score=0.742, total=  54.3s\n",
      "[CV] feature_selection__k=135 ........................................\n",
      "[CV] .............. feature_selection__k=135, score=nan, total=   0.2s\n",
      "[CV] feature_selection__k=135 ........................................\n",
      "[CV] .............. feature_selection__k=135, score=nan, total=   0.2s\n",
      "[CV] feature_selection__k=135 ........................................\n",
      "[CV] ............ feature_selection__k=135, score=0.746, total=  54.4s\n",
      "[CV] feature_selection__k=140 ........................................\n",
      "[CV] ............ feature_selection__k=140, score=0.747, total=  55.5s\n",
      "[CV] feature_selection__k=140 ........................................\n",
      "[CV] ............ feature_selection__k=140, score=0.743, total=  55.6s\n",
      "[CV] feature_selection__k=140 ........................................\n",
      "[CV] .............. feature_selection__k=140, score=nan, total=   0.2s\n",
      "[CV] feature_selection__k=140 ........................................\n",
      "[CV] .............. feature_selection__k=140, score=nan, total=   0.2s\n",
      "[CV] feature_selection__k=140 ........................................\n",
      "[CV] ............ feature_selection__k=140, score=0.744, total=  55.1s\n",
      "[CV] feature_selection__k=145 ........................................\n",
      "[CV] ............ feature_selection__k=145, score=0.747, total= 1.0min\n",
      "[CV] feature_selection__k=145 ........................................\n",
      "[CV] ............ feature_selection__k=145, score=0.742, total=  57.2s\n",
      "[CV] feature_selection__k=145 ........................................\n",
      "[CV] .............. feature_selection__k=145, score=nan, total=   0.3s\n",
      "[CV] feature_selection__k=145 ........................................\n",
      "[CV] .............. feature_selection__k=145, score=nan, total=   0.3s\n",
      "[CV] feature_selection__k=145 ........................................\n",
      "[CV] ............ feature_selection__k=145, score=0.745, total=  56.8s\n",
      "[CV] feature_selection__k=150 ........................................\n",
      "[CV] ............ feature_selection__k=150, score=0.748, total=  58.5s\n",
      "[CV] feature_selection__k=150 ........................................\n",
      "[CV] ............ feature_selection__k=150, score=0.744, total= 1.0min\n",
      "[CV] feature_selection__k=150 ........................................\n",
      "[CV] .............. feature_selection__k=150, score=nan, total=   0.3s\n",
      "[CV] feature_selection__k=150 ........................................\n",
      "[CV] .............. feature_selection__k=150, score=nan, total=   0.3s\n",
      "[CV] feature_selection__k=150 ........................................\n",
      "[CV] ............ feature_selection__k=150, score=0.748, total= 1.0min\n",
      "[CV] feature_selection__k=155 ........................................\n",
      "[CV] ............ feature_selection__k=155, score=0.749, total= 1.0min\n",
      "[CV] feature_selection__k=155 ........................................\n",
      "[CV] ............ feature_selection__k=155, score=0.743, total=  57.8s\n",
      "[CV] feature_selection__k=155 ........................................\n",
      "[CV] .............. feature_selection__k=155, score=nan, total=   0.2s\n",
      "[CV] feature_selection__k=155 ........................................\n",
      "[CV] .............. feature_selection__k=155, score=nan, total=   0.2s\n",
      "[CV] feature_selection__k=155 ........................................\n",
      "[CV] ............ feature_selection__k=155, score=0.747, total=  56.5s\n",
      "[CV] feature_selection__k=160 ........................................\n",
      "[CV] ............ feature_selection__k=160, score=0.748, total=  59.4s\n",
      "[CV] feature_selection__k=160 ........................................\n",
      "[CV] ............ feature_selection__k=160, score=0.744, total= 1.0min\n",
      "[CV] feature_selection__k=160 ........................................\n",
      "[CV] .............. feature_selection__k=160, score=nan, total=   0.3s\n",
      "[CV] feature_selection__k=160 ........................................\n",
      "[CV] .............. feature_selection__k=160, score=nan, total=   0.3s\n",
      "[CV] feature_selection__k=160 ........................................\n",
      "[CV] ............ feature_selection__k=160, score=0.749, total= 1.0min\n",
      "[CV] feature_selection__k=165 ........................................\n",
      "[CV] ............ feature_selection__k=165, score=0.748, total= 1.1min\n",
      "[CV] feature_selection__k=165 ........................................\n",
      "[CV] ............ feature_selection__k=165, score=0.743, total= 1.0min\n",
      "[CV] feature_selection__k=165 ........................................\n",
      "[CV] .............. feature_selection__k=165, score=nan, total=   0.2s\n",
      "[CV] feature_selection__k=165 ........................................\n",
      "[CV] .............. feature_selection__k=165, score=nan, total=   0.3s\n",
      "[CV] feature_selection__k=165 ........................................\n",
      "[CV] ............ feature_selection__k=165, score=0.750, total= 1.0min\n",
      "[CV] feature_selection__k=170 ........................................\n",
      "[CV] ............ feature_selection__k=170, score=0.749, total= 1.1min\n",
      "[CV] feature_selection__k=170 ........................................\n",
      "[CV] ............ feature_selection__k=170, score=0.747, total= 1.0min\n",
      "[CV] feature_selection__k=170 ........................................\n",
      "[CV] .............. feature_selection__k=170, score=nan, total=   0.3s\n",
      "[CV] feature_selection__k=170 ........................................\n",
      "[CV] .............. feature_selection__k=170, score=nan, total=   0.3s\n",
      "[CV] feature_selection__k=170 ........................................\n",
      "[CV] ............ feature_selection__k=170, score=0.753, total= 1.1min\n",
      "[CV] feature_selection__k=175 ........................................\n",
      "[CV] ............ feature_selection__k=175, score=0.750, total=  59.2s\n",
      "[CV] feature_selection__k=175 ........................................\n",
      "[CV] ............ feature_selection__k=175, score=0.746, total=  56.4s\n",
      "[CV] feature_selection__k=175 ........................................\n",
      "[CV] .............. feature_selection__k=175, score=nan, total=   0.2s\n",
      "[CV] feature_selection__k=175 ........................................\n",
      "[CV] .............. feature_selection__k=175, score=nan, total=   0.2s\n",
      "[CV] feature_selection__k=175 ........................................\n",
      "[CV] ............ feature_selection__k=175, score=0.752, total=  57.6s\n",
      "[CV] feature_selection__k=180 ........................................\n",
      "[CV] ............ feature_selection__k=180, score=0.748, total=  57.5s\n",
      "[CV] feature_selection__k=180 ........................................\n",
      "[CV] ............ feature_selection__k=180, score=0.745, total=  56.3s\n",
      "[CV] feature_selection__k=180 ........................................\n",
      "[CV] .............. feature_selection__k=180, score=nan, total=   0.3s\n",
      "[CV] feature_selection__k=180 ........................................\n",
      "[CV] .............. feature_selection__k=180, score=nan, total=   0.2s\n",
      "[CV] feature_selection__k=180 ........................................\n",
      "[CV] ............ feature_selection__k=180, score=0.752, total=  57.0s\n",
      "[CV] feature_selection__k=185 ........................................\n",
      "[CV] ............ feature_selection__k=185, score=0.749, total=  55.5s\n",
      "[CV] feature_selection__k=185 ........................................\n",
      "[CV] ............ feature_selection__k=185, score=0.746, total=  56.8s\n",
      "[CV] feature_selection__k=185 ........................................\n",
      "[CV] .............. feature_selection__k=185, score=nan, total=   0.2s\n",
      "[CV] feature_selection__k=185 ........................................\n",
      "[CV] .............. feature_selection__k=185, score=nan, total=   0.2s\n",
      "[CV] feature_selection__k=185 ........................................\n",
      "[CV] ............ feature_selection__k=185, score=0.753, total=  55.9s\n",
      "[CV] feature_selection__k=190 ........................................\n",
      "[CV] ............ feature_selection__k=190, score=0.748, total=  58.2s\n",
      "[CV] feature_selection__k=190 ........................................\n",
      "[CV] ............ feature_selection__k=190, score=0.746, total=  55.5s\n",
      "[CV] feature_selection__k=190 ........................................\n"
     ]
    },
    {
     "name": "stdout",
     "output_type": "stream",
     "text": [
      "[CV] .............. feature_selection__k=190, score=nan, total=   0.3s\n",
      "[CV] feature_selection__k=190 ........................................\n",
      "[CV] .............. feature_selection__k=190, score=nan, total=   0.2s\n",
      "[CV] feature_selection__k=190 ........................................\n",
      "[CV] ............ feature_selection__k=190, score=0.752, total=  55.9s\n",
      "[CV] feature_selection__k=195 ........................................\n",
      "[CV] ............ feature_selection__k=195, score=0.749, total=  56.0s\n",
      "[CV] feature_selection__k=195 ........................................\n",
      "[CV] ............ feature_selection__k=195, score=0.746, total=  56.3s\n",
      "[CV] feature_selection__k=195 ........................................\n",
      "[CV] .............. feature_selection__k=195, score=nan, total=   0.3s\n",
      "[CV] feature_selection__k=195 ........................................\n",
      "[CV] .............. feature_selection__k=195, score=nan, total=   0.2s\n",
      "[CV] feature_selection__k=195 ........................................\n",
      "[CV] ............ feature_selection__k=195, score=0.751, total=  59.3s\n",
      "[CV] feature_selection__k=200 ........................................\n",
      "[CV] ............ feature_selection__k=200, score=0.750, total= 1.0min\n",
      "[CV] feature_selection__k=200 ........................................\n",
      "[CV] ............ feature_selection__k=200, score=0.746, total= 1.0min\n",
      "[CV] feature_selection__k=200 ........................................\n",
      "[CV] .............. feature_selection__k=200, score=nan, total=   0.3s\n",
      "[CV] feature_selection__k=200 ........................................\n",
      "[CV] .............. feature_selection__k=200, score=nan, total=   0.3s\n",
      "[CV] feature_selection__k=200 ........................................\n",
      "[CV] ............ feature_selection__k=200, score=0.751, total= 1.1min\n",
      "[CV] feature_selection__k=205 ........................................\n",
      "[CV] ............ feature_selection__k=205, score=0.748, total= 1.0min\n",
      "[CV] feature_selection__k=205 ........................................\n",
      "[CV] ............ feature_selection__k=205, score=0.746, total= 1.0min\n",
      "[CV] feature_selection__k=205 ........................................\n",
      "[CV] .............. feature_selection__k=205, score=nan, total=   0.2s\n",
      "[CV] feature_selection__k=205 ........................................\n",
      "[CV] .............. feature_selection__k=205, score=nan, total=   0.3s\n",
      "[CV] feature_selection__k=205 ........................................\n",
      "[CV] ............ feature_selection__k=205, score=0.752, total= 1.1min\n",
      "[CV] feature_selection__k=210 ........................................\n",
      "[CV] ............ feature_selection__k=210, score=0.750, total= 1.1min\n",
      "[CV] feature_selection__k=210 ........................................\n",
      "[CV] ............ feature_selection__k=210, score=0.747, total= 1.0min\n",
      "[CV] feature_selection__k=210 ........................................\n",
      "[CV] .............. feature_selection__k=210, score=nan, total=   0.3s\n",
      "[CV] feature_selection__k=210 ........................................\n",
      "[CV] .............. feature_selection__k=210, score=nan, total=   0.3s\n",
      "[CV] feature_selection__k=210 ........................................\n",
      "[CV] ............ feature_selection__k=210, score=0.752, total= 1.1min\n",
      "[CV] feature_selection__k=215 ........................................\n",
      "[CV] ............ feature_selection__k=215, score=0.749, total=  56.0s\n",
      "[CV] feature_selection__k=215 ........................................\n",
      "[CV] ............ feature_selection__k=215, score=0.746, total=  55.4s\n",
      "[CV] feature_selection__k=215 ........................................\n",
      "[CV] .............. feature_selection__k=215, score=nan, total=   0.2s\n",
      "[CV] feature_selection__k=215 ........................................\n",
      "[CV] .............. feature_selection__k=215, score=nan, total=   0.2s\n",
      "[CV] feature_selection__k=215 ........................................\n",
      "[CV] ............ feature_selection__k=215, score=0.752, total=  55.6s\n",
      "[CV] feature_selection__k=220 ........................................\n",
      "[CV] ............ feature_selection__k=220, score=0.750, total=  58.1s\n",
      "[CV] feature_selection__k=220 ........................................\n",
      "[CV] ............ feature_selection__k=220, score=0.745, total=  57.3s\n",
      "[CV] feature_selection__k=220 ........................................\n",
      "[CV] .............. feature_selection__k=220, score=nan, total=   0.2s\n",
      "[CV] feature_selection__k=220 ........................................\n",
      "[CV] .............. feature_selection__k=220, score=nan, total=   0.2s\n",
      "[CV] feature_selection__k=220 ........................................\n",
      "[CV] ............ feature_selection__k=220, score=0.751, total=  54.7s\n",
      "[CV] feature_selection__k=225 ........................................\n",
      "[CV] ............ feature_selection__k=225, score=0.751, total=  54.8s\n",
      "[CV] feature_selection__k=225 ........................................\n",
      "[CV] ............ feature_selection__k=225, score=0.745, total=  46.0s\n",
      "[CV] feature_selection__k=225 ........................................\n",
      "[CV] .............. feature_selection__k=225, score=nan, total=   0.2s\n",
      "[CV] feature_selection__k=225 ........................................\n",
      "[CV] .............. feature_selection__k=225, score=nan, total=   0.2s\n",
      "[CV] feature_selection__k=225 ........................................\n",
      "[CV] ............ feature_selection__k=225, score=0.751, total=  55.4s\n",
      "[CV] feature_selection__k=230 ........................................\n",
      "[CV] ............ feature_selection__k=230, score=0.750, total=  46.6s\n",
      "[CV] feature_selection__k=230 ........................................\n",
      "[CV] ............ feature_selection__k=230, score=0.745, total=  46.5s\n",
      "[CV] feature_selection__k=230 ........................................\n",
      "[CV] .............. feature_selection__k=230, score=nan, total=   0.2s\n",
      "[CV] feature_selection__k=230 ........................................\n",
      "[CV] .............. feature_selection__k=230, score=nan, total=   0.2s\n",
      "[CV] feature_selection__k=230 ........................................\n",
      "[CV] ............ feature_selection__k=230, score=0.752, total=  55.3s\n",
      "[CV] feature_selection__k=235 ........................................\n",
      "[CV] ............ feature_selection__k=235, score=0.750, total=  46.8s\n",
      "[CV] feature_selection__k=235 ........................................\n",
      "[CV] ............ feature_selection__k=235, score=0.746, total=  46.6s\n",
      "[CV] feature_selection__k=235 ........................................\n",
      "[CV] .............. feature_selection__k=235, score=nan, total=   0.2s\n",
      "[CV] feature_selection__k=235 ........................................\n",
      "[CV] .............. feature_selection__k=235, score=nan, total=   0.2s\n",
      "[CV] feature_selection__k=235 ........................................\n",
      "[CV] ............ feature_selection__k=235, score=0.752, total=  59.1s\n",
      "[CV] feature_selection__k=240 ........................................\n",
      "[CV] ............ feature_selection__k=240, score=0.750, total=  48.5s\n",
      "[CV] feature_selection__k=240 ........................................\n",
      "[CV] ............ feature_selection__k=240, score=0.746, total=  50.1s\n",
      "[CV] feature_selection__k=240 ........................................\n",
      "[CV] .............. feature_selection__k=240, score=nan, total=   0.2s\n",
      "[CV] feature_selection__k=240 ........................................\n",
      "[CV] .............. feature_selection__k=240, score=nan, total=   0.2s\n",
      "[CV] feature_selection__k=240 ........................................\n",
      "[CV] ............ feature_selection__k=240, score=0.752, total=  59.8s\n",
      "[CV] feature_selection__k=245 ........................................\n",
      "[CV] ............ feature_selection__k=245, score=0.750, total=  50.7s\n",
      "[CV] feature_selection__k=245 ........................................\n",
      "[CV] ............ feature_selection__k=245, score=0.746, total=  51.6s\n",
      "[CV] feature_selection__k=245 ........................................\n",
      "[CV] .............. feature_selection__k=245, score=nan, total=   0.2s\n",
      "[CV] feature_selection__k=245 ........................................\n",
      "[CV] .............. feature_selection__k=245, score=nan, total=   0.2s\n",
      "[CV] feature_selection__k=245 ........................................\n",
      "[CV] ............ feature_selection__k=245, score=0.752, total= 1.0min\n",
      "[CV] feature_selection__k=250 ........................................\n"
     ]
    },
    {
     "name": "stdout",
     "output_type": "stream",
     "text": [
      "[CV] ............ feature_selection__k=250, score=0.750, total=  47.7s\n",
      "[CV] feature_selection__k=250 ........................................\n",
      "[CV] ............ feature_selection__k=250, score=0.746, total=  47.8s\n",
      "[CV] feature_selection__k=250 ........................................\n",
      "[CV] .............. feature_selection__k=250, score=nan, total=   0.3s\n",
      "[CV] feature_selection__k=250 ........................................\n",
      "[CV] .............. feature_selection__k=250, score=nan, total=   0.2s\n",
      "[CV] feature_selection__k=250 ........................................\n",
      "[CV] ............ feature_selection__k=250, score=0.752, total=  55.5s\n",
      "[CV] feature_selection__k=255 ........................................\n",
      "[CV] ............ feature_selection__k=255, score=0.750, total=  55.0s\n",
      "[CV] feature_selection__k=255 ........................................\n",
      "[CV] ............ feature_selection__k=255, score=0.746, total=  55.2s\n",
      "[CV] feature_selection__k=255 ........................................\n",
      "[CV] .............. feature_selection__k=255, score=nan, total=   0.2s\n",
      "[CV] feature_selection__k=255 ........................................\n",
      "[CV] .............. feature_selection__k=255, score=nan, total=   0.2s\n",
      "[CV] feature_selection__k=255 ........................................\n",
      "[CV] ............ feature_selection__k=255, score=0.752, total=  56.1s\n"
     ]
    },
    {
     "name": "stderr",
     "output_type": "stream",
     "text": [
      "[Parallel(n_jobs=1)]: Done 135 out of 135 | elapsed: 77.1min finished\n"
     ]
    },
    {
     "data": {
      "text/plain": [
       "GridSearchCV(cv=5, error_score=nan,\n",
       "             estimator=Pipeline(memory=None,\n",
       "                                steps=[('preparation',\n",
       "                                        ColumnTransformer(n_jobs=None,\n",
       "                                                          remainder='drop',\n",
       "                                                          sparse_threshold=0.3,\n",
       "                                                          transformer_weights=None,\n",
       "                                                          transformers=[('num',\n",
       "                                                                         Pipeline(memory=None,\n",
       "                                                                                  steps=[('imputer',\n",
       "                                                                                          SimpleImputer(add_indicator=False,\n",
       "                                                                                                        copy=True,\n",
       "                                                                                                        fill_value=None,\n",
       "                                                                                                        missing_values=nan,\n",
       "                                                                                                        strategy='median',\n",
       "                                                                                                        verbose=0)),\n",
       "                                                                                         (...\n",
       "                                                             random_state=42,\n",
       "                                                             refit=True,\n",
       "                                                             scoring=None,\n",
       "                                                             solver='lbfgs',\n",
       "                                                             tol=0.0001,\n",
       "                                                             verbose=0))],\n",
       "                                verbose=False),\n",
       "             iid='deprecated', n_jobs=None,\n",
       "             param_grid=[{'feature_selection__k': [125, 130, 135, 140, 145, 150,\n",
       "                                                   155, 160, 165, 170, 175, 180,\n",
       "                                                   185, 190, 195, 200, 205, 210,\n",
       "                                                   215, 220, 225, 230, 235, 240,\n",
       "                                                   245, 250, 255]}],\n",
       "             pre_dispatch='2*n_jobs', refit=True, return_train_score=False,\n",
       "             scoring='accuracy', verbose=10)"
      ]
     },
     "execution_count": 46,
     "metadata": {},
     "output_type": "execute_result"
    }
   ],
   "source": [
    "# param_grid = [{'feature_selection__k': list(range(125, len(importances) + 1,5))}]\n",
    "# \n",
    "# grid_search_prep = GridSearchCV(reg_feat_select, param_grid, cv=5,\n",
    "#                                 scoring='accuracy', verbose=10)\n",
    "# grid_search_prep.fit(X_train, y_train)"
   ]
  },
  {
   "cell_type": "code",
   "execution_count": 47,
   "metadata": {
    "ExecuteTime": {
     "end_time": "2020-05-04T16:21:55.282668Z",
     "start_time": "2020-05-04T16:21:55.251637Z"
    }
   },
   "outputs": [
    {
     "data": {
      "text/plain": [
       "{'feature_selection__k': 125}"
      ]
     },
     "execution_count": 47,
     "metadata": {},
     "output_type": "execute_result"
    }
   ],
   "source": [
    "grid_search_prep.best_params_"
   ]
  },
  {
   "cell_type": "markdown",
   "metadata": {},
   "source": [
    "laut gridsearch ist die beste Feature anzahl 125"
   ]
  },
  {
   "cell_type": "code",
   "execution_count": 51,
   "metadata": {
    "ExecuteTime": {
     "end_time": "2020-05-04T16:36:38.179411Z",
     "start_time": "2020-05-04T16:27:31.562093Z"
    }
   },
   "outputs": [
    {
     "data": {
      "text/plain": [
       "Pipeline(memory=None,\n",
       "         steps=[('preparation',\n",
       "                 ColumnTransformer(n_jobs=None, remainder='drop',\n",
       "                                   sparse_threshold=0.3,\n",
       "                                   transformer_weights=None,\n",
       "                                   transformers=[('num',\n",
       "                                                  Pipeline(memory=None,\n",
       "                                                           steps=[('imputer',\n",
       "                                                                   SimpleImputer(add_indicator=False,\n",
       "                                                                                 copy=True,\n",
       "                                                                                 fill_value=None,\n",
       "                                                                                 missing_values=nan,\n",
       "                                                                                 strategy='median',\n",
       "                                                                                 verbose=0)),\n",
       "                                                                  ('scaler',\n",
       "                                                                   StandardScaler(copy=True,\n",
       "                                                                                  with_mean=...\n",
       "                 RandomForestClassifier(bootstrap=True, ccp_alpha=0.0,\n",
       "                                        class_weight=None, criterion='gini',\n",
       "                                        max_depth=None, max_features='auto',\n",
       "                                        max_leaf_nodes=None, max_samples=None,\n",
       "                                        min_impurity_decrease=0.0,\n",
       "                                        min_impurity_split=None,\n",
       "                                        min_samples_leaf=1,\n",
       "                                        min_samples_split=10,\n",
       "                                        min_weight_fraction_leaf=0.0,\n",
       "                                        n_estimators=1000, n_jobs=None,\n",
       "                                        oob_score=False, random_state=None,\n",
       "                                        verbose=0, warm_start=False))],\n",
       "         verbose=False)"
      ]
     },
     "execution_count": 51,
     "metadata": {},
     "output_type": "execute_result"
    }
   ],
   "source": [
    "rfc_feat_select = Pipeline([\n",
    "    ('preparation', preprocessor),\n",
    "    ('feature_selection', TopFeatureSelector(importances, k)),\n",
    "    ('classifier', RandomForestClassifier(n_estimators=1000, criterion=\"gini\",min_samples_split=10))\n",
    "                      ])    \n",
    "\n",
    "rfc_feat_select.fit(X_train,y_train)"
   ]
  },
  {
   "cell_type": "code",
   "execution_count": 52,
   "metadata": {
    "ExecuteTime": {
     "end_time": "2020-05-04T16:37:11.901367Z",
     "start_time": "2020-05-04T16:36:38.179411Z"
    }
   },
   "outputs": [
    {
     "name": "stdout",
     "output_type": "stream",
     "text": [
      "--\n",
      "test  recall = 0.8048821548821549\n",
      "train recall = 0.9017887205387205\n",
      "--\n",
      "test  precision = 0.7990414562262648\n",
      "train precision = 0.9030525988968345\n",
      "--\n",
      "test  accuracy = 0.8048821548821549\n",
      "train accuracy = 0.9017887205387205\n",
      "--\n",
      "                         precision    recall  f1-score   support\n",
      "\n",
      "             functional       0.79      0.91      0.85      6452\n",
      "functional needs repair       0.63      0.21      0.31       863\n",
      "         non functional       0.84      0.76      0.80      4565\n",
      "\n",
      "               accuracy                           0.80     11880\n",
      "              macro avg       0.75      0.63      0.65     11880\n",
      "           weighted avg       0.80      0.80      0.79     11880\n",
      "\n"
     ]
    }
   ],
   "source": [
    "model_eval(rfc_feat_select,X_train,X_val,y_train,y_val,'RFC_Feat_Select')"
   ]
  },
  {
   "cell_type": "markdown",
   "metadata": {},
   "source": [
    "### Naive Bayes Classifier"
   ]
  },
  {
   "cell_type": "markdown",
   "metadata": {},
   "source": [
    "Do not work with sparse matrix"
   ]
  },
  {
   "cell_type": "markdown",
   "metadata": {},
   "source": [
    "### Random Forest"
   ]
  },
  {
   "cell_type": "code",
   "execution_count": null,
   "metadata": {},
   "outputs": [],
   "source": [
    "n_estimators = 400,\n",
    "min_samples_split = 2,\n",
    "min_samples_leaf = 1,\n",
    "max_features = 'sqrt',\n",
    "max_depth = None,\n",
    "bootstrap = False"
   ]
  },
  {
   "cell_type": "code",
   "execution_count": null,
   "metadata": {
    "ExecuteTime": {
     "end_time": "2020-04-29T09:33:41.082823Z",
     "start_time": "2020-04-29T09:33:41.067210Z"
    }
   },
   "outputs": [],
   "source": [
    "# randf_ = RandomForestClassifier(random_state=42)"
   ]
  },
  {
   "cell_type": "code",
   "execution_count": null,
   "metadata": {
    "ExecuteTime": {
     "end_time": "2020-05-06T13:00:44.032261Z",
     "start_time": "2020-05-06T13:00:29.928Z"
    }
   },
   "outputs": [],
   "source": [
    "# Number of trees in random forest\n",
    "n_estimators = [int(x) for x in np.linspace(start = 100, stop = 1000, num = 100)]\n",
    "# Number of features to consider at every split\n",
    "max_features = ['auto', 'sqrt']\n",
    "# Maximum number of levels in tree\n",
    "max_depth = [int(x) for x in np.linspace(1,10,2)]\n",
    "max_depth.append(None)\n",
    "# Minimum number of samples required at each leaf node\n",
    "min_samples_leaf = [1, 2]\n",
    "# Method of selecting samples for training each tree\n",
    "bootstrap = [True, False]\n",
    "\n",
    "random_grid = {'n_estimators': n_estimators,\n",
    "               'max_features': max_features,\n",
    "               'max_depth': max_depth\n",
    "               }"
   ]
  },
  {
   "cell_type": "code",
   "execution_count": 34,
   "metadata": {
    "ExecuteTime": {
     "end_time": "2020-05-06T14:18:47.452502Z",
     "start_time": "2020-05-06T13:00:57.444237Z"
    }
   },
   "outputs": [
    {
     "name": "stdout",
     "output_type": "stream",
     "text": [
      "Fitting 3 folds for each of 10 candidates, totalling 30 fits\n"
     ]
    },
    {
     "name": "stderr",
     "output_type": "stream",
     "text": [
      "[Parallel(n_jobs=-1)]: Using backend LokyBackend with 4 concurrent workers.\n",
      "[Parallel(n_jobs=-1)]: Done   5 tasks      | elapsed: 14.5min\n",
      "[Parallel(n_jobs=-1)]: Done  10 tasks      | elapsed: 17.7min\n",
      "[Parallel(n_jobs=-1)]: Done  17 tasks      | elapsed: 33.4min\n",
      "[Parallel(n_jobs=-1)]: Done  27 out of  30 | elapsed: 52.9min remaining:  5.9min\n",
      "[Parallel(n_jobs=-1)]: Done  30 out of  30 | elapsed: 56.9min finished\n"
     ]
    },
    {
     "data": {
      "text/plain": [
       "RandomizedSearchCV(cv=3, error_score=nan,\n",
       "                   estimator=RandomForestClassifier(bootstrap=True,\n",
       "                                                    ccp_alpha=0.0,\n",
       "                                                    class_weight=None,\n",
       "                                                    criterion='gini',\n",
       "                                                    max_depth=None,\n",
       "                                                    max_features='auto',\n",
       "                                                    max_leaf_nodes=None,\n",
       "                                                    max_samples=None,\n",
       "                                                    min_impurity_decrease=0.0,\n",
       "                                                    min_impurity_split=None,\n",
       "                                                    min_samples_leaf=1,\n",
       "                                                    min_samples_split=2,\n",
       "                                                    min_weight_fraction_leaf=0.0,\n",
       "                                                    n_estimators=100,\n",
       "                                                    n_jobs...\n",
       "                   param_distributions={'max_depth': [5, 12, 20, 27, 35, None],\n",
       "                                        'max_features': ['auto', 'sqrt'],\n",
       "                                        'min_samples_split': [10, 15],\n",
       "                                        'n_estimators': [1300, 1307, 1314, 1321,\n",
       "                                                         1328, 1335, 1342, 1349,\n",
       "                                                         1356, 1363, 1370, 1377,\n",
       "                                                         1384, 1391, 1398, 1405,\n",
       "                                                         1412, 1419, 1426, 1433,\n",
       "                                                         1440, 1447, 1454, 1461,\n",
       "                                                         1468, 1475, 1482, 1489,\n",
       "                                                         1496, 1504, ...]},\n",
       "                   pre_dispatch='2*n_jobs', random_state=42, refit=True,\n",
       "                   return_train_score=False, scoring=None, verbose=10)"
      ]
     },
     "execution_count": 34,
     "metadata": {},
     "output_type": "execute_result"
    }
   ],
   "source": [
    "clf_random_cv = RandomizedSearchCV(estimator = RandomForestClassifier(random_state=42)\n",
    "                               , param_distributions = random_grid\n",
    "                               , n_iter = 10\n",
    "                               , cv = 3\n",
    "                               , verbose=10\n",
    "                               , random_state=42\n",
    "                               , n_jobs = -1)\n",
    "# Fit the random search model\n",
    "clf_random_cv.fit(X_train_transformed, y_train)"
   ]
  },
  {
   "cell_type": "code",
   "execution_count": null,
   "metadata": {},
   "outputs": [],
   "source": [
    "print('Best score:', round(clf_random.best_score_,3))\n",
    "print('Best model:', clf_random.best_params_)"
   ]
  },
  {
   "cell_type": "code",
   "execution_count": null,
   "metadata": {
    "ExecuteTime": {
     "end_time": "2020-04-29T09:33:41.129685Z",
     "start_time": "2020-04-29T09:33:41.110Z"
    }
   },
   "outputs": [],
   "source": [
    "# joblib.dump(clf_random, \"rfc_randomcv.pkl\")"
   ]
  },
  {
   "cell_type": "code",
   "execution_count": 30,
   "metadata": {
    "ExecuteTime": {
     "end_time": "2020-04-29T19:46:36.849993Z",
     "start_time": "2020-04-29T19:46:27.390189Z"
    }
   },
   "outputs": [],
   "source": [
    "clf_random = joblib.load(MODEL_FOLDER + \"rfc_randomcv.pkl\")"
   ]
  },
  {
   "cell_type": "code",
   "execution_count": 36,
   "metadata": {
    "ExecuteTime": {
     "end_time": "2020-05-06T14:26:57.196401Z",
     "start_time": "2020-05-06T14:26:57.165160Z"
    }
   },
   "outputs": [
    {
     "ename": "NameError",
     "evalue": "name 'clf_random' is not defined",
     "output_type": "error",
     "traceback": [
      "\u001b[1;31m---------------------------------------------------------------------------\u001b[0m",
      "\u001b[1;31mNameError\u001b[0m                                 Traceback (most recent call last)",
      "\u001b[1;32m<ipython-input-36-1407158a7424>\u001b[0m in \u001b[0;36m<module>\u001b[1;34m\u001b[0m\n\u001b[1;32m----> 1\u001b[1;33m \u001b[0mprint\u001b[0m\u001b[1;33m(\u001b[0m\u001b[1;34m'Best score:'\u001b[0m\u001b[1;33m,\u001b[0m \u001b[0mround\u001b[0m\u001b[1;33m(\u001b[0m\u001b[0mclf_random\u001b[0m\u001b[1;33m.\u001b[0m\u001b[0mbest_score_\u001b[0m\u001b[1;33m,\u001b[0m\u001b[1;36m3\u001b[0m\u001b[1;33m)\u001b[0m\u001b[1;33m)\u001b[0m\u001b[1;33m\u001b[0m\u001b[1;33m\u001b[0m\u001b[0m\n\u001b[0m\u001b[0;32m      2\u001b[0m \u001b[0mprint\u001b[0m\u001b[1;33m(\u001b[0m\u001b[1;34m'Best model:'\u001b[0m\u001b[1;33m,\u001b[0m \u001b[0mclf_random\u001b[0m\u001b[1;33m.\u001b[0m\u001b[0mbest_params_\u001b[0m\u001b[1;33m)\u001b[0m\u001b[1;33m\u001b[0m\u001b[1;33m\u001b[0m\u001b[0m\n",
      "\u001b[1;31mNameError\u001b[0m: name 'clf_random' is not defined"
     ]
    }
   ],
   "source": [
    "print('Best score:', round(clf_random.best_score_,3))\n",
    "print('Best model:', clf_random.best_params_)"
   ]
  },
  {
   "cell_type": "code",
   "execution_count": 32,
   "metadata": {
    "ExecuteTime": {
     "end_time": "2020-04-29T19:46:47.242171Z",
     "start_time": "2020-04-29T19:46:47.226800Z"
    }
   },
   "outputs": [],
   "source": [
    "best_rfc = clf_random.best_params_"
   ]
  },
  {
   "cell_type": "code",
   "execution_count": 28,
   "metadata": {
    "ExecuteTime": {
     "end_time": "2020-05-04T09:49:39.299312Z",
     "start_time": "2020-05-04T09:49:39.283685Z"
    }
   },
   "outputs": [],
   "source": [
    "best_rfc_ = RandomForestClassifier(n_estimators=1800, \n",
    "                                   min_samples_split=10, \n",
    "                                   min_samples_leaf=1, \n",
    "                                   max_features='sqrt', \n",
    "                                   max_depth=30, \n",
    "                                   bootstrap=False)"
   ]
  },
  {
   "cell_type": "code",
   "execution_count": 29,
   "metadata": {
    "ExecuteTime": {
     "end_time": "2020-05-04T10:08:58.678691Z",
     "start_time": "2020-05-04T09:50:19.920093Z"
    }
   },
   "outputs": [
    {
     "data": {
      "text/plain": [
       "RandomForestClassifier(bootstrap=False, ccp_alpha=0.0, class_weight=None,\n",
       "                       criterion='gini', max_depth=30, max_features='sqrt',\n",
       "                       max_leaf_nodes=None, max_samples=None,\n",
       "                       min_impurity_decrease=0.0, min_impurity_split=None,\n",
       "                       min_samples_leaf=1, min_samples_split=10,\n",
       "                       min_weight_fraction_leaf=0.0, n_estimators=1800,\n",
       "                       n_jobs=None, oob_score=False, random_state=None,\n",
       "                       verbose=0, warm_start=False)"
      ]
     },
     "execution_count": 29,
     "metadata": {},
     "output_type": "execute_result"
    }
   ],
   "source": [
    "best_rfc_.fit(X_train_transformed,y_train)"
   ]
  },
  {
   "cell_type": "code",
   "execution_count": 33,
   "metadata": {
    "ExecuteTime": {
     "end_time": "2020-05-04T11:27:39.707014Z",
     "start_time": "2020-05-04T11:27:39.265417Z"
    }
   },
   "outputs": [],
   "source": [
    "importances = best_rfc_.feature_importances_"
   ]
  },
  {
   "cell_type": "code",
   "execution_count": 33,
   "metadata": {
    "ExecuteTime": {
     "end_time": "2020-04-29T19:46:48.273559Z",
     "start_time": "2020-04-29T19:46:48.242575Z"
    }
   },
   "outputs": [
    {
     "data": {
      "text/plain": [
       "(11880, 255)"
      ]
     },
     "execution_count": 33,
     "metadata": {},
     "output_type": "execute_result"
    }
   ],
   "source": [
    "X_val_transformed.shape"
   ]
  },
  {
   "cell_type": "code",
   "execution_count": 34,
   "metadata": {
    "ExecuteTime": {
     "end_time": "2020-04-29T19:46:49.070525Z",
     "start_time": "2020-04-29T19:46:49.054958Z"
    }
   },
   "outputs": [
    {
     "data": {
      "text/plain": [
       "(47520, 255)"
      ]
     },
     "execution_count": 34,
     "metadata": {},
     "output_type": "execute_result"
    }
   ],
   "source": [
    "X_train_transformed.shape"
   ]
  },
  {
   "cell_type": "code",
   "execution_count": 38,
   "metadata": {
    "ExecuteTime": {
     "end_time": "2020-04-29T19:47:57.227006Z",
     "start_time": "2020-04-29T19:47:57.211610Z"
    }
   },
   "outputs": [],
   "source": [
    "# random_pred = clf_random.predict(X_val_transformed)\n",
    "# print('Validation score: ',round(accuracy_score(y_val,random_pred),3))"
   ]
  },
  {
   "cell_type": "code",
   "execution_count": 39,
   "metadata": {
    "ExecuteTime": {
     "end_time": "2020-04-29T19:48:00.774559Z",
     "start_time": "2020-04-29T19:48:00.758963Z"
    }
   },
   "outputs": [],
   "source": [
    "model_eval(clf_random,X_train_transformed,X_val_transformed,y_train,y_val,'RFC')"
   ]
  },
  {
   "cell_type": "code",
   "execution_count": null,
   "metadata": {
    "ExecuteTime": {
     "end_time": "2020-04-29T19:45:21.304100Z",
     "start_time": "2020-04-29T19:42:58.221Z"
    }
   },
   "outputs": [],
   "source": [
    "compare_mod.T*100"
   ]
  },
  {
   "cell_type": "markdown",
   "metadata": {},
   "source": [
    "## AdaBoost"
   ]
  },
  {
   "cell_type": "code",
   "execution_count": null,
   "metadata": {
    "ExecuteTime": {
     "end_time": "2020-04-29T09:33:41.239034Z",
     "start_time": "2020-04-29T09:33:41.183Z"
    }
   },
   "outputs": [],
   "source": [
    "ada_log=Pipeline([('pre',preprocessor), \n",
    "              ('model',AdaBoostClassifier(base_estimator=LogisticRegression(C=0.03),\n",
    "                                      random_state=RSEED))])\n",
    "ada_log.fit(X_train,y_train)"
   ]
  },
  {
   "cell_type": "code",
   "execution_count": null,
   "metadata": {
    "ExecuteTime": {
     "end_time": "2020-04-29T09:33:41.239034Z",
     "start_time": "2020-04-29T09:33:41.192Z"
    }
   },
   "outputs": [],
   "source": [
    "model_eval(ada_log,X_train,X_val,y_train,y_val,'AdaBoost Log')"
   ]
  },
  {
   "cell_type": "code",
   "execution_count": null,
   "metadata": {
    "ExecuteTime": {
     "end_time": "2020-04-29T09:33:41.239034Z",
     "start_time": "2020-04-29T09:33:41.200Z"
    }
   },
   "outputs": [],
   "source": [
    "ada_rfc=Pipeline([('pre',preprocessor), \n",
    "              ('model',AdaBoostClassifier(base_estimator=RandomForestClassifier(max_depth=1),\n",
    "                                      random_state=RSEED))])\n",
    "ada_rfc.fit(X_train,y_train)"
   ]
  },
  {
   "cell_type": "code",
   "execution_count": null,
   "metadata": {
    "ExecuteTime": {
     "end_time": "2020-04-29T09:33:41.239034Z",
     "start_time": "2020-04-29T09:33:41.209Z"
    }
   },
   "outputs": [],
   "source": [
    "model_eval(ada_rfc,X_train,X_val,y_train,y_val,'AdaBoost RFC')"
   ]
  },
  {
   "cell_type": "code",
   "execution_count": null,
   "metadata": {
    "ExecuteTime": {
     "end_time": "2020-04-29T09:33:41.239034Z",
     "start_time": "2020-04-29T09:33:41.222Z"
    }
   },
   "outputs": [],
   "source": [
    "ada_DCT=Pipeline([('pre',preprocessor), \n",
    "              ('model',AdaBoostClassifier(base_estimator=DecisionTreeClassifier(max_depth=1),\n",
    "                                      random_state=RSEED))])\n",
    "ada_DCT.fit(X_train,y_train)"
   ]
  },
  {
   "cell_type": "code",
   "execution_count": null,
   "metadata": {
    "ExecuteTime": {
     "end_time": "2020-04-29T09:33:41.364343Z",
     "start_time": "2020-04-29T09:33:41.333103Z"
    }
   },
   "outputs": [],
   "source": [
    "compare_mod.T"
   ]
  },
  {
   "cell_type": "markdown",
   "metadata": {},
   "source": [
    "## Support Vector Classifier"
   ]
  },
  {
   "cell_type": "code",
   "execution_count": null,
   "metadata": {},
   "outputs": [],
   "source": []
  },
  {
   "cell_type": "markdown",
   "metadata": {},
   "source": [
    "## XGBoost"
   ]
  },
  {
   "cell_type": "code",
   "execution_count": 20,
   "metadata": {
    "ExecuteTime": {
     "end_time": "2020-05-02T14:42:48.254483Z",
     "start_time": "2020-05-02T14:42:48.238862Z"
    }
   },
   "outputs": [],
   "source": [
    "param_xgb = {\"learning_rate\": [0.05, 0.10, 0.15, 0.20, 0.25, 0.30] ,\n",
    "             \"max_depth\": [5, 6, 8, 10, 12, 15, 17, 20],\n",
    "             \"min_child_weight\": [1, 3, 5],\n",
    "             \"gamma\": [0.0, 0.1, 0.2 , 0.3, 0.4 ],\n",
    "             \"colsample_bytree\" : [0.4, 0.5 , 0.7 ] \n",
    "            }\n",
    "\n",
    "xgb = XGBClassifier()"
   ]
  },
  {
   "cell_type": "code",
   "execution_count": 23,
   "metadata": {
    "ExecuteTime": {
     "end_time": "2020-05-02T14:44:17.465645Z",
     "start_time": "2020-05-02T14:44:17.450021Z"
    }
   },
   "outputs": [],
   "source": [
    "# First RandomSearch for XGBoost\n",
    "random_xgb = RandomizedSearchCV(xgb, \n",
    "                                param_distributions = param_xgb,\n",
    "                                n_iter = 50, cv = 3, scoring = 'accuracy', \n",
    "                                verbose = 10, random_state=RSEED, n_jobs = -1)"
   ]
  },
  {
   "cell_type": "code",
   "execution_count": 24,
   "metadata": {
    "ExecuteTime": {
     "end_time": "2020-05-02T14:54:33.526418Z",
     "start_time": "2020-05-02T14:44:17.824935Z"
    }
   },
   "outputs": [
    {
     "name": "stdout",
     "output_type": "stream",
     "text": [
      "Fitting 3 folds for each of 50 candidates, totalling 150 fits\n"
     ]
    },
    {
     "name": "stderr",
     "output_type": "stream",
     "text": [
      "[Parallel(n_jobs=-1)]: Using backend LokyBackend with 4 concurrent workers.\n",
      "[Parallel(n_jobs=-1)]: Done   5 tasks      | elapsed:   34.4s\n",
      "[Parallel(n_jobs=-1)]: Done  10 tasks      | elapsed:   48.4s\n",
      "[Parallel(n_jobs=-1)]: Done  17 tasks      | elapsed:  1.1min\n",
      "[Parallel(n_jobs=-1)]: Done  24 tasks      | elapsed:  1.8min\n",
      "[Parallel(n_jobs=-1)]: Done  33 tasks      | elapsed:  2.3min\n",
      "[Parallel(n_jobs=-1)]: Done  42 tasks      | elapsed:  2.9min\n",
      "[Parallel(n_jobs=-1)]: Done  53 tasks      | elapsed:  3.5min\n",
      "[Parallel(n_jobs=-1)]: Done  64 tasks      | elapsed:  4.6min\n",
      "[Parallel(n_jobs=-1)]: Done  77 tasks      | elapsed:  5.4min\n",
      "[Parallel(n_jobs=-1)]: Done  90 tasks      | elapsed:  5.9min\n",
      "[Parallel(n_jobs=-1)]: Done 105 tasks      | elapsed:  7.1min\n",
      "[Parallel(n_jobs=-1)]: Done 120 tasks      | elapsed:  7.9min\n",
      "[Parallel(n_jobs=-1)]: Done 137 tasks      | elapsed:  8.9min\n",
      "[Parallel(n_jobs=-1)]: Done 150 out of 150 | elapsed:  9.8min finished\n"
     ]
    },
    {
     "data": {
      "text/plain": [
       "RandomizedSearchCV(cv=3, error_score=nan,\n",
       "                   estimator=XGBClassifier(base_score=0.5, booster='gbtree',\n",
       "                                           colsample_bylevel=1,\n",
       "                                           colsample_bynode=1,\n",
       "                                           colsample_bytree=1, gamma=0,\n",
       "                                           learning_rate=0.1, max_delta_step=0,\n",
       "                                           max_depth=3, min_child_weight=1,\n",
       "                                           missing=None, n_estimators=100,\n",
       "                                           n_jobs=1, nthread=None,\n",
       "                                           objective='binary:logistic',\n",
       "                                           random_state=0, reg_alpha=0,\n",
       "                                           reg_lambda=1, sc...\n",
       "                                           seed=None, silent=None, subsample=1,\n",
       "                                           verbosity=1),\n",
       "                   iid='deprecated', n_iter=50, n_jobs=-1,\n",
       "                   param_distributions={'colsample_bytree': [0.4, 0.5, 0.7],\n",
       "                                        'gamma': [0.0, 0.1, 0.2, 0.3, 0.4],\n",
       "                                        'learning_rate': [0.05, 0.1, 0.15, 0.2,\n",
       "                                                          0.25, 0.3],\n",
       "                                        'max_depth': [5, 6, 8, 10, 12, 15, 17,\n",
       "                                                      20],\n",
       "                                        'min_child_weight': [1, 3, 5]},\n",
       "                   pre_dispatch='2*n_jobs', random_state=42, refit=True,\n",
       "                   return_train_score=False, scoring='accuracy', verbose=10)"
      ]
     },
     "execution_count": 24,
     "metadata": {},
     "output_type": "execute_result"
    }
   ],
   "source": [
    "random_xgb.fit(X_train_transformed, y_train)"
   ]
  },
  {
   "cell_type": "code",
   "execution_count": 25,
   "metadata": {
    "ExecuteTime": {
     "end_time": "2020-05-02T14:55:13.252169Z",
     "start_time": "2020-05-02T14:55:13.236547Z"
    }
   },
   "outputs": [
    {
     "name": "stdout",
     "output_type": "stream",
     "text": [
      "best accuracy: 0.8026725589225588\n"
     ]
    },
    {
     "data": {
      "text/plain": [
       "{'min_child_weight': 1,\n",
       " 'max_depth': 20,\n",
       " 'learning_rate': 0.1,\n",
       " 'gamma': 0.4,\n",
       " 'colsample_bytree': 0.4}"
      ]
     },
     "execution_count": 25,
     "metadata": {},
     "output_type": "execute_result"
    }
   ],
   "source": [
    "# Best accurary score \n",
    "print('best accuracy:', random_xgb.best_score_)\n",
    "\n",
    "# Best parameter settings \n",
    "random_xgb.best_params_"
   ]
  },
  {
   "cell_type": "code",
   "execution_count": 26,
   "metadata": {
    "ExecuteTime": {
     "end_time": "2020-05-02T14:56:36.504696Z",
     "start_time": "2020-05-02T14:56:20.298329Z"
    }
   },
   "outputs": [
    {
     "name": "stdout",
     "output_type": "stream",
     "text": [
      "--\n",
      "test  recall = 0.8076599326599326\n",
      "train recall = 0.9602693602693603\n",
      "--\n",
      "test  precision = 0.8009537011881787\n",
      "train precision = 0.9610336100836806\n",
      "--\n",
      "test  accuracy = 0.8076599326599326\n",
      "train accuracy = 0.9602693602693603\n",
      "--\n",
      "                         precision    recall  f1-score   support\n",
      "\n",
      "             functional       0.79      0.91      0.85      6452\n",
      "functional needs repair       0.61      0.22      0.32       863\n",
      "         non functional       0.85      0.77      0.81      4565\n",
      "\n",
      "               accuracy                           0.81     11880\n",
      "              macro avg       0.75      0.63      0.66     11880\n",
      "           weighted avg       0.80      0.81      0.79     11880\n",
      "\n"
     ]
    }
   ],
   "source": [
    "model_eval(random_xgb,X_train_transformed,X_val_transformed,y_train,y_val,'XGBoost_Random')"
   ]
  },
  {
   "cell_type": "code",
   "execution_count": 32,
   "metadata": {
    "ExecuteTime": {
     "end_time": "2020-05-04T11:27:22.168413Z",
     "start_time": "2020-05-04T11:27:22.121518Z"
    }
   },
   "outputs": [
    {
     "ename": "NameError",
     "evalue": "name 'random_xgb' is not defined",
     "output_type": "error",
     "traceback": [
      "\u001b[1;31m---------------------------------------------------------------------------\u001b[0m",
      "\u001b[1;31mNameError\u001b[0m                                 Traceback (most recent call last)",
      "\u001b[1;32m<ipython-input-32-a8b026cf687a>\u001b[0m in \u001b[0;36m<module>\u001b[1;34m\u001b[0m\n\u001b[0;32m      1\u001b[0m \u001b[0mplt\u001b[0m\u001b[1;33m.\u001b[0m\u001b[0mfigure\u001b[0m\u001b[1;33m(\u001b[0m\u001b[0mfigsize\u001b[0m\u001b[1;33m=\u001b[0m\u001b[1;33m(\u001b[0m\u001b[1;36m20\u001b[0m\u001b[1;33m,\u001b[0m\u001b[1;36m15\u001b[0m\u001b[1;33m)\u001b[0m\u001b[1;33m)\u001b[0m\u001b[1;33m\u001b[0m\u001b[1;33m\u001b[0m\u001b[0m\n\u001b[1;32m----> 2\u001b[1;33m \u001b[0mplot_importance\u001b[0m\u001b[1;33m(\u001b[0m\u001b[0mrandom_xgb\u001b[0m\u001b[1;33m,\u001b[0m \u001b[0max\u001b[0m\u001b[1;33m=\u001b[0m\u001b[0mplt\u001b[0m\u001b[1;33m.\u001b[0m\u001b[0mgca\u001b[0m\u001b[1;33m(\u001b[0m\u001b[1;33m)\u001b[0m\u001b[1;33m)\u001b[0m\u001b[1;33m\u001b[0m\u001b[1;33m\u001b[0m\u001b[0m\n\u001b[0m",
      "\u001b[1;31mNameError\u001b[0m: name 'random_xgb' is not defined"
     ]
    },
    {
     "data": {
      "text/plain": [
       "<Figure size 1440x1080 with 0 Axes>"
      ]
     },
     "metadata": {},
     "output_type": "display_data"
    }
   ],
   "source": [
    "plt.figure(figsize=(20,15))\n",
    "plot_importance(random_xgb, ax=plt.gca())"
   ]
  },
  {
   "cell_type": "markdown",
   "metadata": {},
   "source": [
    "## Neural Network: Multilayer Perceptron Classifier"
   ]
  },
  {
   "cell_type": "code",
   "execution_count": 14,
   "metadata": {
    "ExecuteTime": {
     "end_time": "2020-05-03T09:45:27.628105Z",
     "start_time": "2020-05-03T09:45:27.596891Z"
    }
   },
   "outputs": [],
   "source": [
    "from sklearn.neural_network import MLPClassifier"
   ]
  },
  {
   "cell_type": "code",
   "execution_count": 26,
   "metadata": {
    "ExecuteTime": {
     "end_time": "2020-05-02T18:32:14.990437Z",
     "start_time": "2020-05-02T18:30:46.657828Z"
    },
    "scrolled": true
   },
   "outputs": [
    {
     "data": {
      "text/plain": [
       "MLPClassifier(activation='relu', alpha=0.0001, batch_size='auto', beta_1=0.9,\n",
       "              beta_2=0.999, early_stopping=False, epsilon=1e-08,\n",
       "              hidden_layer_sizes=(100,), learning_rate='constant',\n",
       "              learning_rate_init=0.001, max_fun=15000, max_iter=200,\n",
       "              momentum=0.9, n_iter_no_change=10, nesterovs_momentum=True,\n",
       "              power_t=0.5, random_state=None, shuffle=True, solver='adam',\n",
       "              tol=0.0001, validation_fraction=0.1, verbose=False,\n",
       "              warm_start=False)"
      ]
     },
     "execution_count": 26,
     "metadata": {},
     "output_type": "execute_result"
    }
   ],
   "source": [
    "snn_classifier = MLPClassifier()\n",
    "snn_classifier.fit(X_train_transformed, y_train)\n",
    "#snn_predictions = snn_classifier.predict(training_inputs)"
   ]
  },
  {
   "cell_type": "code",
   "execution_count": 29,
   "metadata": {
    "ExecuteTime": {
     "end_time": "2020-05-02T18:33:07.704682Z",
     "start_time": "2020-05-02T18:33:05.298350Z"
    },
    "scrolled": false
   },
   "outputs": [
    {
     "name": "stdout",
     "output_type": "stream",
     "text": [
      "--\n",
      "test  recall = 0.7739057239057239\n",
      "train recall = 0.8652146464646465\n",
      "--\n",
      "test  precision = 0.7656823736849747\n",
      "train precision = 0.8644688851361246\n",
      "--\n",
      "test  accuracy = 0.7739057239057239\n",
      "train accuracy = 0.8652146464646465\n",
      "--\n",
      "                         precision    recall  f1-score   support\n",
      "\n",
      "             functional       0.79      0.86      0.82      6452\n",
      "functional needs repair       0.41      0.28      0.33       863\n",
      "         non functional       0.80      0.74      0.77      4565\n",
      "\n",
      "               accuracy                           0.77     11880\n",
      "              macro avg       0.67      0.63      0.64     11880\n",
      "           weighted avg       0.77      0.77      0.77     11880\n",
      "\n"
     ]
    }
   ],
   "source": [
    "model_eval(snn_classifier,X_train_transformed,X_val_transformed, y_train,y_val,'SNN_MLP')"
   ]
  },
  {
   "cell_type": "code",
   "execution_count": 23,
   "metadata": {
    "ExecuteTime": {
     "end_time": "2020-05-03T10:26:49.153070Z",
     "start_time": "2020-05-03T10:20:18.247370Z"
    }
   },
   "outputs": [
    {
     "name": "stdout",
     "output_type": "stream",
     "text": [
      "--\n",
      "test  recall = 0.7693602693602694\n",
      "train recall = 0.9056607744107744\n",
      "--\n",
      "test  precision = 0.7614163568847562\n",
      "train precision = 0.9053384775839667\n",
      "--\n",
      "test  accuracy = 0.7693602693602694\n",
      "train accuracy = 0.9056607744107744\n",
      "--\n",
      "                         precision    recall  f1-score   support\n",
      "\n",
      "             functional       0.79      0.84      0.82      6452\n",
      "functional needs repair       0.39      0.29      0.33       863\n",
      "         non functional       0.78      0.76      0.77      4565\n",
      "\n",
      "               accuracy                           0.77     11880\n",
      "              macro avg       0.66      0.63      0.64     11880\n",
      "           weighted avg       0.76      0.77      0.76     11880\n",
      "\n"
     ]
    }
   ],
   "source": [
    "# dnn_classifier = MLPClassifier(hidden_layer_sizes = [125]*3)\n",
    "# dnn_classifier = MLPClassifier(hidden_layer_sizes=(15,), random_state=42, max_iter=1, warm_start=True)\n",
    "dnn_classifier = MLPClassifier(hidden_layer_sizes=(150,150,150,150,150),random_state=42,max_iter=500)\n",
    "dnn_classifier.fit(X_train_transformed, y_train)\n",
    "model_eval(dnn_classifier,X_train_transformed,X_val_transformed, y_train,y_val,'DNN_MLP')"
   ]
  },
  {
   "cell_type": "code",
   "execution_count": 25,
   "metadata": {
    "ExecuteTime": {
     "end_time": "2020-05-04T07:09:12.775849Z",
     "start_time": "2020-05-04T06:58:41.698370Z"
    }
   },
   "outputs": [
    {
     "data": {
      "text/plain": [
       "RandomizedSearchCV(cv=None, error_score=nan,\n",
       "                   estimator=MLPClassifier(activation='relu', alpha=0.0001,\n",
       "                                           batch_size='auto', beta_1=0.9,\n",
       "                                           beta_2=0.999, early_stopping=False,\n",
       "                                           epsilon=1e-08,\n",
       "                                           hidden_layer_sizes=(100,),\n",
       "                                           learning_rate='constant',\n",
       "                                           learning_rate_init=0.001,\n",
       "                                           max_fun=15000, max_iter=200,\n",
       "                                           momentum=0.9, n_iter_no_change=10,\n",
       "                                           nesterovs_momentum=True, power_t=0.5,\n",
       "                                           ran...\n",
       "                   iid='deprecated', n_iter=10, n_jobs=-1,\n",
       "                   param_distributions={'alpha': array([1.e-01, 1.e-02, 1.e-03, 1.e-04, 1.e-05, 1.e-06, 1.e-07, 1.e-08,\n",
       "       1.e-09]),\n",
       "                                        'hidden_layer_sizes': array([10, 11, 12, 13, 14]),\n",
       "                                        'max_iter': [10, 100, 1000, 1250, 1500,\n",
       "                                                     1750, 2000],\n",
       "                                        'solver': ['lbfgs', 'adam']},\n",
       "                   pre_dispatch='2*n_jobs', random_state=None, refit=True,\n",
       "                   return_train_score=False, scoring=None, verbose=0)"
      ]
     },
     "execution_count": 25,
     "metadata": {},
     "output_type": "execute_result"
    }
   ],
   "source": [
    "parameters = {'solver': ['lbfgs','adam'],\n",
    "              'max_iter': [10,100,1000,1250,1500, 1750, 2000], \n",
    "              'alpha': 10.0 ** -np.arange(1, 10), \n",
    "              'hidden_layer_sizes':np.arange(10, 15)}\n",
    "clf = RandomizedSearchCV(MLPClassifier(random_state=42), parameters, n_jobs=-1)\n",
    "\n",
    "clf.fit(X_train_transformed, y_train)"
   ]
  },
  {
   "cell_type": "code",
   "execution_count": 26,
   "metadata": {
    "ExecuteTime": {
     "end_time": "2020-05-04T07:11:05.178994Z",
     "start_time": "2020-05-04T07:11:02.882686Z"
    }
   },
   "outputs": [
    {
     "name": "stdout",
     "output_type": "stream",
     "text": [
      "--\n",
      "test  recall = 0.7763468013468013\n",
      "train recall = 0.7906986531986532\n",
      "--\n",
      "test  precision = 0.7668382310307768\n",
      "train precision = 0.788266515136355\n",
      "--\n",
      "test  accuracy = 0.7763468013468013\n",
      "train accuracy = 0.7906986531986532\n",
      "--\n",
      "                         precision    recall  f1-score   support\n",
      "\n",
      "             functional       0.76      0.90      0.83      6452\n",
      "functional needs repair       0.49      0.17      0.25       863\n",
      "         non functional       0.83      0.71      0.76      4565\n",
      "\n",
      "               accuracy                           0.78     11880\n",
      "              macro avg       0.69      0.59      0.61     11880\n",
      "           weighted avg       0.77      0.78      0.76     11880\n",
      "\n"
     ]
    }
   ],
   "source": [
    "model_eval(clf,X_train_transformed,X_val_transformed,y_train,y_val,'MLP_RandomSearch')"
   ]
  },
  {
   "cell_type": "markdown",
   "metadata": {},
   "source": [
    "## How about imbalanced data"
   ]
  },
  {
   "cell_type": "code",
   "execution_count": null,
   "metadata": {},
   "outputs": [],
   "source": [
    "# from imblearn.over_sampling import SMOTE\n",
    "# sm = SMOTE()\n",
    "# resampled_training_inputs, resampled_training_outputs_labels = sm.fit_resample(training_inputs, training_outputs_labels)"
   ]
  },
  {
   "cell_type": "markdown",
   "metadata": {},
   "source": [
    "## Playing with learning curves"
   ]
  },
  {
   "cell_type": "code",
   "execution_count": 27,
   "metadata": {
    "ExecuteTime": {
     "end_time": "2020-05-02T16:29:34.287333Z",
     "start_time": "2020-05-02T15:58:59.845193Z"
    }
   },
   "outputs": [
    {
     "data": {
      "image/png": "[encoded data removed]",
      "text/plain": [
       "<Figure size 432x288 with 1 Axes>"
      ]
     },
     "metadata": {},
     "output_type": "display_data"
    }
   ],
   "source": [
    "from sklearn.model_selection import learning_curve\n",
    "# Create CV training and test scores for various training set sizes\n",
    "train_sizes, train_scores, test_scores = learning_curve(RandomForestClassifier(), \n",
    "                                                        X_train_transformed, \n",
    "                                                        y_train,\n",
    "                                                        # Number of folds in cross-validation\n",
    "                                                        cv=5,\n",
    "                                                        # Evaluation metric\n",
    "                                                        scoring='accuracy',\n",
    "                                                        # Use all computer cores\n",
    "                                                        n_jobs=-1, \n",
    "                                                        # 50 different sizes of the training set\n",
    "                                                        train_sizes=np.linspace(0.01, 1.0, 50))\n",
    "\n",
    "# Create means and standard deviations of training set scores\n",
    "train_mean = np.mean(train_scores, axis=1)\n",
    "train_std = np.std(train_scores, axis=1)\n",
    "\n",
    "# Create means and standard deviations of test set scores\n",
    "test_mean = np.mean(test_scores, axis=1)\n",
    "test_std = np.std(test_scores, axis=1)\n",
    "\n",
    "# Draw lines\n",
    "plt.plot(train_sizes, train_mean, '--', color=\"#111111\",  label=\"Training score\")\n",
    "plt.plot(train_sizes, test_mean, color=\"#111111\", label=\"Cross-validation score\")\n",
    "\n",
    "# Draw bands\n",
    "plt.fill_between(train_sizes, train_mean - train_std, train_mean + train_std, color=\"#DDDDDD\")\n",
    "plt.fill_between(train_sizes, test_mean - test_std, test_mean + test_std, color=\"#DDDDDD\")\n",
    "\n",
    "# Create plot\n",
    "plt.title(\"Learning Curve\")\n",
    "plt.xlabel(\"Training Set Size\"), plt.ylabel(\"Accuracy Score\"), plt.legend(loc=\"best\")\n",
    "plt.tight_layout()\n",
    "plt.show()"
   ]
  },
  {
   "cell_type": "markdown",
   "metadata": {},
   "source": [
    "# Appendix"
   ]
  },
  {
   "cell_type": "code",
   "execution_count": 34,
   "metadata": {
    "ExecuteTime": {
     "end_time": "2020-05-02T18:54:26.865558Z",
     "start_time": "2020-05-02T18:53:03.440859Z"
    }
   },
   "outputs": [
    {
     "data": {
      "image/png": "[encoded data removed]",
      "text/plain": [
       "<Figure size 576x396 with 1 Axes>"
      ]
     },
     "metadata": {},
     "output_type": "display_data"
    },
    {
     "data": {
      "text/plain": [
       "<matplotlib.axes._subplots.AxesSubplot at 0x1a8ec293d30>"
      ]
     },
     "execution_count": 34,
     "metadata": {},
     "output_type": "execute_result"
    }
   ],
   "source": [
    "from yellowbrick.classifier import ClassPredictionError\n",
    "\n",
    "classes = [\"functional\", \"functional needs repair\", \"non functional\"]\n",
    "visualizer = ClassPredictionError(MLPClassifier(), classes=classes)\n",
    "\n",
    "# Fit the training data to the visualizer\n",
    "visualizer.fit(X_train_transformed, y_train)\n",
    "\n",
    "# Evaluate the model on the test data\n",
    "visualizer.score(X_val_transformed, y_val)\n",
    "\n",
    "# Draw visualization\n",
    "visualizer.show()"
   ]
  },
  {
   "cell_type": "markdown",
   "metadata": {},
   "source": [
    "## Preparing Submission"
   ]
  },
  {
   "cell_type": "code",
   "execution_count": 47,
   "metadata": {
    "ExecuteTime": {
     "end_time": "2020-05-02T18:00:39.799680Z",
     "start_time": "2020-05-02T18:00:39.752816Z"
    }
   },
   "outputs": [],
   "source": [
    "submission = pd.read_pickle(DATA_FOLDER+'test_featured_clean.pkl')"
   ]
  },
  {
   "cell_type": "code",
   "execution_count": 30,
   "metadata": {
    "ExecuteTime": {
     "end_time": "2020-05-02T17:04:40.933396Z",
     "start_time": "2020-05-02T17:04:39.557997Z"
    }
   },
   "outputs": [],
   "source": [
    "id_predicted = random_xgb.predict(X_val_transformed)"
   ]
  },
  {
   "cell_type": "code",
   "execution_count": 31,
   "metadata": {
    "ExecuteTime": {
     "end_time": "2020-05-02T17:05:48.092681Z",
     "start_time": "2020-05-02T17:05:48.077070Z"
    }
   },
   "outputs": [],
   "source": [
    "xgb_pred_label = pd.Series(id_predicted)"
   ]
  },
  {
   "cell_type": "code",
   "execution_count": 36,
   "metadata": {
    "ExecuteTime": {
     "end_time": "2020-05-02T17:06:43.764123Z",
     "start_time": "2020-05-02T17:06:43.748500Z"
    }
   },
   "outputs": [
    {
     "data": {
      "text/plain": [
       "functional                 0.624074\n",
       "non functional             0.349411\n",
       "functional needs repair    0.026515\n",
       "dtype: float64"
      ]
     },
     "execution_count": 36,
     "metadata": {},
     "output_type": "execute_result"
    }
   ],
   "source": [
    "xgb_pred_label.value_counts(normalize=True)"
   ]
  },
  {
   "cell_type": "code",
   "execution_count": 49,
   "metadata": {
    "ExecuteTime": {
     "end_time": "2020-05-02T18:00:47.769925Z",
     "start_time": "2020-05-02T18:00:47.691751Z"
    }
   },
   "outputs": [],
   "source": [
    "#submission.drop(to_drop,1, inplace=True)\n",
    "submission_trans = preprocessor.transform(submission.drop(to_drop,1))"
   ]
  },
  {
   "cell_type": "code",
   "execution_count": 50,
   "metadata": {
    "ExecuteTime": {
     "end_time": "2020-05-02T18:00:57.396624Z",
     "start_time": "2020-05-02T18:00:55.693005Z"
    }
   },
   "outputs": [],
   "source": [
    "sub_pred = random_xgb.predict(submission_trans)"
   ]
  },
  {
   "cell_type": "code",
   "execution_count": 52,
   "metadata": {
    "ExecuteTime": {
     "end_time": "2020-05-02T18:01:17.150759Z",
     "start_time": "2020-05-02T18:01:17.119287Z"
    }
   },
   "outputs": [],
   "source": [
    "competition = pd.DataFrame({'id':submission.id,'status_group':sub_pred.astype(str)})"
   ]
  },
  {
   "cell_type": "code",
   "execution_count": 32,
   "metadata": {
    "ExecuteTime": {
     "end_time": "2020-05-02T18:49:05.426954Z",
     "start_time": "2020-05-02T18:49:05.395938Z"
    },
    "scrolled": true
   },
   "outputs": [
    {
     "ename": "NameError",
     "evalue": "name 'competition' is not defined",
     "output_type": "error",
     "traceback": [
      "\u001b[1;31m---------------------------------------------------------------------------\u001b[0m",
      "\u001b[1;31mNameError\u001b[0m                                 Traceback (most recent call last)",
      "\u001b[1;32m<ipython-input-32-47a7d88db3d5>\u001b[0m in \u001b[0;36m<module>\u001b[1;34m\u001b[0m\n\u001b[1;32m----> 1\u001b[1;33m \u001b[0mcompetition\u001b[0m\u001b[1;33m.\u001b[0m\u001b[0mhead\u001b[0m\u001b[1;33m(\u001b[0m\u001b[1;36m25\u001b[0m\u001b[1;33m)\u001b[0m\u001b[1;33m\u001b[0m\u001b[1;33m\u001b[0m\u001b[0m\n\u001b[0m",
      "\u001b[1;31mNameError\u001b[0m: name 'competition' is not defined"
     ]
    }
   ],
   "source": [
    "competition.head(25)"
   ]
  },
  {
   "cell_type": "code",
   "execution_count": 55,
   "metadata": {
    "ExecuteTime": {
     "end_time": "2020-05-02T18:04:10.463989Z",
     "start_time": "2020-05-02T18:04:10.354422Z"
    }
   },
   "outputs": [],
   "source": [
    "competition.to_csv(DATA_FOLDER+'Submission_1.csv',index=False)"
   ]
  }
 ],
 "metadata": {
  "kernelspec": {
   "display_name": "Python [conda env:nf] *",
   "language": "python",
   "name": "conda-env-nf-py"
  },
  "language_info": {
   "codemirror_mode": {
    "name": "ipython",
    "version": 3
   },
   "file_extension": ".py",
   "mimetype": "text/x-python",
   "name": "python",
   "nbconvert_exporter": "python",
   "pygments_lexer": "ipython3",
   "version": "3.6.10"
  },
  "toc": {
   "base_numbering": 1,
   "nav_menu": {},
   "number_sections": true,
   "sideBar": true,
   "skip_h1_title": false,
   "title_cell": "Table of Contents",
   "title_sidebar": "Contents",
   "toc_cell": true,
   "toc_position": {
    "height": "calc(100% - 180px)",
    "left": "10px",
    "top": "150px",
    "width": "384px"
   },
   "toc_section_display": true,
   "toc_window_display": true
  }
 },
 "nbformat": 4,
 "nbformat_minor": 4
}
